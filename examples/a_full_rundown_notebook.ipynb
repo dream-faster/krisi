{
 "cells": [
  {
   "attachments": {},
   "cell_type": "markdown",
   "metadata": {},
   "source": [
    "# `Krisi` Quick Intro Notebook\n",
    "---\n",
    "Welcome to Krisi! This notebook helps you get onboard with the core functionality of `Krisi`.\n",
    "\n",
    "By the end you will be able to:\n",
    "* evaluate your Time-Series predictions, \n",
    "* save the results and \n",
    "* generate a report.\n",
    "* comparing multiple scorecards.\n",
    "\n",
    "---\n",
    "\n",
    "## Evaluating the results of a single ScoreCard\n",
    "### First, let's import the needed libraries:"
   ]
  },
  {
   "cell_type": "code",
   "execution_count": 9,
   "metadata": {},
   "outputs": [],
   "source": [
    "import numpy as np\n",
    "from krisi import score"
   ]
  },
  {
   "attachments": {},
   "cell_type": "markdown",
   "metadata": {},
   "source": [
    "### Generate normally distributed synthetic data for demonstration purposes"
   ]
  },
  {
   "cell_type": "code",
   "execution_count": 10,
   "metadata": {},
   "outputs": [],
   "source": [
    "y=np.random.normal(0, 0.1, 1000) # Targets\n",
    "predictions=np.random.normal(0, 0.1, 1000) # Artifical predictions"
   ]
  },
  {
   "attachments": {},
   "cell_type": "markdown",
   "metadata": {},
   "source": [
    "### Use the `score` helper function to evaluate your results\n",
    "\n",
    "`score` simply wraps `ScoreCard` initalization and `ScoreCard.evaluate()` ."
   ]
  },
  {
   "cell_type": "code",
   "execution_count": 11,
   "metadata": {},
   "outputs": [],
   "source": [
    "scorecard = score(y=y, predictions=predictions)"
   ]
  },
  {
   "attachments": {},
   "cell_type": "markdown",
   "metadata": {},
   "source": [
    "The ScoreCard object is the main engine of `krisi`. It stores the `targets` and `predictions`, the metrics that we have specified (default metrics and custom metrics) and useful *optional* metadata, such as `model_name`, `dataset_description`, etc.\n",
    "\n",
    "Once we have the ScoreCard evaluated, we can generate various reports with it."
   ]
  },
  {
   "cell_type": "code",
   "execution_count": 12,
   "metadata": {},
   "outputs": [
    {
     "data": {
      "text/html": [
       "<pre style=\"white-space:pre;overflow-x:auto;line-height:normal;font-family:Menlo,'DejaVu Sans Mono',consolas,'Courier New',monospace\">                     Mean Absolute Error - <span style=\"color: #008080; text-decoration-color: #008080; font-weight: bold\">0.1134</span>         \n",
       "          Mean Absolute Percentage Error - <span style=\"color: #008080; text-decoration-color: #008080; font-weight: bold\">4.9887</span>         \n",
       "                      Mean Squared Error - <span style=\"color: #008080; text-decoration-color: #008080; font-weight: bold\">0.019888</span>       \n",
       "                 Root Mean Squared Error - <span style=\"color: #008080; text-decoration-color: #008080; font-weight: bold\">0.14103</span>        \n",
       "                               R-squared - <span style=\"color: #008080; text-decoration-color: #008080; font-weight: bold\">-0.91848</span>       \n",
       "                   Mean of the Residuals - <span style=\"color: #008080; text-decoration-color: #008080; font-weight: bold\">0.0025499</span>      \n",
       "     Standard Deviation of the Residuals - <span style=\"color: #008080; text-decoration-color: #008080; font-weight: bold\">0.141</span>          \n",
       "</pre>\n"
      ],
      "text/plain": [
       "                     Mean Absolute Error - \u001b[1;36m0.1134\u001b[0m         \n",
       "          Mean Absolute Percentage Error - \u001b[1;36m4.9887\u001b[0m         \n",
       "                      Mean Squared Error - \u001b[1;36m0.019888\u001b[0m       \n",
       "                 Root Mean Squared Error - \u001b[1;36m0.14103\u001b[0m        \n",
       "                               R-squared - \u001b[1;36m-0.91848\u001b[0m       \n",
       "                   Mean of the Residuals - \u001b[1;36m0.0025499\u001b[0m      \n",
       "     Standard Deviation of the Residuals - \u001b[1;36m0.141\u001b[0m          \n"
      ]
     },
     "metadata": {},
     "output_type": "display_data"
    }
   ],
   "source": [
    "''' Printing a minimal result by passing in `extended = False` '''\n",
    "scorecard.print_summary(extended=False)"
   ]
  },
  {
   "cell_type": "code",
   "execution_count": 13,
   "metadata": {},
   "outputs": [
    {
     "data": {
      "text/html": [
       "<pre style=\"white-space:pre;overflow-x:auto;line-height:normal;font-family:Menlo,'DejaVu Sans Mono',consolas,'Courier New',monospace\">┏━━━━━━━ Result of Model:20230129-19541707522556 on Dataset:20230129-1954170b53b7e3 tested on outofsample ━━━━━━━━┓\n",
       "┃                                                                                                                 ┃\n",
       "┃ <span style=\"font-style: italic\">                                       Targets and Predictions Analysis                                        </span> ┃\n",
       "┃ ╭────────────────────┬──────────────────────────────────────────────────────────┬──────────────┬──────────────╮ ┃\n",
       "┃ │<span style=\"font-weight: bold\">        Series Type </span>│<span style=\"font-weight: bold\"> Histogram                                                </span>│<span style=\"font-weight: bold\">        Types </span>│<span style=\"font-weight: bold\">     Indicies </span>│ ┃\n",
       "┃ ├────────────────────┼──────────────────────────────────────────────────────────┼──────────────┼──────────────┤ ┃\n",
       "┃ │<span style=\"color: #008080; text-decoration-color: #008080\">            Targets </span>│<span style=\"color: #008080; text-decoration-color: #008080\"> </span><span style=\"color: #008080; text-decoration-color: #008080; background-color: #000000\">    </span><span style=\"color: #808000; text-decoration-color: #808000; background-color: #000000\">┌──────────────────────────────────────────────────┐</span><span style=\"color: #008080; text-decoration-color: #008080\"> </span>│<span style=\"color: #008080; text-decoration-color: #008080\">      NaNs: 0 </span>│<span style=\"color: #008080; text-decoration-color: #008080\">     Start: 0 </span>│ ┃\n",
       "┃ │<span style=\"color: #008080; text-decoration-color: #008080\">                    </span>│<span style=\"color: #008080; text-decoration-color: #008080\"> </span><span style=\"color: #808000; text-decoration-color: #808000; background-color: #000000\">63.0┤</span><span style=\"color: #008080; text-decoration-color: #008080; background-color: #000000\">                       </span><span style=\"color: #0000ff; text-decoration-color: #0000ff; background-color: #000000\">██</span><span style=\"color: #008080; text-decoration-color: #008080; background-color: #000000\"> </span><span style=\"color: #0000ff; text-decoration-color: #0000ff; background-color: #000000\">██████</span><span style=\"color: #008080; text-decoration-color: #008080; background-color: #000000\">                  </span><span style=\"color: #808000; text-decoration-color: #808000; background-color: #000000\">│</span><span style=\"color: #008080; text-decoration-color: #008080\"> </span>│<span style=\"color: #008080; text-decoration-color: #008080\">       dtype: </span>│<span style=\"color: #008080; text-decoration-color: #008080\">     End: 999 </span>│ ┃\n",
       "┃ │<span style=\"color: #008080; text-decoration-color: #008080\">                    </span>│<span style=\"color: #008080; text-decoration-color: #008080\"> </span><span style=\"color: #808000; text-decoration-color: #808000; background-color: #000000\">52.5┤</span><span style=\"color: #008080; text-decoration-color: #008080; background-color: #000000\">                      </span><span style=\"color: #0000ff; text-decoration-color: #0000ff; background-color: #000000\">███████████</span><span style=\"color: #008080; text-decoration-color: #008080; background-color: #000000\">                 </span><span style=\"color: #808000; text-decoration-color: #808000; background-color: #000000\">│</span><span style=\"color: #008080; text-decoration-color: #008080\"> </span>│<span style=\"color: #008080; text-decoration-color: #008080\">      float64 </span>│<span style=\"color: #008080; text-decoration-color: #008080\">              </span>│ ┃\n",
       "┃ │<span style=\"color: #008080; text-decoration-color: #008080\">                    </span>│<span style=\"color: #008080; text-decoration-color: #008080\"> </span><span style=\"color: #808000; text-decoration-color: #808000; background-color: #000000\">42.0┤</span><span style=\"color: #008080; text-decoration-color: #008080; background-color: #000000\">                  </span><span style=\"color: #0000ff; text-decoration-color: #0000ff; background-color: #000000\">████████████████</span><span style=\"color: #008080; text-decoration-color: #008080; background-color: #000000\">  </span><span style=\"color: #0000ff; text-decoration-color: #0000ff; background-color: #000000\">██</span><span style=\"color: #008080; text-decoration-color: #008080; background-color: #000000\">            </span><span style=\"color: #808000; text-decoration-color: #808000; background-color: #000000\">│</span><span style=\"color: #008080; text-decoration-color: #008080\"> </span>│<span style=\"color: #008080; text-decoration-color: #008080\">              </span>│<span style=\"color: #008080; text-decoration-color: #008080\">              </span>│ ┃\n",
       "┃ │<span style=\"color: #008080; text-decoration-color: #008080\">                    </span>│<span style=\"color: #008080; text-decoration-color: #008080\"> </span><span style=\"color: #808000; text-decoration-color: #808000; background-color: #000000\">31.5┤</span><span style=\"color: #008080; text-decoration-color: #008080; background-color: #000000\">                </span><span style=\"color: #0000ff; text-decoration-color: #0000ff; background-color: #000000\">████████████████████████</span><span style=\"color: #008080; text-decoration-color: #008080; background-color: #000000\">          </span><span style=\"color: #808000; text-decoration-color: #808000; background-color: #000000\">│</span><span style=\"color: #008080; text-decoration-color: #008080\"> </span>│<span style=\"color: #008080; text-decoration-color: #008080\">              </span>│<span style=\"color: #008080; text-decoration-color: #008080\">              </span>│ ┃\n",
       "┃ │<span style=\"color: #008080; text-decoration-color: #008080\">                    </span>│<span style=\"color: #008080; text-decoration-color: #008080\"> </span><span style=\"color: #808000; text-decoration-color: #808000; background-color: #000000\">21.0┤</span><span style=\"color: #008080; text-decoration-color: #008080; background-color: #000000\">               </span><span style=\"color: #0000ff; text-decoration-color: #0000ff; background-color: #000000\">█████████████████████████</span><span style=\"color: #008080; text-decoration-color: #008080; background-color: #000000\"> </span><span style=\"color: #0000ff; text-decoration-color: #0000ff; background-color: #000000\">██</span><span style=\"color: #008080; text-decoration-color: #008080; background-color: #000000\">       </span><span style=\"color: #808000; text-decoration-color: #808000; background-color: #000000\">│</span><span style=\"color: #008080; text-decoration-color: #008080\"> </span>│<span style=\"color: #008080; text-decoration-color: #008080\">              </span>│<span style=\"color: #008080; text-decoration-color: #008080\">              </span>│ ┃\n",
       "┃ │<span style=\"color: #008080; text-decoration-color: #008080\">                    </span>│<span style=\"color: #008080; text-decoration-color: #008080\"> </span><span style=\"color: #808000; text-decoration-color: #808000; background-color: #000000\">10.5┤</span><span style=\"color: #008080; text-decoration-color: #008080; background-color: #000000\">         </span><span style=\"color: #0000ff; text-decoration-color: #0000ff; background-color: #000000\">█████████████████████████████████████</span><span style=\"color: #008080; text-decoration-color: #008080; background-color: #000000\">    </span><span style=\"color: #808000; text-decoration-color: #808000; background-color: #000000\">│</span><span style=\"color: #008080; text-decoration-color: #008080\"> </span>│<span style=\"color: #008080; text-decoration-color: #008080\">              </span>│<span style=\"color: #008080; text-decoration-color: #008080\">              </span>│ ┃\n",
       "┃ │<span style=\"color: #008080; text-decoration-color: #008080\">                    </span>│<span style=\"color: #008080; text-decoration-color: #008080\"> </span><span style=\"color: #808000; text-decoration-color: #808000; background-color: #000000\"> 0.0┤</span><span style=\"color: #0000ff; text-decoration-color: #0000ff; background-color: #000000\">█ █████████████████████████████████████████████ ██</span><span style=\"color: #808000; text-decoration-color: #808000; background-color: #000000\">│</span><span style=\"color: #008080; text-decoration-color: #008080\"> </span>│<span style=\"color: #008080; text-decoration-color: #008080\">              </span>│<span style=\"color: #008080; text-decoration-color: #008080\">              </span>│ ┃\n",
       "┃ │<span style=\"color: #008080; text-decoration-color: #008080\">                    </span>│<span style=\"color: #008080; text-decoration-color: #008080\"> </span><span style=\"color: #008080; text-decoration-color: #008080; background-color: #000000\">    </span><span style=\"color: #808000; text-decoration-color: #808000; background-color: #000000\">└┬───────────┬────────────┬───────────┬───────────┬┘</span><span style=\"color: #008080; text-decoration-color: #008080\"> </span>│<span style=\"color: #008080; text-decoration-color: #008080\">              </span>│<span style=\"color: #008080; text-decoration-color: #008080\">              </span>│ ┃\n",
       "┃ │<span style=\"color: #008080; text-decoration-color: #008080\">                    </span>│<span style=\"color: #008080; text-decoration-color: #008080\"> </span><span style=\"color: #008080; text-decoration-color: #008080; background-color: #000000\">   </span><span style=\"color: #808000; text-decoration-color: #808000; background-color: #000000\">-0.35</span><span style=\"color: #008080; text-decoration-color: #008080; background-color: #000000\">       </span><span style=\"color: #808000; text-decoration-color: #808000; background-color: #000000\">-0.19</span><span style=\"color: #008080; text-decoration-color: #008080; background-color: #000000\">        </span><span style=\"color: #808000; text-decoration-color: #808000; background-color: #000000\">-0.03</span><span style=\"color: #008080; text-decoration-color: #008080; background-color: #000000\">       </span><span style=\"color: #808000; text-decoration-color: #808000; background-color: #000000\">0.13</span><span style=\"color: #008080; text-decoration-color: #008080; background-color: #000000\">       </span><span style=\"color: #808000; text-decoration-color: #808000; background-color: #000000\">0.29</span><span style=\"color: #008080; text-decoration-color: #008080; background-color: #000000\"> </span><span style=\"color: #008080; text-decoration-color: #008080\"> </span>│<span style=\"color: #008080; text-decoration-color: #008080\">              </span>│<span style=\"color: #008080; text-decoration-color: #008080\">              </span>│ ┃\n",
       "┃ ├────────────────────┼──────────────────────────────────────────────────────────┼──────────────┼──────────────┤ ┃\n",
       "┃ │<span style=\"color: #008080; text-decoration-color: #008080\">        Predictions </span>│<span style=\"color: #008080; text-decoration-color: #008080\"> </span><span style=\"color: #008080; text-decoration-color: #008080; background-color: #000000\">    </span><span style=\"color: #808000; text-decoration-color: #808000; background-color: #000000\">┌──────────────────────────────────────────────────┐</span><span style=\"color: #008080; text-decoration-color: #008080\"> </span>│<span style=\"color: #008080; text-decoration-color: #008080\">      NaNs: 0 </span>│<span style=\"color: #008080; text-decoration-color: #008080\">     Start: 0 </span>│ ┃\n",
       "┃ │<span style=\"color: #008080; text-decoration-color: #008080\">                    </span>│<span style=\"color: #008080; text-decoration-color: #008080\"> </span><span style=\"color: #808000; text-decoration-color: #808000; background-color: #000000\">70.0┤</span><span style=\"color: #008080; text-decoration-color: #008080; background-color: #000000\">                       </span><span style=\"color: #0000ff; text-decoration-color: #0000ff; background-color: #000000\">██</span><span style=\"color: #008080; text-decoration-color: #008080; background-color: #000000\">                         </span><span style=\"color: #808000; text-decoration-color: #808000; background-color: #000000\">│</span><span style=\"color: #008080; text-decoration-color: #008080\"> </span>│<span style=\"color: #008080; text-decoration-color: #008080\">       dtype: </span>│<span style=\"color: #008080; text-decoration-color: #008080\">     End: 999 </span>│ ┃\n",
       "┃ │<span style=\"color: #008080; text-decoration-color: #008080\">                    </span>│<span style=\"color: #008080; text-decoration-color: #008080\"> </span><span style=\"color: #808000; text-decoration-color: #808000; background-color: #000000\">58.3┤</span><span style=\"color: #008080; text-decoration-color: #008080; background-color: #000000\">                     </span><span style=\"color: #0000ff; text-decoration-color: #0000ff; background-color: #000000\">██████</span><span style=\"color: #008080; text-decoration-color: #008080; background-color: #000000\"> </span><span style=\"color: #0000ff; text-decoration-color: #0000ff; background-color: #000000\">█████</span><span style=\"color: #008080; text-decoration-color: #008080; background-color: #000000\">                 </span><span style=\"color: #808000; text-decoration-color: #808000; background-color: #000000\">│</span><span style=\"color: #008080; text-decoration-color: #008080\"> </span>│<span style=\"color: #008080; text-decoration-color: #008080\">      float64 </span>│<span style=\"color: #008080; text-decoration-color: #008080\">              </span>│ ┃\n",
       "┃ │<span style=\"color: #008080; text-decoration-color: #008080\">                    </span>│<span style=\"color: #008080; text-decoration-color: #008080\"> </span><span style=\"color: #808000; text-decoration-color: #808000; background-color: #000000\">46.7┤</span><span style=\"color: #008080; text-decoration-color: #008080; background-color: #000000\">                  </span><span style=\"color: #0000ff; text-decoration-color: #0000ff; background-color: #000000\">██████████████████</span><span style=\"color: #008080; text-decoration-color: #008080; background-color: #000000\">              </span><span style=\"color: #808000; text-decoration-color: #808000; background-color: #000000\">│</span><span style=\"color: #008080; text-decoration-color: #008080\"> </span>│<span style=\"color: #008080; text-decoration-color: #008080\">              </span>│<span style=\"color: #008080; text-decoration-color: #008080\">              </span>│ ┃\n",
       "┃ │<span style=\"color: #008080; text-decoration-color: #008080\">                    </span>│<span style=\"color: #008080; text-decoration-color: #008080\"> </span><span style=\"color: #808000; text-decoration-color: #808000; background-color: #000000\">35.0┤</span><span style=\"color: #008080; text-decoration-color: #008080; background-color: #000000\">                </span><span style=\"color: #0000ff; text-decoration-color: #0000ff; background-color: #000000\">████████████████████</span><span style=\"color: #008080; text-decoration-color: #008080; background-color: #000000\">              </span><span style=\"color: #808000; text-decoration-color: #808000; background-color: #000000\">│</span><span style=\"color: #008080; text-decoration-color: #008080\"> </span>│<span style=\"color: #008080; text-decoration-color: #008080\">              </span>│<span style=\"color: #008080; text-decoration-color: #008080\">              </span>│ ┃\n",
       "┃ │<span style=\"color: #008080; text-decoration-color: #008080\">                    </span>│<span style=\"color: #008080; text-decoration-color: #008080\"> </span><span style=\"color: #808000; text-decoration-color: #808000; background-color: #000000\">23.3┤</span><span style=\"color: #008080; text-decoration-color: #008080; background-color: #000000\">              </span><span style=\"color: #0000ff; text-decoration-color: #0000ff; background-color: #000000\">██████████████████████████</span><span style=\"color: #008080; text-decoration-color: #008080; background-color: #000000\">          </span><span style=\"color: #808000; text-decoration-color: #808000; background-color: #000000\">│</span><span style=\"color: #008080; text-decoration-color: #008080\"> </span>│<span style=\"color: #008080; text-decoration-color: #008080\">              </span>│<span style=\"color: #008080; text-decoration-color: #008080\">              </span>│ ┃\n",
       "┃ │<span style=\"color: #008080; text-decoration-color: #008080\">                    </span>│<span style=\"color: #008080; text-decoration-color: #008080\"> </span><span style=\"color: #808000; text-decoration-color: #808000; background-color: #000000\">11.7┤</span><span style=\"color: #008080; text-decoration-color: #008080; background-color: #000000\">         </span><span style=\"color: #0000ff; text-decoration-color: #0000ff; background-color: #000000\">██████████████████████████████████</span><span style=\"color: #008080; text-decoration-color: #008080; background-color: #000000\">       </span><span style=\"color: #808000; text-decoration-color: #808000; background-color: #000000\">│</span><span style=\"color: #008080; text-decoration-color: #008080\"> </span>│<span style=\"color: #008080; text-decoration-color: #008080\">              </span>│<span style=\"color: #008080; text-decoration-color: #008080\">              </span>│ ┃\n",
       "┃ │<span style=\"color: #008080; text-decoration-color: #008080\">                    </span>│<span style=\"color: #008080; text-decoration-color: #008080\"> </span><span style=\"color: #808000; text-decoration-color: #808000; background-color: #000000\"> 0.0┤</span><span style=\"color: #0000ff; text-decoration-color: #0000ff; background-color: #000000\">██████████████████████████████████████████████████</span><span style=\"color: #808000; text-decoration-color: #808000; background-color: #000000\">│</span><span style=\"color: #008080; text-decoration-color: #008080\"> </span>│<span style=\"color: #008080; text-decoration-color: #008080\">              </span>│<span style=\"color: #008080; text-decoration-color: #008080\">              </span>│ ┃\n",
       "┃ │<span style=\"color: #008080; text-decoration-color: #008080\">                    </span>│<span style=\"color: #008080; text-decoration-color: #008080\"> </span><span style=\"color: #008080; text-decoration-color: #008080; background-color: #000000\">    </span><span style=\"color: #808000; text-decoration-color: #808000; background-color: #000000\">└┬───────────┬────────────┬───────────┬───────────┬┘</span><span style=\"color: #008080; text-decoration-color: #008080\"> </span>│<span style=\"color: #008080; text-decoration-color: #008080\">              </span>│<span style=\"color: #008080; text-decoration-color: #008080\">              </span>│ ┃\n",
       "┃ │<span style=\"color: #008080; text-decoration-color: #008080\">                    </span>│<span style=\"color: #008080; text-decoration-color: #008080\"> </span><span style=\"color: #008080; text-decoration-color: #008080; background-color: #000000\">   </span><span style=\"color: #808000; text-decoration-color: #808000; background-color: #000000\">-0.32</span><span style=\"color: #008080; text-decoration-color: #008080; background-color: #000000\">       </span><span style=\"color: #808000; text-decoration-color: #808000; background-color: #000000\">-0.17</span><span style=\"color: #008080; text-decoration-color: #008080; background-color: #000000\">        </span><span style=\"color: #808000; text-decoration-color: #808000; background-color: #000000\">-0.02</span><span style=\"color: #008080; text-decoration-color: #008080; background-color: #000000\">       </span><span style=\"color: #808000; text-decoration-color: #808000; background-color: #000000\">0.14</span><span style=\"color: #008080; text-decoration-color: #008080; background-color: #000000\">       </span><span style=\"color: #808000; text-decoration-color: #808000; background-color: #000000\">0.29</span><span style=\"color: #008080; text-decoration-color: #008080; background-color: #000000\"> </span><span style=\"color: #008080; text-decoration-color: #008080\"> </span>│<span style=\"color: #008080; text-decoration-color: #008080\">              </span>│<span style=\"color: #008080; text-decoration-color: #008080\">              </span>│ ┃\n",
       "┃ ╰────────────────────┴──────────────────────────────────────────────────────────┴──────────────┴──────────────╯ ┃\n",
       "┃ <span style=\"font-style: italic\">                                             Residual Diagnostics                                              </span> ┃\n",
       "┃ ╭─────────────────────────┬──────────────────────────────────────────────────────────┬────────────────────────╮ ┃\n",
       "┃ │<span style=\"font-weight: bold\">             Metric Name </span>│<span style=\"font-weight: bold\"> Result                                                   </span>│<span style=\"font-weight: bold\"> Parameters             </span>│ ┃\n",
       "┃ ├─────────────────────────┼──────────────────────────────────────────────────────────┼────────────────────────┤ ┃\n",
       "┃ │<span style=\"color: #008080; text-decoration-color: #008080\">   Residuals (residuals) </span>│<span style=\"color: #800080; text-decoration-color: #800080\"> </span><span style=\"color: #800080; text-decoration-color: #800080; background-color: #000000\">     </span><span style=\"color: #808000; text-decoration-color: #808000; background-color: #000000\">┌─────────────────────────────────────────────────┐</span><span style=\"color: #800080; text-decoration-color: #800080\"> </span>│<span style=\"color: #008000; text-decoration-color: #008000\"> </span><span style=\"color: #008000; text-decoration-color: #008000; font-weight: bold\">{}</span><span style=\"color: #008000; text-decoration-color: #008000\">                     </span>│ ┃\n",
       "┃ │<span style=\"color: #008080; text-decoration-color: #008080\">                         </span>│<span style=\"color: #800080; text-decoration-color: #800080\"> </span><span style=\"color: #808000; text-decoration-color: #808000; background-color: #000000\"> 0.59┤</span><span style=\"color: #800080; text-decoration-color: #800080; background-color: #000000\">                        </span><span style=\"color: #0000ff; text-decoration-color: #0000ff; background-color: #000000\">▐</span><span style=\"color: #800080; text-decoration-color: #800080; background-color: #000000\">                        </span><span style=\"color: #808000; text-decoration-color: #808000; background-color: #000000\">│</span><span style=\"color: #800080; text-decoration-color: #800080\"> </span>│<span style=\"color: #008000; text-decoration-color: #008000\">                        </span>│ ┃\n",
       "┃ │<span style=\"color: #008080; text-decoration-color: #008080\">                         </span>│<span style=\"color: #800080; text-decoration-color: #800080\"> </span><span style=\"color: #808000; text-decoration-color: #808000; background-color: #000000\"> 0.42┤</span><span style=\"color: #800080; text-decoration-color: #800080; background-color: #000000\"> </span><span style=\"color: #0000ff; text-decoration-color: #0000ff; background-color: #000000\">▖</span><span style=\"color: #800080; text-decoration-color: #800080; background-color: #000000\">                   </span><span style=\"color: #0000ff; text-decoration-color: #0000ff; background-color: #000000\">▐</span><span style=\"color: #800080; text-decoration-color: #800080; background-color: #000000\">  </span><span style=\"color: #0000ff; text-decoration-color: #0000ff; background-color: #000000\">▐</span><span style=\"color: #800080; text-decoration-color: #800080; background-color: #000000\">  </span><span style=\"color: #0000ff; text-decoration-color: #0000ff; background-color: #000000\">▗</span><span style=\"color: #800080; text-decoration-color: #800080; background-color: #000000\"> </span><span style=\"color: #0000ff; text-decoration-color: #0000ff; background-color: #000000\">▖▗</span><span style=\"color: #800080; text-decoration-color: #800080; background-color: #000000\">         </span><span style=\"color: #0000ff; text-decoration-color: #0000ff; background-color: #000000\">▖▐</span><span style=\"color: #800080; text-decoration-color: #800080; background-color: #000000\">     </span><span style=\"color: #0000ff; text-decoration-color: #0000ff; background-color: #000000\">▗</span><span style=\"color: #800080; text-decoration-color: #800080; background-color: #000000\"> </span><span style=\"color: #808000; text-decoration-color: #808000; background-color: #000000\">│</span><span style=\"color: #800080; text-decoration-color: #800080\"> </span>│<span style=\"color: #008000; text-decoration-color: #008000\">                        </span>│ ┃\n",
       "┃ │<span style=\"color: #008080; text-decoration-color: #008080\">                         </span>│<span style=\"color: #800080; text-decoration-color: #800080\"> </span><span style=\"color: #808000; text-decoration-color: #808000; background-color: #000000\"> 0.25┤</span><span style=\"color: #0000ff; text-decoration-color: #0000ff; background-color: #000000\">▗▙</span><span style=\"color: #800080; text-decoration-color: #800080; background-color: #000000\"> </span><span style=\"color: #0000ff; text-decoration-color: #0000ff; background-color: #000000\">▗</span><span style=\"color: #800080; text-decoration-color: #800080; background-color: #000000\"> </span><span style=\"color: #0000ff; text-decoration-color: #0000ff; background-color: #000000\">█▄▖▖▙▄▟▄▗█▙▌▄▟▗▖▟▐██▄▐▟█▙▟▟▟▐▄▄▖▗▌█▙▟▟█▄▖▟█▖</span><span style=\"color: #808000; text-decoration-color: #808000; background-color: #000000\">│</span><span style=\"color: #800080; text-decoration-color: #800080\"> </span>│<span style=\"color: #008000; text-decoration-color: #008000\">                        </span>│ ┃\n",
       "┃ │<span style=\"color: #008080; text-decoration-color: #008080\">                         </span>│<span style=\"color: #800080; text-decoration-color: #800080\"> </span><span style=\"color: #808000; text-decoration-color: #808000; background-color: #000000\"> 0.08┤</span><span style=\"color: #0000ff; text-decoration-color: #0000ff; background-color: #000000\">████▙████████████████████████████████████████████</span><span style=\"color: #808000; text-decoration-color: #808000; background-color: #000000\">│</span><span style=\"color: #800080; text-decoration-color: #800080\"> </span>│<span style=\"color: #008000; text-decoration-color: #008000\">                        </span>│ ┃\n",
       "┃ │<span style=\"color: #008080; text-decoration-color: #008080\">                         </span>│<span style=\"color: #800080; text-decoration-color: #800080\"> </span><span style=\"color: #808000; text-decoration-color: #808000; background-color: #000000\">-0.09┤</span><span style=\"color: #0000ff; text-decoration-color: #0000ff; background-color: #000000\">██████████████████████▛▛███▛███████████▜█████████</span><span style=\"color: #808000; text-decoration-color: #808000; background-color: #000000\">│</span><span style=\"color: #800080; text-decoration-color: #800080\"> </span>│<span style=\"color: #008000; text-decoration-color: #008000\">                        </span>│ ┃\n",
       "┃ │<span style=\"color: #008080; text-decoration-color: #008080\">                         </span>│<span style=\"color: #800080; text-decoration-color: #800080\"> </span><span style=\"color: #808000; text-decoration-color: #808000; background-color: #000000\">-0.26┤</span><span style=\"color: #0000ff; text-decoration-color: #0000ff; background-color: #000000\">▜▐▛▀███▝▌▛▜▘</span><span style=\"color: #800080; text-decoration-color: #800080; background-color: #000000\"> </span><span style=\"color: #0000ff; text-decoration-color: #0000ff; background-color: #000000\">▛</span><span style=\"color: #800080; text-decoration-color: #800080; background-color: #000000\"> </span><span style=\"color: #0000ff; text-decoration-color: #0000ff; background-color: #000000\">▘▀▝▝▛▜▀▌▌▛█▜▘▀▛▝▝▘▝▝▀▀</span><span style=\"color: #800080; text-decoration-color: #800080; background-color: #000000\"> </span><span style=\"color: #0000ff; text-decoration-color: #0000ff; background-color: #000000\">▀▝███▛▐▀▐▜▀</span><span style=\"color: #808000; text-decoration-color: #808000; background-color: #000000\">│</span><span style=\"color: #800080; text-decoration-color: #800080\"> </span>│<span style=\"color: #008000; text-decoration-color: #008000\">                        </span>│ ┃\n",
       "┃ │<span style=\"color: #008080; text-decoration-color: #008080\">                         </span>│<span style=\"color: #800080; text-decoration-color: #800080\"> </span><span style=\"color: #808000; text-decoration-color: #808000; background-color: #000000\">-0.43┤</span><span style=\"color: #800080; text-decoration-color: #800080; background-color: #000000\"> </span><span style=\"color: #0000ff; text-decoration-color: #0000ff; background-color: #000000\">▝▘</span><span style=\"color: #800080; text-decoration-color: #800080; background-color: #000000\"> </span><span style=\"color: #0000ff; text-decoration-color: #0000ff; background-color: #000000\">▝</span><span style=\"color: #800080; text-decoration-color: #800080; background-color: #000000\"> </span><span style=\"color: #0000ff; text-decoration-color: #0000ff; background-color: #000000\">▀</span><span style=\"color: #800080; text-decoration-color: #800080; background-color: #000000\">   </span><span style=\"color: #0000ff; text-decoration-color: #0000ff; background-color: #000000\">▝</span><span style=\"color: #800080; text-decoration-color: #800080; background-color: #000000\">        </span><span style=\"color: #0000ff; text-decoration-color: #0000ff; background-color: #000000\">▘</span><span style=\"color: #800080; text-decoration-color: #800080; background-color: #000000\">   </span><span style=\"color: #0000ff; text-decoration-color: #0000ff; background-color: #000000\">▘</span><span style=\"color: #800080; text-decoration-color: #800080; background-color: #000000\"> </span><span style=\"color: #0000ff; text-decoration-color: #0000ff; background-color: #000000\">▜</span><span style=\"color: #800080; text-decoration-color: #800080; background-color: #000000\">   </span><span style=\"color: #0000ff; text-decoration-color: #0000ff; background-color: #000000\">▌</span><span style=\"color: #800080; text-decoration-color: #800080; background-color: #000000\">          </span><span style=\"color: #0000ff; text-decoration-color: #0000ff; background-color: #000000\">▜▝▝</span><span style=\"color: #800080; text-decoration-color: #800080; background-color: #000000\"> </span><span style=\"color: #0000ff; text-decoration-color: #0000ff; background-color: #000000\">▐</span><span style=\"color: #800080; text-decoration-color: #800080; background-color: #000000\">    </span><span style=\"color: #808000; text-decoration-color: #808000; background-color: #000000\">│</span><span style=\"color: #800080; text-decoration-color: #800080\"> </span>│<span style=\"color: #008000; text-decoration-color: #008000\">                        </span>│ ┃\n",
       "┃ │<span style=\"color: #008080; text-decoration-color: #008080\">                         </span>│<span style=\"color: #800080; text-decoration-color: #800080\"> </span><span style=\"color: #800080; text-decoration-color: #800080; background-color: #000000\">     </span><span style=\"color: #808000; text-decoration-color: #808000; background-color: #000000\">└┬───────────┬───────────┬───────────┬───────────┬┘</span><span style=\"color: #800080; text-decoration-color: #800080\"> </span>│<span style=\"color: #008000; text-decoration-color: #008000\">                        </span>│ ┃\n",
       "┃ │<span style=\"color: #008080; text-decoration-color: #008080\">                         </span>│<span style=\"color: #800080; text-decoration-color: #800080\"> </span><span style=\"color: #800080; text-decoration-color: #800080; background-color: #000000\">     </span><span style=\"color: #808000; text-decoration-color: #808000; background-color: #000000\">1.0</span><span style=\"color: #800080; text-decoration-color: #800080; background-color: #000000\">        </span><span style=\"color: #808000; text-decoration-color: #808000; background-color: #000000\">250.8</span><span style=\"color: #800080; text-decoration-color: #800080; background-color: #000000\">       </span><span style=\"color: #808000; text-decoration-color: #808000; background-color: #000000\">500.5</span><span style=\"color: #800080; text-decoration-color: #800080; background-color: #000000\">       </span><span style=\"color: #808000; text-decoration-color: #808000; background-color: #000000\">750.2</span><span style=\"color: #800080; text-decoration-color: #800080; background-color: #000000\">    </span><span style=\"color: #808000; text-decoration-color: #808000; background-color: #000000\">1000.0</span><span style=\"color: #800080; text-decoration-color: #800080; background-color: #000000\"> </span><span style=\"color: #800080; text-decoration-color: #800080\"> </span>│<span style=\"color: #008000; text-decoration-color: #008000\">                        </span>│ ┃\n",
       "┃ ├─────────────────────────┼──────────────────────────────────────────────────────────┼────────────────────────┤ ┃\n",
       "┃ │<span style=\"color: #008080; text-decoration-color: #008080\">   Mean of the Residuals </span>│<span style=\"color: #800080; text-decoration-color: #800080\"> </span><span style=\"color: #008080; text-decoration-color: #008080; font-weight: bold\">0.003</span><span style=\"color: #800080; text-decoration-color: #800080\">                                                    </span>│<span style=\"color: #008000; text-decoration-color: #008000\"> </span><span style=\"color: #008000; text-decoration-color: #008000; font-weight: bold\">{}</span><span style=\"color: #008000; text-decoration-color: #008000\">                     </span>│ ┃\n",
       "┃ │<span style=\"color: #008080; text-decoration-color: #008080\">        (residuals_mean) </span>│<span style=\"color: #800080; text-decoration-color: #800080\">                                                          </span>│<span style=\"color: #008000; text-decoration-color: #008000\">                        </span>│ ┃\n",
       "┃ ├─────────────────────────┼──────────────────────────────────────────────────────────┼────────────────────────┤ ┃\n",
       "┃ │<span style=\"color: #008080; text-decoration-color: #008080\">   Standard Deviation of </span>│<span style=\"color: #800080; text-decoration-color: #800080\"> </span><span style=\"color: #008080; text-decoration-color: #008080; font-weight: bold\">0.141</span><span style=\"color: #800080; text-decoration-color: #800080\">                                                    </span>│<span style=\"color: #008000; text-decoration-color: #008000\"> </span><span style=\"color: #008000; text-decoration-color: #008000; font-weight: bold\">{}</span><span style=\"color: #008000; text-decoration-color: #008000\">                     </span>│ ┃\n",
       "┃ │<span style=\"color: #008080; text-decoration-color: #008080\">           the Residuals </span>│<span style=\"color: #800080; text-decoration-color: #800080\">                                                          </span>│<span style=\"color: #008000; text-decoration-color: #008000\">                        </span>│ ┃\n",
       "┃ │<span style=\"color: #008080; text-decoration-color: #008080\">         (residuals_std) </span>│<span style=\"color: #800080; text-decoration-color: #800080\">                                                          </span>│<span style=\"color: #008000; text-decoration-color: #008000\">                        </span>│ ┃\n",
       "┃ ├─────────────────────────┼──────────────────────────────────────────────────────────┼────────────────────────┤ ┃\n",
       "┃ │<span style=\"color: #008080; text-decoration-color: #008080\">    Ljung Box Statistics </span>│<span style=\"color: #800080; text-decoration-color: #800080\">      lb_stat  lb_pvalue                                  </span>│<span style=\"color: #008000; text-decoration-color: #008000\"> </span><span style=\"color: #008000; text-decoration-color: #008000; font-weight: bold\">{}</span><span style=\"color: #008000; text-decoration-color: #008000\">                     </span>│ ┃\n",
       "┃ │<span style=\"color: #008080; text-decoration-color: #008080\">  (ljung_box_statistics) </span>│<span style=\"color: #800080; text-decoration-color: #800080\"> </span><span style=\"color: #008080; text-decoration-color: #008080; font-weight: bold\">1</span><span style=\"color: #800080; text-decoration-color: #800080\">   </span><span style=\"color: #008080; text-decoration-color: #008080; font-weight: bold\">1.333556</span><span style=\"color: #800080; text-decoration-color: #800080\">   </span><span style=\"color: #008080; text-decoration-color: #008080; font-weight: bold\">0.248174</span><span style=\"color: #800080; text-decoration-color: #800080\">                                  </span>│<span style=\"color: #008000; text-decoration-color: #008000\">                        </span>│ ┃\n",
       "┃ │<span style=\"color: #008080; text-decoration-color: #008080\">                         </span>│<span style=\"color: #800080; text-decoration-color: #800080\"> </span><span style=\"color: #008080; text-decoration-color: #008080; font-weight: bold\">2</span><span style=\"color: #800080; text-decoration-color: #800080\">   </span><span style=\"color: #008080; text-decoration-color: #008080; font-weight: bold\">1.354332</span><span style=\"color: #800080; text-decoration-color: #800080\">   </span><span style=\"color: #008080; text-decoration-color: #008080; font-weight: bold\">0.508055</span><span style=\"color: #800080; text-decoration-color: #800080\">                                  </span>│<span style=\"color: #008000; text-decoration-color: #008000\">                        </span>│ ┃\n",
       "┃ │<span style=\"color: #008080; text-decoration-color: #008080\">                         </span>│<span style=\"color: #800080; text-decoration-color: #800080\"> </span><span style=\"color: #008080; text-decoration-color: #008080; font-weight: bold\">3</span><span style=\"color: #800080; text-decoration-color: #800080\">   </span><span style=\"color: #008080; text-decoration-color: #008080; font-weight: bold\">2.971255</span><span style=\"color: #800080; text-decoration-color: #800080\">   </span><span style=\"color: #008080; text-decoration-color: #008080; font-weight: bold\">0.396078</span><span style=\"color: #800080; text-decoration-color: #800080\">                                  </span>│<span style=\"color: #008000; text-decoration-color: #008000\">                        </span>│ ┃\n",
       "┃ │<span style=\"color: #008080; text-decoration-color: #008080\">                         </span>│<span style=\"color: #800080; text-decoration-color: #800080\"> </span><span style=\"color: #008080; text-decoration-color: #008080; font-weight: bold\">4</span><span style=\"color: #800080; text-decoration-color: #800080\">   </span><span style=\"color: #008080; text-decoration-color: #008080; font-weight: bold\">5.910525</span><span style=\"color: #800080; text-decoration-color: #800080\">   </span><span style=\"color: #008080; text-decoration-color: #008080; font-weight: bold\">0.205931</span><span style=\"color: #800080; text-decoration-color: #800080\">                                  </span>│<span style=\"color: #008000; text-decoration-color: #008000\">                        </span>│ ┃\n",
       "┃ │<span style=\"color: #008080; text-decoration-color: #008080\">                         </span>│<span style=\"color: #800080; text-decoration-color: #800080\"> </span><span style=\"color: #008080; text-decoration-color: #008080; font-weight: bold\">5</span><span style=\"color: #800080; text-decoration-color: #800080\">   </span><span style=\"color: #008080; text-decoration-color: #008080; font-weight: bold\">6.215481</span><span style=\"color: #800080; text-decoration-color: #800080\">   </span><span style=\"color: #008080; text-decoration-color: #008080; font-weight: bold\">0.285813</span><span style=\"color: #800080; text-decoration-color: #800080\">                                  </span>│<span style=\"color: #008000; text-decoration-color: #008000\">                        </span>│ ┃\n",
       "┃ │<span style=\"color: #008080; text-decoration-color: #008080\">                         </span>│<span style=\"color: #800080; text-decoration-color: #800080\"> </span><span style=\"color: #008080; text-decoration-color: #008080; font-weight: bold\">6</span><span style=\"color: #800080; text-decoration-color: #800080\">   </span><span style=\"color: #008080; text-decoration-color: #008080; font-weight: bold\">6.377506</span><span style=\"color: #800080; text-decoration-color: #800080\">   </span><span style=\"color: #008080; text-decoration-color: #008080; font-weight: bold\">0.382256</span><span style=\"color: #800080; text-decoration-color: #800080\">                                  </span>│<span style=\"color: #008000; text-decoration-color: #008000\">                        </span>│ ┃\n",
       "┃ │<span style=\"color: #008080; text-decoration-color: #008080\">                         </span>│<span style=\"color: #800080; text-decoration-color: #800080\"> </span><span style=\"color: #008080; text-decoration-color: #008080; font-weight: bold\">7</span><span style=\"color: #800080; text-decoration-color: #800080\">   </span><span style=\"color: #008080; text-decoration-color: #008080; font-weight: bold\">6.538012</span><span style=\"color: #800080; text-decoration-color: #800080\">   </span><span style=\"color: #008080; text-decoration-color: #008080; font-weight: bold\">0.478510</span><span style=\"color: #800080; text-decoration-color: #800080\">                                  </span>│<span style=\"color: #008000; text-decoration-color: #008000\">                        </span>│ ┃\n",
       "┃ │<span style=\"color: #008080; text-decoration-color: #008080\">                         </span>│<span style=\"color: #800080; text-decoration-color: #800080\"> </span><span style=\"color: #008080; text-decoration-color: #008080; font-weight: bold\">8</span><span style=\"color: #800080; text-decoration-color: #800080\">   </span><span style=\"color: #008080; text-decoration-color: #008080; font-weight: bold\">6.678674</span><span style=\"color: #800080; text-decoration-color: #800080\">   </span><span style=\"color: #008080; text-decoration-color: #008080; font-weight: bold\">0.571664</span><span style=\"color: #800080; text-decoration-color: #800080\">                                  </span>│<span style=\"color: #008000; text-decoration-color: #008000\">                        </span>│ ┃\n",
       "┃ │<span style=\"color: #008080; text-decoration-color: #008080\">                         </span>│<span style=\"color: #800080; text-decoration-color: #800080\"> </span><span style=\"color: #008080; text-decoration-color: #008080; font-weight: bold\">9</span><span style=\"color: #800080; text-decoration-color: #800080\">   </span><span style=\"color: #008080; text-decoration-color: #008080; font-weight: bold\">6.909728</span><span style=\"color: #800080; text-decoration-color: #800080\">   </span><span style=\"color: #008080; text-decoration-color: #008080; font-weight: bold\">0.646518</span><span style=\"color: #800080; text-decoration-color: #800080\">                                  </span>│<span style=\"color: #008000; text-decoration-color: #008000\">                        </span>│ ┃\n",
       "┃ │<span style=\"color: #008080; text-decoration-color: #008080\">                         </span>│<span style=\"color: #800080; text-decoration-color: #800080\"> </span><span style=\"color: #008080; text-decoration-color: #008080; font-weight: bold\">10</span><span style=\"color: #800080; text-decoration-color: #800080\">  </span><span style=\"color: #008080; text-decoration-color: #008080; font-weight: bold\">8.671605</span><span style=\"color: #800080; text-decoration-color: #800080\">   </span><span style=\"color: #008080; text-decoration-color: #008080; font-weight: bold\">0.563527</span><span style=\"color: #800080; text-decoration-color: #800080\">                                  </span>│<span style=\"color: #008000; text-decoration-color: #008000\">                        </span>│ ┃\n",
       "┃ ╰─────────────────────────┴──────────────────────────────────────────────────────────┴────────────────────────╯ ┃\n",
       "┃ <span style=\"font-style: italic\">                                         Forecast Errors - Regression                                          </span> ┃\n",
       "┃ ╭─────────────────────────┬──────────────────────────────────────────────────────────┬────────────────────────╮ ┃\n",
       "┃ │<span style=\"color: #008080; text-decoration-color: #008080\">     Mean Absolute Error </span>│<span style=\"color: #800080; text-decoration-color: #800080\"> </span><span style=\"color: #008080; text-decoration-color: #008080; font-weight: bold\">0.113</span><span style=\"color: #800080; text-decoration-color: #800080\">                                                    </span>│<span style=\"color: #008000; text-decoration-color: #008000\"> </span><span style=\"color: #008000; text-decoration-color: #008000; font-weight: bold\">{}</span><span style=\"color: #008000; text-decoration-color: #008000\">                     </span>│ ┃\n",
       "┃ │<span style=\"color: #008080; text-decoration-color: #008080\">                   (mae) </span>│<span style=\"color: #800080; text-decoration-color: #800080\">                                                          </span>│<span style=\"color: #008000; text-decoration-color: #008000\">                        </span>│ ┃\n",
       "┃ ├─────────────────────────┼──────────────────────────────────────────────────────────┼────────────────────────┤ ┃\n",
       "┃ │<span style=\"color: #008080; text-decoration-color: #008080\">           Mean Absolute </span>│<span style=\"color: #800080; text-decoration-color: #800080\"> </span><span style=\"color: #008080; text-decoration-color: #008080; font-weight: bold\">4.989</span><span style=\"color: #800080; text-decoration-color: #800080\">                                                    </span>│<span style=\"color: #008000; text-decoration-color: #008000\"> </span><span style=\"color: #008000; text-decoration-color: #008000; font-weight: bold\">{}</span><span style=\"color: #008000; text-decoration-color: #008000\">                     </span>│ ┃\n",
       "┃ │<span style=\"color: #008080; text-decoration-color: #008080\"> Percentage Error (mape) </span>│<span style=\"color: #800080; text-decoration-color: #800080\">                                                          </span>│<span style=\"color: #008000; text-decoration-color: #008000\">                        </span>│ ┃\n",
       "┃ ├─────────────────────────┼──────────────────────────────────────────────────────────┼────────────────────────┤ ┃\n",
       "┃ │<span style=\"color: #008080; text-decoration-color: #008080\">      Mean Squared Error </span>│<span style=\"color: #800080; text-decoration-color: #800080\"> </span><span style=\"color: #008080; text-decoration-color: #008080; font-weight: bold\">0.02</span><span style=\"color: #800080; text-decoration-color: #800080\">                                                     </span>│<span style=\"color: #008000; text-decoration-color: #008000\"> </span><span style=\"color: #008000; text-decoration-color: #008000; font-weight: bold\">{</span><span style=\"color: #008000; text-decoration-color: #008000\">'squared'</span><span style=\"color: #008000; text-decoration-color: #008000\">: </span><span style=\"color: #00ff00; text-decoration-color: #00ff00; font-style: italic\">True</span><span style=\"color: #008000; text-decoration-color: #008000; font-weight: bold\">}</span><span style=\"color: #008000; text-decoration-color: #008000\">      </span>│ ┃\n",
       "┃ │<span style=\"color: #008080; text-decoration-color: #008080\">                   (mse) </span>│<span style=\"color: #800080; text-decoration-color: #800080\">                                                          </span>│<span style=\"color: #008000; text-decoration-color: #008000\">                        </span>│ ┃\n",
       "┃ ├─────────────────────────┼──────────────────────────────────────────────────────────┼────────────────────────┤ ┃\n",
       "┃ │<span style=\"color: #008080; text-decoration-color: #008080\"> Root Mean Squared Error </span>│<span style=\"color: #800080; text-decoration-color: #800080\"> </span><span style=\"color: #008080; text-decoration-color: #008080; font-weight: bold\">0.141</span><span style=\"color: #800080; text-decoration-color: #800080\">                                                    </span>│<span style=\"color: #008000; text-decoration-color: #008000\"> </span><span style=\"color: #008000; text-decoration-color: #008000; font-weight: bold\">{</span><span style=\"color: #008000; text-decoration-color: #008000\">'squared'</span><span style=\"color: #008000; text-decoration-color: #008000\">: </span><span style=\"color: #ff0000; text-decoration-color: #ff0000; font-style: italic\">False</span><span style=\"color: #008000; text-decoration-color: #008000; font-weight: bold\">}</span><span style=\"color: #008000; text-decoration-color: #008000\">     </span>│ ┃\n",
       "┃ │<span style=\"color: #008080; text-decoration-color: #008080\">                  (rmse) </span>│<span style=\"color: #800080; text-decoration-color: #800080\">                                                          </span>│<span style=\"color: #008000; text-decoration-color: #008000\">                        </span>│ ┃\n",
       "┃ ├─────────────────────────┼──────────────────────────────────────────────────────────┼────────────────────────┤ ┃\n",
       "┃ │<span style=\"color: #008080; text-decoration-color: #008080\">   Root Mean Squared Log </span>│<span style=\"color: #800080; text-decoration-color: #800080\"> </span><span style=\"color: #008000; text-decoration-color: #008000\">'Mean Squared Logarithmic Error cannot be used when </span><span style=\"color: #800080; text-decoration-color: #800080\">     </span>│<span style=\"color: #008000; text-decoration-color: #008000\"> </span><span style=\"color: #008000; text-decoration-color: #008000; font-weight: bold\">{</span><span style=\"color: #008000; text-decoration-color: #008000\">'squared'</span><span style=\"color: #008000; text-decoration-color: #008000\">: </span><span style=\"color: #ff0000; text-decoration-color: #ff0000; font-style: italic\">False</span><span style=\"color: #008000; text-decoration-color: #008000; font-weight: bold\">}</span><span style=\"color: #008000; text-decoration-color: #008000\">     </span>│ ┃\n",
       "┃ │<span style=\"color: #008080; text-decoration-color: #008080\">           Error (rmsle) </span>│<span style=\"color: #800080; text-decoration-color: #800080\"> </span><span style=\"color: #008000; text-decoration-color: #008000\">targets contain negative values.'</span><span style=\"color: #800080; text-decoration-color: #800080\">                        </span>│<span style=\"color: #008000; text-decoration-color: #008000\">                        </span>│ ┃\n",
       "┃ ├─────────────────────────┼──────────────────────────────────────────────────────────┼────────────────────────┤ ┃\n",
       "┃ │<span style=\"color: #008080; text-decoration-color: #008080\">       R-squared (r_two) </span>│<span style=\"color: #800080; text-decoration-color: #800080\"> </span><span style=\"color: #008080; text-decoration-color: #008080; font-weight: bold\">-0.918</span><span style=\"color: #800080; text-decoration-color: #800080\">                                                   </span>│<span style=\"color: #008000; text-decoration-color: #008000\"> </span><span style=\"color: #008000; text-decoration-color: #008000; font-weight: bold\">{}</span><span style=\"color: #008000; text-decoration-color: #008000\">                     </span>│ ┃\n",
       "┃ ╰─────────────────────────┴──────────────────────────────────────────────────────────┴────────────────────────╯ ┃\n",
       "┃                                                                                                                 ┃\n",
       "┗━━━━━━━━━━━━━━━━━━━━━━━━━━━━━━━━━━━━━━━━━━━━━━━━━━━━━━━━━━━━━━━━━━━━━━━━━━━━━━━━━━━━━━━━━━━━━━━━━━━━━━━━━━━━━━━━━┛\n",
       "</pre>\n"
      ],
      "text/plain": [
       "┏━━━━━━━ Result of Model:20230129-19541707522556 on Dataset:20230129-1954170b53b7e3 tested on outofsample ━━━━━━━━┓\n",
       "┃                                                                                                                 ┃\n",
       "┃ \u001b[3m                                       Targets and Predictions Analysis                                        \u001b[0m ┃\n",
       "┃ ╭────────────────────┬──────────────────────────────────────────────────────────┬──────────────┬──────────────╮ ┃\n",
       "┃ │\u001b[1m \u001b[0m\u001b[1m       Series Type\u001b[0m\u001b[1m \u001b[0m│\u001b[1m \u001b[0m\u001b[1mHistogram                                               \u001b[0m\u001b[1m \u001b[0m│\u001b[1m \u001b[0m\u001b[1m       Types\u001b[0m\u001b[1m \u001b[0m│\u001b[1m \u001b[0m\u001b[1m    Indicies\u001b[0m\u001b[1m \u001b[0m│ ┃\n",
       "┃ ├────────────────────┼──────────────────────────────────────────────────────────┼──────────────┼──────────────┤ ┃\n",
       "┃ │\u001b[36m \u001b[0m\u001b[36m           Targets\u001b[0m\u001b[36m \u001b[0m│\u001b[36m \u001b[0m\u001b[36;40m    \u001b[0m\u001b[33;40m┌──────────────────────────────────────────────────┐\u001b[0m\u001b[36m \u001b[0m│\u001b[36m \u001b[0m\u001b[36m     NaNs: 0\u001b[0m\u001b[36m \u001b[0m│\u001b[36m \u001b[0m\u001b[36m    Start: 0\u001b[0m\u001b[36m \u001b[0m│ ┃\n",
       "┃ │\u001b[36m                    \u001b[0m│\u001b[36m \u001b[0m\u001b[33;40m63.0┤\u001b[0m\u001b[36;40m                       \u001b[0m\u001b[94;40m██\u001b[0m\u001b[36;40m \u001b[0m\u001b[94;40m██████\u001b[0m\u001b[36;40m                  \u001b[0m\u001b[33;40m│\u001b[0m\u001b[36m \u001b[0m│\u001b[36m \u001b[0m\u001b[36m      dtype:\u001b[0m\u001b[36m \u001b[0m│\u001b[36m \u001b[0m\u001b[36m    End: 999\u001b[0m\u001b[36m \u001b[0m│ ┃\n",
       "┃ │\u001b[36m                    \u001b[0m│\u001b[36m \u001b[0m\u001b[33;40m52.5┤\u001b[0m\u001b[36;40m                      \u001b[0m\u001b[94;40m███████████\u001b[0m\u001b[36;40m                 \u001b[0m\u001b[33;40m│\u001b[0m\u001b[36m \u001b[0m│\u001b[36m \u001b[0m\u001b[36m     float64\u001b[0m\u001b[36m \u001b[0m│\u001b[36m              \u001b[0m│ ┃\n",
       "┃ │\u001b[36m                    \u001b[0m│\u001b[36m \u001b[0m\u001b[33;40m42.0┤\u001b[0m\u001b[36;40m                  \u001b[0m\u001b[94;40m████████████████\u001b[0m\u001b[36;40m  \u001b[0m\u001b[94;40m██\u001b[0m\u001b[36;40m            \u001b[0m\u001b[33;40m│\u001b[0m\u001b[36m \u001b[0m│\u001b[36m              \u001b[0m│\u001b[36m              \u001b[0m│ ┃\n",
       "┃ │\u001b[36m                    \u001b[0m│\u001b[36m \u001b[0m\u001b[33;40m31.5┤\u001b[0m\u001b[36;40m                \u001b[0m\u001b[94;40m████████████████████████\u001b[0m\u001b[36;40m          \u001b[0m\u001b[33;40m│\u001b[0m\u001b[36m \u001b[0m│\u001b[36m              \u001b[0m│\u001b[36m              \u001b[0m│ ┃\n",
       "┃ │\u001b[36m                    \u001b[0m│\u001b[36m \u001b[0m\u001b[33;40m21.0┤\u001b[0m\u001b[36;40m               \u001b[0m\u001b[94;40m█████████████████████████\u001b[0m\u001b[36;40m \u001b[0m\u001b[94;40m██\u001b[0m\u001b[36;40m       \u001b[0m\u001b[33;40m│\u001b[0m\u001b[36m \u001b[0m│\u001b[36m              \u001b[0m│\u001b[36m              \u001b[0m│ ┃\n",
       "┃ │\u001b[36m                    \u001b[0m│\u001b[36m \u001b[0m\u001b[33;40m10.5┤\u001b[0m\u001b[36;40m         \u001b[0m\u001b[94;40m█████████████████████████████████████\u001b[0m\u001b[36;40m    \u001b[0m\u001b[33;40m│\u001b[0m\u001b[36m \u001b[0m│\u001b[36m              \u001b[0m│\u001b[36m              \u001b[0m│ ┃\n",
       "┃ │\u001b[36m                    \u001b[0m│\u001b[36m \u001b[0m\u001b[33;40m 0.0┤\u001b[0m\u001b[94;40m█ █████████████████████████████████████████████ ██\u001b[0m\u001b[33;40m│\u001b[0m\u001b[36m \u001b[0m│\u001b[36m              \u001b[0m│\u001b[36m              \u001b[0m│ ┃\n",
       "┃ │\u001b[36m                    \u001b[0m│\u001b[36m \u001b[0m\u001b[36;40m    \u001b[0m\u001b[33;40m└┬───────────┬────────────┬───────────┬───────────┬┘\u001b[0m\u001b[36m \u001b[0m│\u001b[36m              \u001b[0m│\u001b[36m              \u001b[0m│ ┃\n",
       "┃ │\u001b[36m                    \u001b[0m│\u001b[36m \u001b[0m\u001b[36;40m   \u001b[0m\u001b[33;40m-0.35\u001b[0m\u001b[36;40m       \u001b[0m\u001b[33;40m-0.19\u001b[0m\u001b[36;40m        \u001b[0m\u001b[33;40m-0.03\u001b[0m\u001b[36;40m       \u001b[0m\u001b[33;40m0.13\u001b[0m\u001b[36;40m       \u001b[0m\u001b[33;40m0.29\u001b[0m\u001b[36;40m \u001b[0m\u001b[36m \u001b[0m│\u001b[36m              \u001b[0m│\u001b[36m              \u001b[0m│ ┃\n",
       "┃ ├────────────────────┼──────────────────────────────────────────────────────────┼──────────────┼──────────────┤ ┃\n",
       "┃ │\u001b[36m \u001b[0m\u001b[36m       Predictions\u001b[0m\u001b[36m \u001b[0m│\u001b[36m \u001b[0m\u001b[36;40m    \u001b[0m\u001b[33;40m┌──────────────────────────────────────────────────┐\u001b[0m\u001b[36m \u001b[0m│\u001b[36m \u001b[0m\u001b[36m     NaNs: 0\u001b[0m\u001b[36m \u001b[0m│\u001b[36m \u001b[0m\u001b[36m    Start: 0\u001b[0m\u001b[36m \u001b[0m│ ┃\n",
       "┃ │\u001b[36m                    \u001b[0m│\u001b[36m \u001b[0m\u001b[33;40m70.0┤\u001b[0m\u001b[36;40m                       \u001b[0m\u001b[94;40m██\u001b[0m\u001b[36;40m                         \u001b[0m\u001b[33;40m│\u001b[0m\u001b[36m \u001b[0m│\u001b[36m \u001b[0m\u001b[36m      dtype:\u001b[0m\u001b[36m \u001b[0m│\u001b[36m \u001b[0m\u001b[36m    End: 999\u001b[0m\u001b[36m \u001b[0m│ ┃\n",
       "┃ │\u001b[36m                    \u001b[0m│\u001b[36m \u001b[0m\u001b[33;40m58.3┤\u001b[0m\u001b[36;40m                     \u001b[0m\u001b[94;40m██████\u001b[0m\u001b[36;40m \u001b[0m\u001b[94;40m█████\u001b[0m\u001b[36;40m                 \u001b[0m\u001b[33;40m│\u001b[0m\u001b[36m \u001b[0m│\u001b[36m \u001b[0m\u001b[36m     float64\u001b[0m\u001b[36m \u001b[0m│\u001b[36m              \u001b[0m│ ┃\n",
       "┃ │\u001b[36m                    \u001b[0m│\u001b[36m \u001b[0m\u001b[33;40m46.7┤\u001b[0m\u001b[36;40m                  \u001b[0m\u001b[94;40m██████████████████\u001b[0m\u001b[36;40m              \u001b[0m\u001b[33;40m│\u001b[0m\u001b[36m \u001b[0m│\u001b[36m              \u001b[0m│\u001b[36m              \u001b[0m│ ┃\n",
       "┃ │\u001b[36m                    \u001b[0m│\u001b[36m \u001b[0m\u001b[33;40m35.0┤\u001b[0m\u001b[36;40m                \u001b[0m\u001b[94;40m████████████████████\u001b[0m\u001b[36;40m              \u001b[0m\u001b[33;40m│\u001b[0m\u001b[36m \u001b[0m│\u001b[36m              \u001b[0m│\u001b[36m              \u001b[0m│ ┃\n",
       "┃ │\u001b[36m                    \u001b[0m│\u001b[36m \u001b[0m\u001b[33;40m23.3┤\u001b[0m\u001b[36;40m              \u001b[0m\u001b[94;40m██████████████████████████\u001b[0m\u001b[36;40m          \u001b[0m\u001b[33;40m│\u001b[0m\u001b[36m \u001b[0m│\u001b[36m              \u001b[0m│\u001b[36m              \u001b[0m│ ┃\n",
       "┃ │\u001b[36m                    \u001b[0m│\u001b[36m \u001b[0m\u001b[33;40m11.7┤\u001b[0m\u001b[36;40m         \u001b[0m\u001b[94;40m██████████████████████████████████\u001b[0m\u001b[36;40m       \u001b[0m\u001b[33;40m│\u001b[0m\u001b[36m \u001b[0m│\u001b[36m              \u001b[0m│\u001b[36m              \u001b[0m│ ┃\n",
       "┃ │\u001b[36m                    \u001b[0m│\u001b[36m \u001b[0m\u001b[33;40m 0.0┤\u001b[0m\u001b[94;40m██████████████████████████████████████████████████\u001b[0m\u001b[33;40m│\u001b[0m\u001b[36m \u001b[0m│\u001b[36m              \u001b[0m│\u001b[36m              \u001b[0m│ ┃\n",
       "┃ │\u001b[36m                    \u001b[0m│\u001b[36m \u001b[0m\u001b[36;40m    \u001b[0m\u001b[33;40m└┬───────────┬────────────┬───────────┬───────────┬┘\u001b[0m\u001b[36m \u001b[0m│\u001b[36m              \u001b[0m│\u001b[36m              \u001b[0m│ ┃\n",
       "┃ │\u001b[36m                    \u001b[0m│\u001b[36m \u001b[0m\u001b[36;40m   \u001b[0m\u001b[33;40m-0.32\u001b[0m\u001b[36;40m       \u001b[0m\u001b[33;40m-0.17\u001b[0m\u001b[36;40m        \u001b[0m\u001b[33;40m-0.02\u001b[0m\u001b[36;40m       \u001b[0m\u001b[33;40m0.14\u001b[0m\u001b[36;40m       \u001b[0m\u001b[33;40m0.29\u001b[0m\u001b[36;40m \u001b[0m\u001b[36m \u001b[0m│\u001b[36m              \u001b[0m│\u001b[36m              \u001b[0m│ ┃\n",
       "┃ ╰────────────────────┴──────────────────────────────────────────────────────────┴──────────────┴──────────────╯ ┃\n",
       "┃ \u001b[3m                                             Residual Diagnostics                                              \u001b[0m ┃\n",
       "┃ ╭─────────────────────────┬──────────────────────────────────────────────────────────┬────────────────────────╮ ┃\n",
       "┃ │\u001b[1m \u001b[0m\u001b[1m            Metric Name\u001b[0m\u001b[1m \u001b[0m│\u001b[1m \u001b[0m\u001b[1mResult                                                  \u001b[0m\u001b[1m \u001b[0m│\u001b[1m \u001b[0m\u001b[1mParameters            \u001b[0m\u001b[1m \u001b[0m│ ┃\n",
       "┃ ├─────────────────────────┼──────────────────────────────────────────────────────────┼────────────────────────┤ ┃\n",
       "┃ │\u001b[36m \u001b[0m\u001b[36m  Residuals (residuals)\u001b[0m\u001b[36m \u001b[0m│\u001b[35m \u001b[0m\u001b[35;40m     \u001b[0m\u001b[33;40m┌─────────────────────────────────────────────────┐\u001b[0m\u001b[35m \u001b[0m│\u001b[32m \u001b[0m\u001b[1;32m{\u001b[0m\u001b[1;32m}\u001b[0m\u001b[32m                    \u001b[0m\u001b[32m \u001b[0m│ ┃\n",
       "┃ │\u001b[36m                         \u001b[0m│\u001b[35m \u001b[0m\u001b[33;40m 0.59┤\u001b[0m\u001b[35;40m                        \u001b[0m\u001b[94;40m▐\u001b[0m\u001b[35;40m                        \u001b[0m\u001b[33;40m│\u001b[0m\u001b[35m \u001b[0m│\u001b[32m                        \u001b[0m│ ┃\n",
       "┃ │\u001b[36m                         \u001b[0m│\u001b[35m \u001b[0m\u001b[33;40m 0.42┤\u001b[0m\u001b[35;40m \u001b[0m\u001b[94;40m▖\u001b[0m\u001b[35;40m                   \u001b[0m\u001b[94;40m▐\u001b[0m\u001b[35;40m  \u001b[0m\u001b[94;40m▐\u001b[0m\u001b[35;40m  \u001b[0m\u001b[94;40m▗\u001b[0m\u001b[35;40m \u001b[0m\u001b[94;40m▖▗\u001b[0m\u001b[35;40m         \u001b[0m\u001b[94;40m▖▐\u001b[0m\u001b[35;40m     \u001b[0m\u001b[94;40m▗\u001b[0m\u001b[35;40m \u001b[0m\u001b[33;40m│\u001b[0m\u001b[35m \u001b[0m│\u001b[32m                        \u001b[0m│ ┃\n",
       "┃ │\u001b[36m                         \u001b[0m│\u001b[35m \u001b[0m\u001b[33;40m 0.25┤\u001b[0m\u001b[94;40m▗▙\u001b[0m\u001b[35;40m \u001b[0m\u001b[94;40m▗\u001b[0m\u001b[35;40m \u001b[0m\u001b[94;40m█▄▖▖▙▄▟▄▗█▙▌▄▟▗▖▟▐██▄▐▟█▙▟▟▟▐▄▄▖▗▌█▙▟▟█▄▖▟█▖\u001b[0m\u001b[33;40m│\u001b[0m\u001b[35m \u001b[0m│\u001b[32m                        \u001b[0m│ ┃\n",
       "┃ │\u001b[36m                         \u001b[0m│\u001b[35m \u001b[0m\u001b[33;40m 0.08┤\u001b[0m\u001b[94;40m████▙████████████████████████████████████████████\u001b[0m\u001b[33;40m│\u001b[0m\u001b[35m \u001b[0m│\u001b[32m                        \u001b[0m│ ┃\n",
       "┃ │\u001b[36m                         \u001b[0m│\u001b[35m \u001b[0m\u001b[33;40m-0.09┤\u001b[0m\u001b[94;40m██████████████████████▛▛███▛███████████▜█████████\u001b[0m\u001b[33;40m│\u001b[0m\u001b[35m \u001b[0m│\u001b[32m                        \u001b[0m│ ┃\n",
       "┃ │\u001b[36m                         \u001b[0m│\u001b[35m \u001b[0m\u001b[33;40m-0.26┤\u001b[0m\u001b[94;40m▜▐▛▀███▝▌▛▜▘\u001b[0m\u001b[35;40m \u001b[0m\u001b[94;40m▛\u001b[0m\u001b[35;40m \u001b[0m\u001b[94;40m▘▀▝▝▛▜▀▌▌▛█▜▘▀▛▝▝▘▝▝▀▀\u001b[0m\u001b[35;40m \u001b[0m\u001b[94;40m▀▝███▛▐▀▐▜▀\u001b[0m\u001b[33;40m│\u001b[0m\u001b[35m \u001b[0m│\u001b[32m                        \u001b[0m│ ┃\n",
       "┃ │\u001b[36m                         \u001b[0m│\u001b[35m \u001b[0m\u001b[33;40m-0.43┤\u001b[0m\u001b[35;40m \u001b[0m\u001b[94;40m▝▘\u001b[0m\u001b[35;40m \u001b[0m\u001b[94;40m▝\u001b[0m\u001b[35;40m \u001b[0m\u001b[94;40m▀\u001b[0m\u001b[35;40m   \u001b[0m\u001b[94;40m▝\u001b[0m\u001b[35;40m        \u001b[0m\u001b[94;40m▘\u001b[0m\u001b[35;40m   \u001b[0m\u001b[94;40m▘\u001b[0m\u001b[35;40m \u001b[0m\u001b[94;40m▜\u001b[0m\u001b[35;40m   \u001b[0m\u001b[94;40m▌\u001b[0m\u001b[35;40m          \u001b[0m\u001b[94;40m▜▝▝\u001b[0m\u001b[35;40m \u001b[0m\u001b[94;40m▐\u001b[0m\u001b[35;40m    \u001b[0m\u001b[33;40m│\u001b[0m\u001b[35m \u001b[0m│\u001b[32m                        \u001b[0m│ ┃\n",
       "┃ │\u001b[36m                         \u001b[0m│\u001b[35m \u001b[0m\u001b[35;40m     \u001b[0m\u001b[33;40m└┬───────────┬───────────┬───────────┬───────────┬┘\u001b[0m\u001b[35m \u001b[0m│\u001b[32m                        \u001b[0m│ ┃\n",
       "┃ │\u001b[36m                         \u001b[0m│\u001b[35m \u001b[0m\u001b[35;40m     \u001b[0m\u001b[33;40m1.0\u001b[0m\u001b[35;40m        \u001b[0m\u001b[33;40m250.8\u001b[0m\u001b[35;40m       \u001b[0m\u001b[33;40m500.5\u001b[0m\u001b[35;40m       \u001b[0m\u001b[33;40m750.2\u001b[0m\u001b[35;40m    \u001b[0m\u001b[33;40m1000.0\u001b[0m\u001b[35;40m \u001b[0m\u001b[35m \u001b[0m│\u001b[32m                        \u001b[0m│ ┃\n",
       "┃ ├─────────────────────────┼──────────────────────────────────────────────────────────┼────────────────────────┤ ┃\n",
       "┃ │\u001b[36m \u001b[0m\u001b[36m  Mean of the Residuals\u001b[0m\u001b[36m \u001b[0m│\u001b[35m \u001b[0m\u001b[1;36m0.003\u001b[0m\u001b[35m                                                   \u001b[0m\u001b[35m \u001b[0m│\u001b[32m \u001b[0m\u001b[1;32m{\u001b[0m\u001b[1;32m}\u001b[0m\u001b[32m                    \u001b[0m\u001b[32m \u001b[0m│ ┃\n",
       "┃ │\u001b[36m \u001b[0m\u001b[36m       (residuals_mean)\u001b[0m\u001b[36m \u001b[0m│\u001b[35m                                                          \u001b[0m│\u001b[32m                        \u001b[0m│ ┃\n",
       "┃ ├─────────────────────────┼──────────────────────────────────────────────────────────┼────────────────────────┤ ┃\n",
       "┃ │\u001b[36m \u001b[0m\u001b[36m  Standard Deviation of\u001b[0m\u001b[36m \u001b[0m│\u001b[35m \u001b[0m\u001b[1;36m0.141\u001b[0m\u001b[35m                                                   \u001b[0m\u001b[35m \u001b[0m│\u001b[32m \u001b[0m\u001b[1;32m{\u001b[0m\u001b[1;32m}\u001b[0m\u001b[32m                    \u001b[0m\u001b[32m \u001b[0m│ ┃\n",
       "┃ │\u001b[36m \u001b[0m\u001b[36m          the Residuals\u001b[0m\u001b[36m \u001b[0m│\u001b[35m                                                          \u001b[0m│\u001b[32m                        \u001b[0m│ ┃\n",
       "┃ │\u001b[36m \u001b[0m\u001b[36m        (residuals_std)\u001b[0m\u001b[36m \u001b[0m│\u001b[35m                                                          \u001b[0m│\u001b[32m                        \u001b[0m│ ┃\n",
       "┃ ├─────────────────────────┼──────────────────────────────────────────────────────────┼────────────────────────┤ ┃\n",
       "┃ │\u001b[36m \u001b[0m\u001b[36m   Ljung Box Statistics\u001b[0m\u001b[36m \u001b[0m│\u001b[35m \u001b[0m\u001b[35m     lb_stat  lb_pvalue                                 \u001b[0m\u001b[35m \u001b[0m│\u001b[32m \u001b[0m\u001b[1;32m{\u001b[0m\u001b[1;32m}\u001b[0m\u001b[32m                    \u001b[0m\u001b[32m \u001b[0m│ ┃\n",
       "┃ │\u001b[36m \u001b[0m\u001b[36m (ljung_box_statistics)\u001b[0m\u001b[36m \u001b[0m│\u001b[35m \u001b[0m\u001b[1;36m1\u001b[0m\u001b[35m   \u001b[0m\u001b[1;36m1.333556\u001b[0m\u001b[35m   \u001b[0m\u001b[1;36m0.248174\u001b[0m\u001b[35m                                 \u001b[0m\u001b[35m \u001b[0m│\u001b[32m                        \u001b[0m│ ┃\n",
       "┃ │\u001b[36m                         \u001b[0m│\u001b[35m \u001b[0m\u001b[1;36m2\u001b[0m\u001b[35m   \u001b[0m\u001b[1;36m1.354332\u001b[0m\u001b[35m   \u001b[0m\u001b[1;36m0.508055\u001b[0m\u001b[35m                                 \u001b[0m\u001b[35m \u001b[0m│\u001b[32m                        \u001b[0m│ ┃\n",
       "┃ │\u001b[36m                         \u001b[0m│\u001b[35m \u001b[0m\u001b[1;36m3\u001b[0m\u001b[35m   \u001b[0m\u001b[1;36m2.971255\u001b[0m\u001b[35m   \u001b[0m\u001b[1;36m0.396078\u001b[0m\u001b[35m                                 \u001b[0m\u001b[35m \u001b[0m│\u001b[32m                        \u001b[0m│ ┃\n",
       "┃ │\u001b[36m                         \u001b[0m│\u001b[35m \u001b[0m\u001b[1;36m4\u001b[0m\u001b[35m   \u001b[0m\u001b[1;36m5.910525\u001b[0m\u001b[35m   \u001b[0m\u001b[1;36m0.205931\u001b[0m\u001b[35m                                 \u001b[0m\u001b[35m \u001b[0m│\u001b[32m                        \u001b[0m│ ┃\n",
       "┃ │\u001b[36m                         \u001b[0m│\u001b[35m \u001b[0m\u001b[1;36m5\u001b[0m\u001b[35m   \u001b[0m\u001b[1;36m6.215481\u001b[0m\u001b[35m   \u001b[0m\u001b[1;36m0.285813\u001b[0m\u001b[35m                                 \u001b[0m\u001b[35m \u001b[0m│\u001b[32m                        \u001b[0m│ ┃\n",
       "┃ │\u001b[36m                         \u001b[0m│\u001b[35m \u001b[0m\u001b[1;36m6\u001b[0m\u001b[35m   \u001b[0m\u001b[1;36m6.377506\u001b[0m\u001b[35m   \u001b[0m\u001b[1;36m0.382256\u001b[0m\u001b[35m                                 \u001b[0m\u001b[35m \u001b[0m│\u001b[32m                        \u001b[0m│ ┃\n",
       "┃ │\u001b[36m                         \u001b[0m│\u001b[35m \u001b[0m\u001b[1;36m7\u001b[0m\u001b[35m   \u001b[0m\u001b[1;36m6.538012\u001b[0m\u001b[35m   \u001b[0m\u001b[1;36m0.478510\u001b[0m\u001b[35m                                 \u001b[0m\u001b[35m \u001b[0m│\u001b[32m                        \u001b[0m│ ┃\n",
       "┃ │\u001b[36m                         \u001b[0m│\u001b[35m \u001b[0m\u001b[1;36m8\u001b[0m\u001b[35m   \u001b[0m\u001b[1;36m6.678674\u001b[0m\u001b[35m   \u001b[0m\u001b[1;36m0.571664\u001b[0m\u001b[35m                                 \u001b[0m\u001b[35m \u001b[0m│\u001b[32m                        \u001b[0m│ ┃\n",
       "┃ │\u001b[36m                         \u001b[0m│\u001b[35m \u001b[0m\u001b[1;36m9\u001b[0m\u001b[35m   \u001b[0m\u001b[1;36m6.909728\u001b[0m\u001b[35m   \u001b[0m\u001b[1;36m0.646518\u001b[0m\u001b[35m                                 \u001b[0m\u001b[35m \u001b[0m│\u001b[32m                        \u001b[0m│ ┃\n",
       "┃ │\u001b[36m                         \u001b[0m│\u001b[35m \u001b[0m\u001b[1;36m10\u001b[0m\u001b[35m  \u001b[0m\u001b[1;36m8.671605\u001b[0m\u001b[35m   \u001b[0m\u001b[1;36m0.563527\u001b[0m\u001b[35m                                 \u001b[0m\u001b[35m \u001b[0m│\u001b[32m                        \u001b[0m│ ┃\n",
       "┃ ╰─────────────────────────┴──────────────────────────────────────────────────────────┴────────────────────────╯ ┃\n",
       "┃ \u001b[3m                                         Forecast Errors - Regression                                          \u001b[0m ┃\n",
       "┃ ╭─────────────────────────┬──────────────────────────────────────────────────────────┬────────────────────────╮ ┃\n",
       "┃ │\u001b[36m \u001b[0m\u001b[36m    Mean Absolute Error\u001b[0m\u001b[36m \u001b[0m│\u001b[35m \u001b[0m\u001b[1;36m0.113\u001b[0m\u001b[35m                                                   \u001b[0m\u001b[35m \u001b[0m│\u001b[32m \u001b[0m\u001b[1;32m{\u001b[0m\u001b[1;32m}\u001b[0m\u001b[32m                    \u001b[0m\u001b[32m \u001b[0m│ ┃\n",
       "┃ │\u001b[36m \u001b[0m\u001b[36m                  (mae)\u001b[0m\u001b[36m \u001b[0m│\u001b[35m                                                          \u001b[0m│\u001b[32m                        \u001b[0m│ ┃\n",
       "┃ ├─────────────────────────┼──────────────────────────────────────────────────────────┼────────────────────────┤ ┃\n",
       "┃ │\u001b[36m \u001b[0m\u001b[36m          Mean Absolute\u001b[0m\u001b[36m \u001b[0m│\u001b[35m \u001b[0m\u001b[1;36m4.989\u001b[0m\u001b[35m                                                   \u001b[0m\u001b[35m \u001b[0m│\u001b[32m \u001b[0m\u001b[1;32m{\u001b[0m\u001b[1;32m}\u001b[0m\u001b[32m                    \u001b[0m\u001b[32m \u001b[0m│ ┃\n",
       "┃ │\u001b[36m \u001b[0m\u001b[36mPercentage Error (mape)\u001b[0m\u001b[36m \u001b[0m│\u001b[35m                                                          \u001b[0m│\u001b[32m                        \u001b[0m│ ┃\n",
       "┃ ├─────────────────────────┼──────────────────────────────────────────────────────────┼────────────────────────┤ ┃\n",
       "┃ │\u001b[36m \u001b[0m\u001b[36m     Mean Squared Error\u001b[0m\u001b[36m \u001b[0m│\u001b[35m \u001b[0m\u001b[1;36m0.02\u001b[0m\u001b[35m                                                    \u001b[0m\u001b[35m \u001b[0m│\u001b[32m \u001b[0m\u001b[1;32m{\u001b[0m\u001b[32m'squared'\u001b[0m\u001b[32m: \u001b[0m\u001b[3;92mTrue\u001b[0m\u001b[1;32m}\u001b[0m\u001b[32m     \u001b[0m\u001b[32m \u001b[0m│ ┃\n",
       "┃ │\u001b[36m \u001b[0m\u001b[36m                  (mse)\u001b[0m\u001b[36m \u001b[0m│\u001b[35m                                                          \u001b[0m│\u001b[32m                        \u001b[0m│ ┃\n",
       "┃ ├─────────────────────────┼──────────────────────────────────────────────────────────┼────────────────────────┤ ┃\n",
       "┃ │\u001b[36m \u001b[0m\u001b[36mRoot Mean Squared Error\u001b[0m\u001b[36m \u001b[0m│\u001b[35m \u001b[0m\u001b[1;36m0.141\u001b[0m\u001b[35m                                                   \u001b[0m\u001b[35m \u001b[0m│\u001b[32m \u001b[0m\u001b[1;32m{\u001b[0m\u001b[32m'squared'\u001b[0m\u001b[32m: \u001b[0m\u001b[3;91mFalse\u001b[0m\u001b[1;32m}\u001b[0m\u001b[32m    \u001b[0m\u001b[32m \u001b[0m│ ┃\n",
       "┃ │\u001b[36m \u001b[0m\u001b[36m                 (rmse)\u001b[0m\u001b[36m \u001b[0m│\u001b[35m                                                          \u001b[0m│\u001b[32m                        \u001b[0m│ ┃\n",
       "┃ ├─────────────────────────┼──────────────────────────────────────────────────────────┼────────────────────────┤ ┃\n",
       "┃ │\u001b[36m \u001b[0m\u001b[36m  Root Mean Squared Log\u001b[0m\u001b[36m \u001b[0m│\u001b[35m \u001b[0m\u001b[32m'Mean Squared Logarithmic Error cannot be used when \u001b[0m\u001b[35m    \u001b[0m\u001b[35m \u001b[0m│\u001b[32m \u001b[0m\u001b[1;32m{\u001b[0m\u001b[32m'squared'\u001b[0m\u001b[32m: \u001b[0m\u001b[3;91mFalse\u001b[0m\u001b[1;32m}\u001b[0m\u001b[32m    \u001b[0m\u001b[32m \u001b[0m│ ┃\n",
       "┃ │\u001b[36m \u001b[0m\u001b[36m          Error (rmsle)\u001b[0m\u001b[36m \u001b[0m│\u001b[35m \u001b[0m\u001b[32mtargets contain negative values.'\u001b[0m\u001b[35m                       \u001b[0m\u001b[35m \u001b[0m│\u001b[32m                        \u001b[0m│ ┃\n",
       "┃ ├─────────────────────────┼──────────────────────────────────────────────────────────┼────────────────────────┤ ┃\n",
       "┃ │\u001b[36m \u001b[0m\u001b[36m      R-squared (r_two)\u001b[0m\u001b[36m \u001b[0m│\u001b[35m \u001b[0m\u001b[1;36m-0.918\u001b[0m\u001b[35m                                                  \u001b[0m\u001b[35m \u001b[0m│\u001b[32m \u001b[0m\u001b[1;32m{\u001b[0m\u001b[1;32m}\u001b[0m\u001b[32m                    \u001b[0m\u001b[32m \u001b[0m│ ┃\n",
       "┃ ╰─────────────────────────┴──────────────────────────────────────────────────────────┴────────────────────────╯ ┃\n",
       "┃                                                                                                                 ┃\n",
       "┗━━━━━━━━━━━━━━━━━━━━━━━━━━━━━━━━━━━━━━━━━━━━━━━━━━━━━━━━━━━━━━━━━━━━━━━━━━━━━━━━━━━━━━━━━━━━━━━━━━━━━━━━━━━━━━━━━┛\n"
      ]
     },
     "metadata": {},
     "output_type": "display_data"
    }
   ],
   "source": [
    "''' Printing a more detailed result by passing in `extended = True` (this is the default) '''\n",
    "scorecard.print_summary()"
   ]
  },
  {
   "attachments": {},
   "cell_type": "markdown",
   "metadata": {},
   "source": [
    "We can generate an `interactive` (html dash) and `pdf` report, but first let's save the scorecard!\n",
    "\n",
    "## Save and load ScoreCards\n",
    "\n",
    "When saving a scorecard we can decide if we also want to save the console output, by specifying `save_modes`. Options are: \n",
    "   * `SaveModes.minimal` (Minimal output as previously in the cell)\n",
    "   * `SaveModes.obj` (Saves the entire object to a pickle file)\n",
    "   * `SaveModes.text` (Saves the output of the console into a `txt` file)\n",
    "   * `SaveModes.svg` (Creates an `svg` image of the console output)\n",
    "   * `SaveModes.html` (Creates an `html` version of the console output)\n",
    "\n",
    "Let's just save the scorecard object that we can load in later, by passing in either `[SaveMode.obj]` or simply `[\"obj\"]`.\n",
    "\n",
    "Two things to note:\n",
    "* The scorecard gets saved by default to `output/<project_name>/<current_time>_<model_name>_<dataset_name>`. However, we only need to worry about the `project_name` when loading, our helper function scans the directory of the specified project.\n",
    "* `ScoreCard.save()` throws back itself, so that you can immediately chain a `print_summary()`"
   ]
  },
  {
   "cell_type": "code",
   "execution_count": 14,
   "metadata": {},
   "outputs": [
    {
     "data": {
      "text/html": [
       "<pre style=\"white-space:pre;overflow-x:auto;line-height:normal;font-family:Menlo,'DejaVu Sans Mono',consolas,'Courier New',monospace\"></pre>\n"
      ],
      "text/plain": []
     },
     "metadata": {},
     "output_type": "display_data"
    },
    {
     "data": {
      "text/html": [
       "<pre style=\"white-space:pre;overflow-x:auto;line-height:normal;font-family:Menlo,'DejaVu Sans Mono',consolas,'Courier New',monospace\">                     Mean Absolute Error - <span style=\"color: #008080; text-decoration-color: #008080; font-weight: bold\">0.1134</span>         \n",
       "          Mean Absolute Percentage Error - <span style=\"color: #008080; text-decoration-color: #008080; font-weight: bold\">4.9887</span>         \n",
       "                      Mean Squared Error - <span style=\"color: #008080; text-decoration-color: #008080; font-weight: bold\">0.019888</span>       \n",
       "                 Root Mean Squared Error - <span style=\"color: #008080; text-decoration-color: #008080; font-weight: bold\">0.14103</span>        \n",
       "                               R-squared - <span style=\"color: #008080; text-decoration-color: #008080; font-weight: bold\">-0.91848</span>       \n",
       "                   Mean of the Residuals - <span style=\"color: #008080; text-decoration-color: #008080; font-weight: bold\">0.0025499</span>      \n",
       "     Standard Deviation of the Residuals - <span style=\"color: #008080; text-decoration-color: #008080; font-weight: bold\">0.141</span>          \n",
       "</pre>\n"
      ],
      "text/plain": [
       "                     Mean Absolute Error - \u001b[1;36m0.1134\u001b[0m         \n",
       "          Mean Absolute Percentage Error - \u001b[1;36m4.9887\u001b[0m         \n",
       "                      Mean Squared Error - \u001b[1;36m0.019888\u001b[0m       \n",
       "                 Root Mean Squared Error - \u001b[1;36m0.14103\u001b[0m        \n",
       "                               R-squared - \u001b[1;36m-0.91848\u001b[0m       \n",
       "                   Mean of the Residuals - \u001b[1;36m0.0025499\u001b[0m      \n",
       "     Standard Deviation of the Residuals - \u001b[1;36m0.141\u001b[0m          \n"
      ]
     },
     "metadata": {},
     "output_type": "display_data"
    }
   ],
   "source": [
    "scorecard.metadata.project_name = \"Our example project\"\n",
    "scorecard.save(save_modes=[\"obj\"]).print_summary(extended=False)\n"
   ]
  },
  {
   "attachments": {},
   "cell_type": "markdown",
   "metadata": {},
   "source": [
    "Once we have saved the object we can load it in. `load_scorecards` loads in all `scorecards` from a project"
   ]
  },
  {
   "cell_type": "code",
   "execution_count": 15,
   "metadata": {},
   "outputs": [],
   "source": [
    "from krisi import load_scorecards\n",
    "\n",
    "last_scorecard_in_project = load_scorecards(\"Our example project\")[-1]"
   ]
  },
  {
   "attachments": {},
   "cell_type": "markdown",
   "metadata": {},
   "source": [
    "### Let's generate an interactive report with the last scorecard:"
   ]
  },
  {
   "cell_type": "code",
   "execution_count": 16,
   "metadata": {},
   "outputs": [
    {
     "data": {
      "text/plain": [
       "' Generating report will only work outside of jupyter for now.'"
      ]
     },
     "execution_count": 16,
     "metadata": {},
     "output_type": "execute_result"
    }
   ],
   "source": [
    "\"\"\" Generating report will only work outside of jupyter for now.\"\"\"\n",
    "# last_scorecard_in_project.generate_report()"
   ]
  },
  {
   "attachments": {},
   "cell_type": "markdown",
   "metadata": {},
   "source": [
    "## Compare multiple scorecards"
   ]
  },
  {
   "cell_type": "code",
   "execution_count": 17,
   "metadata": {},
   "outputs": [
    {
     "data": {
      "text/html": [
       "<pre style=\"white-space:pre;overflow-x:auto;line-height:normal;font-family:Menlo,'DejaVu Sans Mono',consolas,'Courier New',monospace\"></pre>\n"
      ],
      "text/plain": []
     },
     "metadata": {},
     "output_type": "display_data"
    },
    {
     "data": {
      "text/html": [
       "<pre style=\"white-space:pre;overflow-x:auto;line-height:normal;font-family:Menlo,'DejaVu Sans Mono',consolas,'Courier New',monospace\"></pre>\n"
      ],
      "text/plain": []
     },
     "metadata": {},
     "output_type": "display_data"
    },
    {
     "data": {
      "text/html": [
       "<pre style=\"white-space:pre;overflow-x:auto;line-height:normal;font-family:Menlo,'DejaVu Sans Mono',consolas,'Courier New',monospace\"></pre>\n"
      ],
      "text/plain": []
     },
     "metadata": {},
     "output_type": "display_data"
    },
    {
     "data": {
      "text/html": [
       "<pre style=\"white-space:pre;overflow-x:auto;line-height:normal;font-family:Menlo,'DejaVu Sans Mono',consolas,'Courier New',monospace\"></pre>\n"
      ],
      "text/plain": []
     },
     "metadata": {},
     "output_type": "display_data"
    },
    {
     "data": {
      "text/html": [
       "<pre style=\"white-space:pre;overflow-x:auto;line-height:normal;font-family:Menlo,'DejaVu Sans Mono',consolas,'Courier New',monospace\"></pre>\n"
      ],
      "text/plain": []
     },
     "metadata": {},
     "output_type": "display_data"
    },
    {
     "name": "stdout",
     "output_type": "stream",
     "text": [
      "                    model_name    \u001b[1mrmse           \u001b[0m mae            mse            \n",
      " Model:20230129-1954188026ff19    \u001b[1m0.148          \u001b[0m 0.11828        0.021904       \n",
      " Model:20230129-19523281b828d7    \u001b[1m0.14666        \u001b[0m 0.11733        0.021509       \n",
      " Model:20230129-19541868c30a01    \u001b[1m0.14422        \u001b[0m 0.11526        0.020798       \n",
      " Model:20230129-195232ee0754e5    \u001b[1m0.14368        \u001b[0m 0.11448        0.020643       \n",
      " Model:20230129-19541897ad63fd    \u001b[1m0.14322        \u001b[0m 0.11519        0.020512       \n",
      " Model:20230129-195232827bc7ae    \u001b[1m0.14137        \u001b[0m 0.1134         0.019985       \n",
      " Model:20230129-19541818638b55    \u001b[1m0.14005        \u001b[0m 0.1129         0.019614       \n",
      " Model:20230129-19523277816834    \u001b[1m0.13891        \u001b[0m 0.11029        0.019297       \n",
      " Model:20230129-19541886bf0360    \u001b[1m0.13818        \u001b[0m 0.11031        0.019093       \n",
      " Model:20230129-195232f724547d    \u001b[1m0.13666        \u001b[0m 0.10949        0.018677       \n"
     ]
    }
   ],
   "source": [
    "from krisi import compare\n",
    "\n",
    "project_name = \"Comparing Multiple Scorecards\"\n",
    "\n",
    "for i in range(5):\n",
    "    score(np.random.normal(0, 0.1, 1000), \n",
    "          np.random.normal(0, 0.1, 1000), \n",
    "          project_name=project_name).save()\n",
    "\n",
    "compare(load_scorecards(project_name),sort_metric_key='rmse', metrics_to_display=['mae', 'mse'])"
   ]
  },
  {
   "cell_type": "code",
   "execution_count": null,
   "metadata": {},
   "outputs": [],
   "source": []
  }
 ],
 "metadata": {
  "kernelspec": {
   "display_name": "krisitest",
   "language": "python",
   "name": "python3"
  },
  "language_info": {
   "codemirror_mode": {
    "name": "ipython",
    "version": 3
   },
   "file_extension": ".py",
   "mimetype": "text/x-python",
   "name": "python",
   "nbconvert_exporter": "python",
   "pygments_lexer": "ipython3",
   "version": "3.10.8"
  },
  "orig_nbformat": 4,
  "vscode": {
   "interpreter": {
    "hash": "681962a5ad02373fe6ace3c9a12cb4fcf99f6a43b070388c677260f5a10dc84e"
   }
  }
 },
 "nbformat": 4,
 "nbformat_minor": 2
}
