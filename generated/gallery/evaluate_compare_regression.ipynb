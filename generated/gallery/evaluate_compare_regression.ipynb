{
  "cells": [
    {
      "cell_type": "code",
      "execution_count": null,
      "metadata": {
        "collapsed": false
      },
      "outputs": [],
      "source": [
        "%matplotlib inline"
      ]
    },
    {
      "cell_type": "markdown",
      "metadata": {},
      "source": [
        "\nCompare Regression ScoreCards\n===========================\n"
      ]
    },
    {
      "cell_type": "code",
      "execution_count": null,
      "metadata": {
        "collapsed": false
      },
      "outputs": [],
      "source": [
        "# mkdocs_gallery_thumbnail_path = 'images/example_thumnail.png'\n\nimport numpy as np\n\nfrom krisi import compare, score\n\nscorecards = [\n    score(y=np.random.rand(1000), predictions=np.random.rand(1000)) for _ in range(5)\n]\nprint(compare(scorecards, metric_keys=[\"mse\", \"mae\"]))\nprint(\n    compare(\n        scorecards,\n        metric_keys=[\"mse\", \"mae\"],\n        dataframe=False,\n    ),\n)\nprint(compare(scorecards, sort_by=\"mae\"))\nprint(compare(scorecards, [\"mse\", \"mae\"]))\nprint(compare(scorecards, [\"mae\", \"mse\"]))"
      ]
    }
  ],
  "metadata": {
    "kernelspec": {
      "display_name": "Python 3",
      "language": "python",
      "name": "python3"
    },
    "language_info": {
      "codemirror_mode": {
        "name": "ipython",
        "version": 3
      },
      "file_extension": ".py",
      "mimetype": "text/x-python",
      "name": "python",
      "nbconvert_exporter": "python",
      "pygments_lexer": "ipython3",
      "version": "3.12.0"
    }
  },
  "nbformat": 4,
  "nbformat_minor": 0
}