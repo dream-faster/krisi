{
  "cells": [
    {
      "cell_type": "code",
      "execution_count": null,
      "metadata": {
        "collapsed": false
      },
      "outputs": [],
      "source": [
        "%matplotlib inline"
      ]
    },
    {
      "cell_type": "markdown",
      "metadata": {},
      "source": [
        "\nClassification with Probabilities\n===========================\n"
      ]
    },
    {
      "cell_type": "code",
      "execution_count": null,
      "metadata": {
        "collapsed": false
      },
      "outputs": [],
      "source": [
        "# mkdocs_gallery_thumbnail_path = 'images/example_thumnail.png'\n\n\nfrom krisi import score\nfrom krisi.utils.data import generate_random_classification\n\ny, preds, probs, sample_weight = generate_random_classification(\n    num_labels=2, num_samples=1000\n)\nsc = score(\n    y=y,\n    predictions=preds,\n    probabilities=probs,\n    # dataset_type=\"classification_binary_balanced\", # if automatic inference of dataset type fails\n    calculation=\"single\",\n)\nsc.print()\n\nsc = score(\n    y=y,\n    predictions=preds,\n    probabilities=probs,\n    # dataset_type=\"classification_binary_balanced\", # if automatic inference of dataset type fails\n    calculation=\"both\",\n)\nsc.print()\nsc.generate_report()"
      ]
    }
  ],
  "metadata": {
    "kernelspec": {
      "display_name": "Python 3",
      "language": "python",
      "name": "python3"
    },
    "language_info": {
      "codemirror_mode": {
        "name": "ipython",
        "version": 3
      },
      "file_extension": ".py",
      "mimetype": "text/x-python",
      "name": "python",
      "nbconvert_exporter": "python",
      "pygments_lexer": "ipython3",
      "version": "3.12.0"
    }
  },
  "nbformat": 4,
  "nbformat_minor": 0
}