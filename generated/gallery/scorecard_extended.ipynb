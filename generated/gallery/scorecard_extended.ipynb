{
  "cells": [
    {
      "cell_type": "code",
      "execution_count": null,
      "metadata": {
        "collapsed": false
      },
      "outputs": [],
      "source": [
        "%matplotlib inline"
      ]
    },
    {
      "cell_type": "markdown",
      "metadata": {},
      "source": [
        "\nExtended ScoreCard\n===========================\n"
      ]
    },
    {
      "cell_type": "code",
      "execution_count": null,
      "metadata": {
        "collapsed": false
      },
      "outputs": [],
      "source": [
        "# mkdocs_gallery_thumbnail_path = 'images/example_thumnail.png'\n\nimport numpy as np\n\nfrom krisi.evaluate import Metric, MetricCategories, SampleTypes, ScoreCard\n\ntarget, predictions = np.random.rand(100), np.random.rand(100)\n\nsc = ScoreCard(\n    y=target,\n    predictions=predictions,\n    model_name=\"<your_model_name>\",\n    dataset_name=\"<your_dataset_name>\",\n    sample_type=SampleTypes.insample,\n)\n\n\"\"\" Predefined metrics \"\"\"\nsc.evaluate(defaults=True)\n\n\"\"\" Adding a new metric \"\"\"\ncalculated_metric_example = (target - predictions).mean()\n\nsc[\"own_metric\"] = calculated_metric_example\n# or\nsc.another_metric = calculated_metric_example * 2.0\n# or\nsc[\"yet_another_metric\"] = Metric(\n    name=\"A new, own Metric\",\n    category=MetricCategories.residual,\n    result=calculated_metric_example * 3.0,\n    parameters={\"hyper_1\": 5.0},\n)\n\n# Updating a metric\nsc.yet_another_metric = dict(info=\"Giving description to a metric\")\n\n\"\"\" Print scorecard summary \"\"\"\nsc.print(\"extended\", with_info=True)"
      ]
    }
  ],
  "metadata": {
    "kernelspec": {
      "display_name": "Python 3",
      "language": "python",
      "name": "python3"
    },
    "language_info": {
      "codemirror_mode": {
        "name": "ipython",
        "version": 3
      },
      "file_extension": ".py",
      "mimetype": "text/x-python",
      "name": "python",
      "nbconvert_exporter": "python",
      "pygments_lexer": "ipython3",
      "version": "3.12.0"
    }
  },
  "nbformat": 4,
  "nbformat_minor": 0
}