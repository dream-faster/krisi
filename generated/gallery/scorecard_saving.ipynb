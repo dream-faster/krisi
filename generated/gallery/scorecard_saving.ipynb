{
  "cells": [
    {
      "cell_type": "code",
      "execution_count": null,
      "metadata": {
        "collapsed": false
      },
      "outputs": [],
      "source": [
        "%matplotlib inline"
      ]
    },
    {
      "cell_type": "markdown",
      "metadata": {},
      "source": [
        "\nScoreCard Saving\n===========================\n"
      ]
    },
    {
      "cell_type": "code",
      "execution_count": null,
      "metadata": {
        "collapsed": false
      },
      "outputs": [],
      "source": [
        "# mkdocs_gallery_thumbnail_path = 'images/example_thumnail.png'\n\nimport numpy as np\n\nfrom krisi import score\nfrom krisi.evaluate.type import SaveModes\n\nscorecard = score(y=np.random.rand(1000), predictions=np.random.rand(1000))\nscorecard.save(\n    save_modes=[\n        SaveModes.minimal,\n        SaveModes.obj,\n        SaveModes.text,\n        SaveModes.svg,\n        SaveModes.html,\n        SaveModes.text,\n    ]  # Optional, defaults to [ SaveModes.minimal, SaveModes.obj, SaveModes.text ]\n)"
      ]
    }
  ],
  "metadata": {
    "kernelspec": {
      "display_name": "Python 3",
      "language": "python",
      "name": "python3"
    },
    "language_info": {
      "codemirror_mode": {
        "name": "ipython",
        "version": 3
      },
      "file_extension": ".py",
      "mimetype": "text/x-python",
      "name": "python",
      "nbconvert_exporter": "python",
      "pygments_lexer": "ipython3",
      "version": "3.12.0"
    }
  },
  "nbformat": 4,
  "nbformat_minor": 0
}