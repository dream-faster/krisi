{
  "cells": [
    {
      "cell_type": "code",
      "execution_count": null,
      "metadata": {
        "collapsed": false
      },
      "outputs": [],
      "source": [
        "%matplotlib inline"
      ]
    },
    {
      "cell_type": "markdown",
      "metadata": {},
      "source": [
        "\nQuick Classification to Console\n===========================\n"
      ]
    },
    {
      "cell_type": "code",
      "execution_count": null,
      "metadata": {
        "collapsed": false
      },
      "outputs": [],
      "source": [
        "# mkdocs_gallery_thumbnail_path = 'images/example_thumnail.png'\n\n\nimport numpy as np\n\nfrom krisi import score\nfrom krisi.utils.data import create_probabilities\n\nnum_labels = 2\nnum_samples = 1000\nprobabilities = create_probabilities(num_labels=num_labels, num_samples=num_samples)\n\nsc = score(\n    y=np.random.randint(0, num_labels, num_samples),\n    predictions=np.random.randint(0, num_labels, num_samples),\n    probabilities=probabilities,\n    calculation=\"both\"\n    # dataset_type=\"classification_multilabel\", # if automatic inference of dataset type fails\n)\nsc.print()\nsc.generate_report()"
      ]
    }
  ],
  "metadata": {
    "kernelspec": {
      "display_name": "Python 3",
      "language": "python",
      "name": "python3"
    },
    "language_info": {
      "codemirror_mode": {
        "name": "ipython",
        "version": 3
      },
      "file_extension": ".py",
      "mimetype": "text/x-python",
      "name": "python",
      "nbconvert_exporter": "python",
      "pygments_lexer": "ipython3",
      "version": "3.12.0"
    }
  },
  "nbformat": 4,
  "nbformat_minor": 0
}