{
  "cells": [
    {
      "cell_type": "code",
      "execution_count": null,
      "metadata": {
        "collapsed": false
      },
      "outputs": [],
      "source": [
        "%matplotlib inline"
      ]
    },
    {
      "cell_type": "markdown",
      "metadata": {},
      "source": [
        "\nInteractive, HTML report\n===========================\n"
      ]
    },
    {
      "cell_type": "code",
      "execution_count": null,
      "metadata": {
        "collapsed": false
      },
      "outputs": [],
      "source": [
        "# mkdocs_gallery_thumbnail_path = 'images/example_thumnail.png'\n\nimport os\n\nimport numpy as np\n\nfrom krisi import score\nfrom krisi.evaluate.type import Calculation\nfrom krisi.report.type import DisplayModes\n\nsc = score(\n    y=np.random.random(1000),\n    predictions=np.random.random(1000),\n    model_name=\"ARIMA\",\n    model_description=\"You can explain main features of the project to be displayed in the report\",\n    dataset_name=\"APPLE Stocks\",\n    dataset_description=\"You can explain main features of the dataset to be displayed in the report\",\n    project_name=\"Quantitative Finance Project\",\n    project_description=\"The extra information about what the project is about will be displayed when creating a report\",\n    calculation=Calculation.rolling,\n)\n\nif \"PYTEST_CURRENT_TEST\" in os.environ:\n    print(\"Not testing Dash server currently\")\nelse:\n    sc.generate_report(\n        display_modes=[DisplayModes.interactive],\n    )"
      ]
    }
  ],
  "metadata": {
    "kernelspec": {
      "display_name": "Python 3",
      "language": "python",
      "name": "python3"
    },
    "language_info": {
      "codemirror_mode": {
        "name": "ipython",
        "version": 3
      },
      "file_extension": ".py",
      "mimetype": "text/x-python",
      "name": "python",
      "nbconvert_exporter": "python",
      "pygments_lexer": "ipython3",
      "version": "3.12.0"
    }
  },
  "nbformat": 4,
  "nbformat_minor": 0
}