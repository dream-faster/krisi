{
  "cells": [
    {
      "cell_type": "code",
      "execution_count": null,
      "metadata": {
        "collapsed": false
      },
      "outputs": [],
      "source": [
        "%matplotlib inline"
      ]
    },
    {
      "cell_type": "markdown",
      "metadata": {},
      "source": [
        "\nLoad then generate Report\n===========================\n"
      ]
    },
    {
      "cell_type": "code",
      "execution_count": null,
      "metadata": {
        "collapsed": false
      },
      "outputs": [],
      "source": [
        "# mkdocs_gallery_thumbnail_path = 'images/example_thumnail.png'\n\n\nimport os\n\nimport numpy as np\n\nfrom krisi import ScoreCard\nfrom krisi.evaluate.type import PathConst\nfrom krisi.utils.io import load_scorecards\n\n\ndef create_scorecard(project_name: str) -> None:\n    target, predictions = np.random.rand(100), np.random.rand(100)\n\n    sc = ScoreCard(\n        target,\n        predictions,\n        model_name=\"<your_model_name>\",\n        dataset_name=\"<your_dataset_name>\",\n        project_name=project_name,\n    )\n\n    sc.evaluate(defaults=True)\n    sc.save()\n\n\ndef load_and_generate(project_name: str) -> None:\n    scorecard = load_scorecards(project_name, PathConst.default_eval_output_path)\n    scorecard[-1].generate_report()\n\n\nproject_name = \"Example Project\"\ncreate_scorecard(project_name)\n\n\nif \"PYTEST_CURRENT_TEST\" in os.environ:\n    print(\"Not testing Dash server currently\")\nelse:\n    load_and_generate(project_name)"
      ]
    }
  ],
  "metadata": {
    "kernelspec": {
      "display_name": "Python 3",
      "language": "python",
      "name": "python3"
    },
    "language_info": {
      "codemirror_mode": {
        "name": "ipython",
        "version": 3
      },
      "file_extension": ".py",
      "mimetype": "text/x-python",
      "name": "python",
      "nbconvert_exporter": "python",
      "pygments_lexer": "ipython3",
      "version": "3.12.0"
    }
  },
  "nbformat": 4,
  "nbformat_minor": 0
}