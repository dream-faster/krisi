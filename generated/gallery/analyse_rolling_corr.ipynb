{
  "cells": [
    {
      "cell_type": "code",
      "execution_count": null,
      "metadata": {
        "collapsed": false
      },
      "outputs": [],
      "source": [
        "%matplotlib inline"
      ]
    },
    {
      "cell_type": "markdown",
      "metadata": {},
      "source": [
        "\nAnalysing rolling correlations\n===========================\n"
      ]
    },
    {
      "cell_type": "code",
      "execution_count": null,
      "metadata": {
        "collapsed": false
      },
      "outputs": [],
      "source": [
        "# mkdocs_gallery_thumbnail_path = 'images/example_thumnail.png'\n\n\nimport numpy as np\nimport pandas as pd\n\nfrom krisi.analyse import (\n    get_rolled_corr_metrics,\n    matrix_corr_over_time,\n    plot_corr_over_time,\n)\nfrom krisi.report.graph import create_save_graphs\n\ndf = pd.read_csv(\n    \"https://raw.githubusercontent.com/dream-faster/datasets/main/datasets/energy/industrial_pv_load.csv\",\n    parse_dates=[\"datetime\"],\n    index_col=\"datetime\",\n)[:1000]\n\ndf_returns = df.pct_change().fillna(0)\ndf_log_returns = pd.DataFrame(np.log(1 + df_returns))\n\nwindow = 96  # One day measurement\nstep = 1\n\nfor name, df_ in [\n    (\"raw\", df),\n    (\"returns\", df_returns),\n    (\"log_returns\", df_log_returns),\n]:\n    coor_unrolled_in_time, corr_std, corr_mean = get_rolled_corr_metrics(\n        df_, window=window, step=step\n    )\n    plot_corr_over_time(df, window, step, name=name, save_or_display=[\"display\"])\n    create_save_graphs([matrix_corr_over_time(df, window, step, threshold=0.25)[1]])"
      ]
    }
  ],
  "metadata": {
    "kernelspec": {
      "display_name": "Python 3",
      "language": "python",
      "name": "python3"
    },
    "language_info": {
      "codemirror_mode": {
        "name": "ipython",
        "version": 3
      },
      "file_extension": ".py",
      "mimetype": "text/x-python",
      "name": "python",
      "nbconvert_exporter": "python",
      "pygments_lexer": "ipython3",
      "version": "3.12.0"
    }
  },
  "nbformat": 4,
  "nbformat_minor": 0
}