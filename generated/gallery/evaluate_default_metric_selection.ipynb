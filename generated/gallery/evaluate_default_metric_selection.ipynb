{
  "cells": [
    {
      "cell_type": "code",
      "execution_count": null,
      "metadata": {
        "collapsed": false
      },
      "outputs": [],
      "source": [
        "%matplotlib inline"
      ]
    },
    {
      "cell_type": "markdown",
      "metadata": {},
      "source": [
        "\nDefault Metric Selection\n===========================\n"
      ]
    },
    {
      "cell_type": "code",
      "execution_count": null,
      "metadata": {
        "collapsed": false
      },
      "outputs": [],
      "source": [
        "# mkdocs_gallery_thumbnail_path = 'images/example_thumnail.png'\n\nimport numpy as np\n\nfrom krisi import library, score\n\nscore(\n    y=np.random.random(1000),\n    predictions=np.random.random(1000),\n    default_metrics=library.RegressionRegistry().all_regression_metrics,  # This is the default\n).print()\n\nscore(\n    y=np.random.random(1000),\n    predictions=np.random.random(1000),\n    default_metrics=library.RegressionRegistry().minimal_regression_metrics,\n).print(input_analysis=False)\n\nscore(\n    y=np.random.random(1000),\n    predictions=np.random.random(1000),\n    default_metrics=library.RegressionRegistry().low_computation_regression_metrics,\n).print(input_analysis=False)"
      ]
    }
  ],
  "metadata": {
    "kernelspec": {
      "display_name": "Python 3",
      "language": "python",
      "name": "python3"
    },
    "language_info": {
      "codemirror_mode": {
        "name": "ipython",
        "version": 3
      },
      "file_extension": ".py",
      "mimetype": "text/x-python",
      "name": "python",
      "nbconvert_exporter": "python",
      "pygments_lexer": "ipython3",
      "version": "3.12.0"
    }
  },
  "nbformat": 4,
  "nbformat_minor": 0
}