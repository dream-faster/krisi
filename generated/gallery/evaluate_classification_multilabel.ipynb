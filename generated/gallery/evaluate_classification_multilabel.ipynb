{
  "cells": [
    {
      "cell_type": "code",
      "execution_count": null,
      "metadata": {
        "collapsed": false
      },
      "outputs": [],
      "source": [
        "%matplotlib inline"
      ]
    },
    {
      "cell_type": "markdown",
      "metadata": {},
      "source": [
        "\nClassification with multiple labels and probabilities\n===========================\n"
      ]
    },
    {
      "cell_type": "code",
      "execution_count": null,
      "metadata": {
        "collapsed": false
      },
      "outputs": [],
      "source": [
        "# mkdocs_gallery_thumbnail_path = 'images/example_thumnail.png'\n\n\nfrom krisi import library, score\nfrom krisi.utils.data import generate_random_classification\n\ny, preds, probs, sample_weight = generate_random_classification(\n    num_labels=5, num_samples=1000\n)\nscore(\n    y=y,\n    predictions=preds,\n    probabilities=probs,\n    # dataset_type=\"classification_multilabel\", # if automatic inference of dataset type fails\n    calculation=\"single\",\n    default_metrics=library.ClassificationRegistry().multiclass_classification_metrics,\n).print()"
      ]
    }
  ],
  "metadata": {
    "kernelspec": {
      "display_name": "Python 3",
      "language": "python",
      "name": "python3"
    },
    "language_info": {
      "codemirror_mode": {
        "name": "ipython",
        "version": 3
      },
      "file_extension": ".py",
      "mimetype": "text/x-python",
      "name": "python",
      "nbconvert_exporter": "python",
      "pygments_lexer": "ipython3",
      "version": "3.12.0"
    }
  },
  "nbformat": 4,
  "nbformat_minor": 0
}