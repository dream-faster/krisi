{
  "cells": [
    {
      "cell_type": "code",
      "execution_count": null,
      "metadata": {
        "collapsed": false
      },
      "outputs": [],
      "source": [
        "%matplotlib inline"
      ]
    },
    {
      "cell_type": "markdown",
      "metadata": {},
      "source": [
        "\nBasic ScoreCard\n===========================\n"
      ]
    },
    {
      "cell_type": "code",
      "execution_count": null,
      "metadata": {
        "collapsed": false
      },
      "outputs": [],
      "source": [
        "# mkdocs_gallery_thumbnail_path = 'images/example_thumnail.png'\n\nimport numpy as np\n\nfrom krisi.evaluate import SampleTypes, ScoreCard\n\ntarget, predictions = np.random.rand(1000), np.random.rand(1000)\nsc = ScoreCard(\n    target,\n    predictions,\n    model_name=\"<your_model_name>\",\n    dataset_name=\"<your_dataset_name>\",\n    sample_type=SampleTypes.insample,\n)\n\n\"\"\" A predefined metrics \"\"\"\nsc.evaluate(defaults=True)\n\n\"\"\" Adding a new metric \"\"\"\nsc[\"own_metric\"] = (target - predictions).mean()\n\n\"\"\" Print scorecard summary \"\"\"\nsc.print(\"extended\")"
      ]
    }
  ],
  "metadata": {
    "kernelspec": {
      "display_name": "Python 3",
      "language": "python",
      "name": "python3"
    },
    "language_info": {
      "codemirror_mode": {
        "name": "ipython",
        "version": 3
      },
      "file_extension": ".py",
      "mimetype": "text/x-python",
      "name": "python",
      "nbconvert_exporter": "python",
      "pygments_lexer": "ipython3",
      "version": "3.12.0"
    }
  },
  "nbformat": 4,
  "nbformat_minor": 0
}