{
  "cells": [
    {
      "cell_type": "code",
      "execution_count": null,
      "metadata": {
        "collapsed": false
      },
      "outputs": [],
      "source": [
        "%matplotlib inline"
      ]
    },
    {
      "cell_type": "markdown",
      "metadata": {},
      "source": [
        "\nBasic Loading\n===========================\n"
      ]
    },
    {
      "cell_type": "code",
      "execution_count": null,
      "metadata": {
        "collapsed": false
      },
      "outputs": [],
      "source": [
        "# mkdocs_gallery_thumbnail_path = 'images/example_thumnail.png'\n\nimport numpy as np\n\nfrom krisi import score\nfrom krisi.evaluate.type import Calculation\n\ndatasize = 250\n\nscore(\n    y=np.random.rand(datasize),\n    predictions=np.random.rand(datasize),\n    calculation=Calculation.rolling,\n).print()\n\nscore(\n    y=np.random.rand(datasize),\n    predictions=np.random.rand(datasize),\n    calculation=Calculation.rolling,\n)"
      ]
    }
  ],
  "metadata": {
    "kernelspec": {
      "display_name": "Python 3",
      "language": "python",
      "name": "python3"
    },
    "language_info": {
      "codemirror_mode": {
        "name": "ipython",
        "version": 3
      },
      "file_extension": ".py",
      "mimetype": "text/x-python",
      "name": "python",
      "nbconvert_exporter": "python",
      "pygments_lexer": "ipython3",
      "version": "3.12.0"
    }
  },
  "nbformat": 4,
  "nbformat_minor": 0
}