{
  "cells": [
    {
      "cell_type": "code",
      "execution_count": null,
      "metadata": {
        "collapsed": false
      },
      "outputs": [],
      "source": [
        "%matplotlib inline"
      ]
    },
    {
      "cell_type": "markdown",
      "metadata": {},
      "source": [
        "\nBasic Loading\n===========================\n"
      ]
    },
    {
      "cell_type": "code",
      "execution_count": null,
      "metadata": {
        "collapsed": false
      },
      "outputs": [],
      "source": [
        "# mkdocs_gallery_thumbnail_path = 'images/example_thumnail.png'\n\nimport numpy as np\n\nfrom krisi import compare, score\nfrom krisi.evaluate.type import PathConst\nfrom krisi.utils.io import load_scorecards\n\nproject_name = \"Example Load\"\n\nfor _ in range(5):\n    score(\n        y=np.random.rand(1000),\n        predictions=np.random.rand(1000),\n        project_name=project_name,\n    ).save()\n\n\nprint(\n    compare(\n        load_scorecards(project_name, PathConst.default_eval_output_path),\n        metric_keys=[\"mse\"],\n    )\n)"
      ]
    }
  ],
  "metadata": {
    "kernelspec": {
      "display_name": "Python 3",
      "language": "python",
      "name": "python3"
    },
    "language_info": {
      "codemirror_mode": {
        "name": "ipython",
        "version": 3
      },
      "file_extension": ".py",
      "mimetype": "text/x-python",
      "name": "python",
      "nbconvert_exporter": "python",
      "pygments_lexer": "ipython3",
      "version": "3.12.0"
    }
  },
  "nbformat": 4,
  "nbformat_minor": 0
}