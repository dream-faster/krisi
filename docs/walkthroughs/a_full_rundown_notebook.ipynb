{
  "cells": [
    {
      "attachments": {},
      "cell_type": "markdown",
      "metadata": {},
      "source": [
        "# `Krisi` Quick Intro Notebook\n",
        "---\n",
        "Welcome to Krisi! This notebook helps you get onboard with the core functionality of `Krisi`.\n",
        "\n",
        "By the end you will be able to:\n",
        "* evaluate your Time-Series predictions, \n",
        "* save the results and \n",
        "* generate a report.\n",
        "* comparing multiple scorecards.\n",
        "\n",
        "---\n",
        "\n",
        "## Evaluating the results of a single ScoreCard\n",
        "### First, let's import the needed libraries:"
      ]
    },
    {
      "cell_type": "code",
      "execution_count": 1,
      "metadata": {},
      "outputs": [],
      "source": [
        "import numpy as np\n",
        "from krisi import score"
      ]
    },
    {
      "attachments": {},
      "cell_type": "markdown",
      "metadata": {},
      "source": [
        "### Generate normally distributed synthetic data for demonstration purposes"
      ]
    },
    {
      "cell_type": "code",
      "execution_count": 2,
      "metadata": {},
      "outputs": [],
      "source": [
        "y=np.random.normal(0, 0.1, 1000) # Targets\n",
        "predictions=np.random.normal(0, 0.1, 1000) # Artifical predictions"
      ]
    },
    {
      "attachments": {},
      "cell_type": "markdown",
      "metadata": {},
      "source": [
        "### Use the `score` helper function to evaluate your results\n",
        "\n",
        "`score` simply wraps `ScoreCard` initalization and `ScoreCard.evaluate()` ."
      ]
    },
    {
      "cell_type": "code",
      "execution_count": 3,
      "metadata": {},
      "outputs": [],
      "source": [
        "scorecard = score(y, predictions)"
      ]
    },
    {
      "attachments": {},
      "cell_type": "markdown",
      "metadata": {},
      "source": [
        "The ScoreCard object is the main engine of `krisi`. It stores the `targets` and `predictions`, the metrics that we have specified (default metrics and custom metrics) and useful *optional* metadata, such as `model_name`, `dataset_description`, etc.\n",
        "\n",
        "Once we have the ScoreCard evaluated, we can generate various reports with it."
      ]
    },
    {
      "cell_type": "code",
      "execution_count": 4,
      "metadata": {},
      "outputs": [
        {
          "data": {
            "text/html": [
              "<div>\n",
              "<style scoped>\n",
              "    .dataframe tbody tr th:only-of-type {\n",
              "        vertical-align: middle;\n",
              "    }\n",
              "\n",
              "    .dataframe tbody tr th {\n",
              "        vertical-align: top;\n",
              "    }\n",
              "\n",
              "    .dataframe thead th {\n",
              "        text-align: right;\n",
              "    }\n",
              "</style>\n",
              "<table border=\"1\" class=\"dataframe\">\n",
              "  <thead>\n",
              "    <tr style=\"text-align: right;\">\n",
              "      <th></th>\n",
              "      <th>Model_20230505-1503244121b729</th>\n",
              "    </tr>\n",
              "  </thead>\n",
              "  <tbody>\n",
              "    <tr>\n",
              "      <th>Mean Absolute Error</th>\n",
              "      <td>0.111487</td>\n",
              "    </tr>\n",
              "    <tr>\n",
              "      <th>Mean Absolute Percentage Error</th>\n",
              "      <td>5.445389</td>\n",
              "    </tr>\n",
              "    <tr>\n",
              "      <th>Symmetric Mean Absolute Percentage Error</th>\n",
              "      <td>0.726189</td>\n",
              "    </tr>\n",
              "    <tr>\n",
              "      <th>Mean Squared Error</th>\n",
              "      <td>0.019755</td>\n",
              "    </tr>\n",
              "    <tr>\n",
              "      <th>Root Mean Squared Error</th>\n",
              "      <td>0.140553</td>\n",
              "    </tr>\n",
              "    <tr>\n",
              "      <th>R-squared</th>\n",
              "      <td>-0.992590</td>\n",
              "    </tr>\n",
              "    <tr>\n",
              "      <th>Mean of the Residuals</th>\n",
              "      <td>-0.006759</td>\n",
              "    </tr>\n",
              "    <tr>\n",
              "      <th>Standard Deviation of the Residuals</th>\n",
              "      <td>0.140460</td>\n",
              "    </tr>\n",
              "  </tbody>\n",
              "</table>\n",
              "</div>"
            ],
            "text/plain": [
              "                                          Model_20230505-1503244121b729\n",
              "                     Mean Absolute Error                       0.111487\n",
              "          Mean Absolute Percentage Error                       5.445389\n",
              "Symmetric Mean Absolute Percentage Error                       0.726189\n",
              "                      Mean Squared Error                       0.019755\n",
              "                 Root Mean Squared Error                       0.140553\n",
              "                               R-squared                      -0.992590\n",
              "                   Mean of the Residuals                      -0.006759\n",
              "     Standard Deviation of the Residuals                       0.140460"
            ]
          },
          "metadata": {},
          "output_type": "display_data"
        }
      ],
      "source": [
        "''' Printing a minimal result by passing in `minimal` '''\n",
        "scorecard.print('minimal')"
      ]
    },
    {
      "cell_type": "code",
      "execution_count": 5,
      "metadata": {},
      "outputs": [
        {
          "data": {
            "text/html": [
              "<pre style=\"white-space:pre;overflow-x:auto;line-height:normal;font-family:Menlo,'DejaVu Sans Mono',consolas,'Courier New',monospace\">┏━━━━━━━ Result of Model_20230505-1503244121b729 on Dataset_20230505-1503241886c577 tested on outofsample ━━━━━━━━┓\n",
              "┃                                                                                                                 ┃\n",
              "┃ <span style=\"font-style: italic\">                                       Targets and Predictions Analysis                                        </span> ┃\n",
              "┃ ╭────────────────────┬──────────────────────────────────────────────────────────┬──────────────┬──────────────╮ ┃\n",
              "┃ │<span style=\"font-weight: bold\">        Series Type </span>│<span style=\"font-weight: bold\"> Histogram                                                </span>│<span style=\"font-weight: bold\">        Types </span>│<span style=\"font-weight: bold\">     Indicies </span>│ ┃\n",
              "┃ ├────────────────────┼──────────────────────────────────────────────────────────┼──────────────┼──────────────┤ ┃\n",
              "┃ │<span style=\"color: #008080; text-decoration-color: #008080\">            Targets </span>│<span style=\"color: #008080; text-decoration-color: #008080\"> </span><span style=\"color: #008080; text-decoration-color: #008080; background-color: #000000\">    </span><span style=\"color: #808000; text-decoration-color: #808000; background-color: #000000\">┌──────────────────────────────────────────────────┐</span><span style=\"color: #008080; text-decoration-color: #008080\"> </span>│<span style=\"color: #008080; text-decoration-color: #008080\">      NaNs: 0 </span>│<span style=\"color: #008080; text-decoration-color: #008080\">     Start: 0 </span>│ ┃\n",
              "┃ │<span style=\"color: #008080; text-decoration-color: #008080\">                    </span>│<span style=\"color: #008080; text-decoration-color: #008080\"> </span><span style=\"color: #808000; text-decoration-color: #808000; background-color: #000000\">86.0┤</span><span style=\"color: #008080; text-decoration-color: #008080; background-color: #000000\">                       </span><span style=\"color: #0000ff; text-decoration-color: #0000ff; background-color: #000000\">██</span><span style=\"color: #008080; text-decoration-color: #008080; background-color: #000000\">                         </span><span style=\"color: #808000; text-decoration-color: #808000; background-color: #000000\">│</span><span style=\"color: #008080; text-decoration-color: #008080\"> </span>│<span style=\"color: #008080; text-decoration-color: #008080\">       dtype: </span>│<span style=\"color: #008080; text-decoration-color: #008080\">     End: 999 </span>│ ┃\n",
              "┃ │<span style=\"color: #008080; text-decoration-color: #008080\">                    </span>│<span style=\"color: #008080; text-decoration-color: #008080\"> </span><span style=\"color: #808000; text-decoration-color: #808000; background-color: #000000\">71.7┤</span><span style=\"color: #008080; text-decoration-color: #008080; background-color: #000000\">                     </span><span style=\"color: #0000ff; text-decoration-color: #0000ff; background-color: #000000\">██████</span><span style=\"color: #008080; text-decoration-color: #008080; background-color: #000000\">                       </span><span style=\"color: #808000; text-decoration-color: #808000; background-color: #000000\">│</span><span style=\"color: #008080; text-decoration-color: #008080\"> </span>│<span style=\"color: #008080; text-decoration-color: #008080\">      float64 </span>│<span style=\"color: #008080; text-decoration-color: #008080\">              </span>│ ┃\n",
              "┃ │<span style=\"color: #008080; text-decoration-color: #008080\">                    </span>│<span style=\"color: #008080; text-decoration-color: #008080\"> </span><span style=\"color: #808000; text-decoration-color: #808000; background-color: #000000\">57.3┤</span><span style=\"color: #008080; text-decoration-color: #008080; background-color: #000000\">                </span><span style=\"color: #0000ff; text-decoration-color: #0000ff; background-color: #000000\">██</span><span style=\"color: #008080; text-decoration-color: #008080; background-color: #000000\">  </span><span style=\"color: #0000ff; text-decoration-color: #0000ff; background-color: #000000\">████████</span><span style=\"color: #008080; text-decoration-color: #008080; background-color: #000000\">                      </span><span style=\"color: #808000; text-decoration-color: #808000; background-color: #000000\">│</span><span style=\"color: #008080; text-decoration-color: #008080\"> </span>│<span style=\"color: #008080; text-decoration-color: #008080\">              </span>│<span style=\"color: #008080; text-decoration-color: #008080\">              </span>│ ┃\n",
              "┃ │<span style=\"color: #008080; text-decoration-color: #008080\">                    </span>│<span style=\"color: #008080; text-decoration-color: #008080\"> </span><span style=\"color: #808000; text-decoration-color: #808000; background-color: #000000\">43.0┤</span><span style=\"color: #008080; text-decoration-color: #008080; background-color: #000000\">               </span><span style=\"color: #0000ff; text-decoration-color: #0000ff; background-color: #000000\">█████████████████</span><span style=\"color: #008080; text-decoration-color: #008080; background-color: #000000\">                  </span><span style=\"color: #808000; text-decoration-color: #808000; background-color: #000000\">│</span><span style=\"color: #008080; text-decoration-color: #008080\"> </span>│<span style=\"color: #008080; text-decoration-color: #008080\">              </span>│<span style=\"color: #008080; text-decoration-color: #008080\">              </span>│ ┃\n",
              "┃ │<span style=\"color: #008080; text-decoration-color: #008080\">                    </span>│<span style=\"color: #008080; text-decoration-color: #008080\"> </span><span style=\"color: #808000; text-decoration-color: #808000; background-color: #000000\">28.7┤</span><span style=\"color: #008080; text-decoration-color: #008080; background-color: #000000\">              </span><span style=\"color: #0000ff; text-decoration-color: #0000ff; background-color: #000000\">█████████████████████</span><span style=\"color: #008080; text-decoration-color: #008080; background-color: #000000\">               </span><span style=\"color: #808000; text-decoration-color: #808000; background-color: #000000\">│</span><span style=\"color: #008080; text-decoration-color: #008080\"> </span>│<span style=\"color: #008080; text-decoration-color: #008080\">              </span>│<span style=\"color: #008080; text-decoration-color: #008080\">              </span>│ ┃\n",
              "┃ │<span style=\"color: #008080; text-decoration-color: #008080\">                    </span>│<span style=\"color: #008080; text-decoration-color: #008080\"> </span><span style=\"color: #808000; text-decoration-color: #808000; background-color: #000000\">14.3┤</span><span style=\"color: #008080; text-decoration-color: #008080; background-color: #000000\">       </span><span style=\"color: #0000ff; text-decoration-color: #0000ff; background-color: #000000\">██</span><span style=\"color: #008080; text-decoration-color: #008080; background-color: #000000\"> </span><span style=\"color: #0000ff; text-decoration-color: #0000ff; background-color: #000000\">██████████████████████████████</span><span style=\"color: #008080; text-decoration-color: #008080; background-color: #000000\">          </span><span style=\"color: #808000; text-decoration-color: #808000; background-color: #000000\">│</span><span style=\"color: #008080; text-decoration-color: #008080\"> </span>│<span style=\"color: #008080; text-decoration-color: #008080\">              </span>│<span style=\"color: #008080; text-decoration-color: #008080\">              </span>│ ┃\n",
              "┃ │<span style=\"color: #008080; text-decoration-color: #008080\">                    </span>│<span style=\"color: #008080; text-decoration-color: #008080\"> </span><span style=\"color: #808000; text-decoration-color: #808000; background-color: #000000\"> 0.0┤</span><span style=\"color: #0000ff; text-decoration-color: #0000ff; background-color: #000000\">██████████████████████████████████████████  ██████</span><span style=\"color: #808000; text-decoration-color: #808000; background-color: #000000\">│</span><span style=\"color: #008080; text-decoration-color: #008080\"> </span>│<span style=\"color: #008080; text-decoration-color: #008080\">              </span>│<span style=\"color: #008080; text-decoration-color: #008080\">              </span>│ ┃\n",
              "┃ │<span style=\"color: #008080; text-decoration-color: #008080\">                    </span>│<span style=\"color: #008080; text-decoration-color: #008080\"> </span><span style=\"color: #008080; text-decoration-color: #008080; background-color: #000000\">    </span><span style=\"color: #808000; text-decoration-color: #808000; background-color: #000000\">└┬───────────┬────────────┬───────────┬───────────┬┘</span><span style=\"color: #008080; text-decoration-color: #008080\"> </span>│<span style=\"color: #008080; text-decoration-color: #008080\">              </span>│<span style=\"color: #008080; text-decoration-color: #008080\">              </span>│ ┃\n",
              "┃ │<span style=\"color: #008080; text-decoration-color: #008080\">                    </span>│<span style=\"color: #008080; text-decoration-color: #008080\"> </span><span style=\"color: #008080; text-decoration-color: #008080; background-color: #000000\">   </span><span style=\"color: #808000; text-decoration-color: #808000; background-color: #000000\">-0.32</span><span style=\"color: #008080; text-decoration-color: #008080; background-color: #000000\">       </span><span style=\"color: #808000; text-decoration-color: #808000; background-color: #000000\">-0.15</span><span style=\"color: #008080; text-decoration-color: #008080; background-color: #000000\">        </span><span style=\"color: #808000; text-decoration-color: #808000; background-color: #000000\">0.01</span><span style=\"color: #008080; text-decoration-color: #008080; background-color: #000000\">        </span><span style=\"color: #808000; text-decoration-color: #808000; background-color: #000000\">0.18</span><span style=\"color: #008080; text-decoration-color: #008080; background-color: #000000\">       </span><span style=\"color: #808000; text-decoration-color: #808000; background-color: #000000\">0.35</span><span style=\"color: #008080; text-decoration-color: #008080; background-color: #000000\"> </span><span style=\"color: #008080; text-decoration-color: #008080\"> </span>│<span style=\"color: #008080; text-decoration-color: #008080\">              </span>│<span style=\"color: #008080; text-decoration-color: #008080\">              </span>│ ┃\n",
              "┃ ├────────────────────┼──────────────────────────────────────────────────────────┼──────────────┼──────────────┤ ┃\n",
              "┃ │<span style=\"color: #008080; text-decoration-color: #008080\">        Predictions </span>│<span style=\"color: #008080; text-decoration-color: #008080\"> </span><span style=\"color: #008080; text-decoration-color: #008080; background-color: #000000\">    </span><span style=\"color: #808000; text-decoration-color: #808000; background-color: #000000\">┌──────────────────────────────────────────────────┐</span><span style=\"color: #008080; text-decoration-color: #008080\"> </span>│<span style=\"color: #008080; text-decoration-color: #008080\">      NaNs: 0 </span>│<span style=\"color: #008080; text-decoration-color: #008080\">     Start: 0 </span>│ ┃\n",
              "┃ │<span style=\"color: #008080; text-decoration-color: #008080\">                    </span>│<span style=\"color: #008080; text-decoration-color: #008080\"> </span><span style=\"color: #808000; text-decoration-color: #808000; background-color: #000000\">75.0┤</span><span style=\"color: #008080; text-decoration-color: #008080; background-color: #000000\">                     </span><span style=\"color: #0000ff; text-decoration-color: #0000ff; background-color: #000000\">████</span><span style=\"color: #008080; text-decoration-color: #008080; background-color: #000000\">                         </span><span style=\"color: #808000; text-decoration-color: #808000; background-color: #000000\">│</span><span style=\"color: #008080; text-decoration-color: #008080\"> </span>│<span style=\"color: #008080; text-decoration-color: #008080\">       dtype: </span>│<span style=\"color: #008080; text-decoration-color: #008080\">     End: 999 </span>│ ┃\n",
              "┃ │<span style=\"color: #008080; text-decoration-color: #008080\">                    </span>│<span style=\"color: #008080; text-decoration-color: #008080\"> </span><span style=\"color: #808000; text-decoration-color: #808000; background-color: #000000\">62.5┤</span><span style=\"color: #008080; text-decoration-color: #008080; background-color: #000000\">                     </span><span style=\"color: #0000ff; text-decoration-color: #0000ff; background-color: #000000\">███████</span><span style=\"color: #008080; text-decoration-color: #008080; background-color: #000000\">                      </span><span style=\"color: #808000; text-decoration-color: #808000; background-color: #000000\">│</span><span style=\"color: #008080; text-decoration-color: #008080\"> </span>│<span style=\"color: #008080; text-decoration-color: #008080\">      float64 </span>│<span style=\"color: #008080; text-decoration-color: #008080\">              </span>│ ┃\n",
              "┃ │<span style=\"color: #008080; text-decoration-color: #008080\">                    </span>│<span style=\"color: #008080; text-decoration-color: #008080\"> </span><span style=\"color: #808000; text-decoration-color: #808000; background-color: #000000\">50.0┤</span><span style=\"color: #008080; text-decoration-color: #008080; background-color: #000000\">                </span><span style=\"color: #0000ff; text-decoration-color: #0000ff; background-color: #000000\">██████████████</span><span style=\"color: #008080; text-decoration-color: #008080; background-color: #000000\"> </span><span style=\"color: #0000ff; text-decoration-color: #0000ff; background-color: #000000\">██</span><span style=\"color: #008080; text-decoration-color: #008080; background-color: #000000\">                 </span><span style=\"color: #808000; text-decoration-color: #808000; background-color: #000000\">│</span><span style=\"color: #008080; text-decoration-color: #008080\"> </span>│<span style=\"color: #008080; text-decoration-color: #008080\">              </span>│<span style=\"color: #008080; text-decoration-color: #008080\">              </span>│ ┃\n",
              "┃ │<span style=\"color: #008080; text-decoration-color: #008080\">                    </span>│<span style=\"color: #008080; text-decoration-color: #008080\"> </span><span style=\"color: #808000; text-decoration-color: #808000; background-color: #000000\">37.5┤</span><span style=\"color: #008080; text-decoration-color: #008080; background-color: #000000\">                </span><span style=\"color: #0000ff; text-decoration-color: #0000ff; background-color: #000000\">█████████████████</span><span style=\"color: #008080; text-decoration-color: #008080; background-color: #000000\">                 </span><span style=\"color: #808000; text-decoration-color: #808000; background-color: #000000\">│</span><span style=\"color: #008080; text-decoration-color: #008080\"> </span>│<span style=\"color: #008080; text-decoration-color: #008080\">              </span>│<span style=\"color: #008080; text-decoration-color: #008080\">              </span>│ ┃\n",
              "┃ │<span style=\"color: #008080; text-decoration-color: #008080\">                    </span>│<span style=\"color: #008080; text-decoration-color: #008080\"> </span><span style=\"color: #808000; text-decoration-color: #808000; background-color: #000000\">25.0┤</span><span style=\"color: #008080; text-decoration-color: #008080; background-color: #000000\">           </span><span style=\"color: #0000ff; text-decoration-color: #0000ff; background-color: #000000\">█████████████████████████</span><span style=\"color: #008080; text-decoration-color: #008080; background-color: #000000\">              </span><span style=\"color: #808000; text-decoration-color: #808000; background-color: #000000\">│</span><span style=\"color: #008080; text-decoration-color: #008080\"> </span>│<span style=\"color: #008080; text-decoration-color: #008080\">              </span>│<span style=\"color: #008080; text-decoration-color: #008080\">              </span>│ ┃\n",
              "┃ │<span style=\"color: #008080; text-decoration-color: #008080\">                    </span>│<span style=\"color: #008080; text-decoration-color: #008080\"> </span><span style=\"color: #808000; text-decoration-color: #808000; background-color: #000000\">12.5┤</span><span style=\"color: #008080; text-decoration-color: #008080; background-color: #000000\">      </span><span style=\"color: #0000ff; text-decoration-color: #0000ff; background-color: #000000\">██████████████████████████████████</span><span style=\"color: #008080; text-decoration-color: #008080; background-color: #000000\">          </span><span style=\"color: #808000; text-decoration-color: #808000; background-color: #000000\">│</span><span style=\"color: #008080; text-decoration-color: #008080\"> </span>│<span style=\"color: #008080; text-decoration-color: #008080\">              </span>│<span style=\"color: #008080; text-decoration-color: #008080\">              </span>│ ┃\n",
              "┃ │<span style=\"color: #008080; text-decoration-color: #008080\">                    </span>│<span style=\"color: #008080; text-decoration-color: #008080\"> </span><span style=\"color: #808000; text-decoration-color: #808000; background-color: #000000\"> 0.0┤</span><span style=\"color: #0000ff; text-decoration-color: #0000ff; background-color: #000000\">███████████████████████████████████████████████ ██</span><span style=\"color: #808000; text-decoration-color: #808000; background-color: #000000\">│</span><span style=\"color: #008080; text-decoration-color: #008080\"> </span>│<span style=\"color: #008080; text-decoration-color: #008080\">              </span>│<span style=\"color: #008080; text-decoration-color: #008080\">              </span>│ ┃\n",
              "┃ │<span style=\"color: #008080; text-decoration-color: #008080\">                    </span>│<span style=\"color: #008080; text-decoration-color: #008080\"> </span><span style=\"color: #008080; text-decoration-color: #008080; background-color: #000000\">    </span><span style=\"color: #808000; text-decoration-color: #808000; background-color: #000000\">└┬───────────┬────────────┬───────────┬───────────┬┘</span><span style=\"color: #008080; text-decoration-color: #008080\"> </span>│<span style=\"color: #008080; text-decoration-color: #008080\">              </span>│<span style=\"color: #008080; text-decoration-color: #008080\">              </span>│ ┃\n",
              "┃ │<span style=\"color: #008080; text-decoration-color: #008080\">                    </span>│<span style=\"color: #008080; text-decoration-color: #008080\"> </span><span style=\"color: #008080; text-decoration-color: #008080; background-color: #000000\">   </span><span style=\"color: #808000; text-decoration-color: #808000; background-color: #000000\">-0.31</span><span style=\"color: #008080; text-decoration-color: #008080; background-color: #000000\">       </span><span style=\"color: #808000; text-decoration-color: #808000; background-color: #000000\">-0.15</span><span style=\"color: #008080; text-decoration-color: #008080; background-color: #000000\">        </span><span style=\"color: #808000; text-decoration-color: #808000; background-color: #000000\">0.02</span><span style=\"color: #008080; text-decoration-color: #008080; background-color: #000000\">        </span><span style=\"color: #808000; text-decoration-color: #808000; background-color: #000000\">0.18</span><span style=\"color: #008080; text-decoration-color: #008080; background-color: #000000\">       </span><span style=\"color: #808000; text-decoration-color: #808000; background-color: #000000\">0.34</span><span style=\"color: #008080; text-decoration-color: #008080; background-color: #000000\"> </span><span style=\"color: #008080; text-decoration-color: #008080\"> </span>│<span style=\"color: #008080; text-decoration-color: #008080\">              </span>│<span style=\"color: #008080; text-decoration-color: #008080\">              </span>│ ┃\n",
              "┃ ╰────────────────────┴──────────────────────────────────────────────────────────┴──────────────┴──────────────╯ ┃\n",
              "┃ <span style=\"font-style: italic\">                                             Residual Diagnostics                                              </span> ┃\n",
              "┃ ╭─────────────────────────┬──────────────────────────────────────────────────────────┬────────────────────────╮ ┃\n",
              "┃ │<span style=\"font-weight: bold\">             Metric Name </span>│<span style=\"font-weight: bold\"> Result                                                   </span>│<span style=\"font-weight: bold\"> Parameters             </span>│ ┃\n",
              "┃ ├─────────────────────────┼──────────────────────────────────────────────────────────┼────────────────────────┤ ┃\n",
              "┃ │<span style=\"color: #008080; text-decoration-color: #008080\">   Residuals (residuals) </span>│<span style=\"color: #800080; text-decoration-color: #800080\"> </span><span style=\"color: #008080; text-decoration-color: #008080; font-weight: bold\">0</span><span style=\"color: #800080; text-decoration-color: #800080\">     </span><span style=\"color: #008080; text-decoration-color: #008080; font-weight: bold\">-0.010774</span><span style=\"color: #800080; text-decoration-color: #800080\">                                          </span>│<span style=\"color: #008000; text-decoration-color: #008000\"> </span><span style=\"color: #008000; text-decoration-color: #008000; font-weight: bold\">{}</span><span style=\"color: #008000; text-decoration-color: #008000\">                     </span>│ ┃\n",
              "┃ │<span style=\"color: #008080; text-decoration-color: #008080\">                         </span>│<span style=\"color: #800080; text-decoration-color: #800080\"> </span><span style=\"color: #008080; text-decoration-color: #008080; font-weight: bold\">1</span><span style=\"color: #800080; text-decoration-color: #800080\">     </span><span style=\"color: #008080; text-decoration-color: #008080; font-weight: bold\">-0.007024</span><span style=\"color: #800080; text-decoration-color: #800080\">                                          </span>│<span style=\"color: #008000; text-decoration-color: #008000\">                        </span>│ ┃\n",
              "┃ │<span style=\"color: #008080; text-decoration-color: #008080\">                         </span>│<span style=\"color: #800080; text-decoration-color: #800080\"> </span><span style=\"color: #008080; text-decoration-color: #008080; font-weight: bold\">2</span><span style=\"color: #800080; text-decoration-color: #800080\">     </span><span style=\"color: #008080; text-decoration-color: #008080; font-weight: bold\">-0.093738</span><span style=\"color: #800080; text-decoration-color: #800080\">                                          </span>│<span style=\"color: #008000; text-decoration-color: #008000\">                        </span>│ ┃\n",
              "┃ │<span style=\"color: #008080; text-decoration-color: #008080\">                         </span>│<span style=\"color: #800080; text-decoration-color: #800080\"> </span><span style=\"color: #008080; text-decoration-color: #008080; font-weight: bold\">3</span><span style=\"color: #800080; text-decoration-color: #800080\">     </span><span style=\"color: #008080; text-decoration-color: #008080; font-weight: bold\">-0.405635</span><span style=\"color: #800080; text-decoration-color: #800080\">                                          </span>│<span style=\"color: #008000; text-decoration-color: #008000\">                        </span>│ ┃\n",
              "┃ │<span style=\"color: #008080; text-decoration-color: #008080\">                         </span>│<span style=\"color: #800080; text-decoration-color: #800080\"> </span><span style=\"color: #008080; text-decoration-color: #008080; font-weight: bold\">4</span><span style=\"color: #800080; text-decoration-color: #800080\">     </span><span style=\"color: #008080; text-decoration-color: #008080; font-weight: bold\">-0.225398</span><span style=\"color: #800080; text-decoration-color: #800080\">                                          </span>│<span style=\"color: #008000; text-decoration-color: #008000\">                        </span>│ ┃\n",
              "┃ │<span style=\"color: #008080; text-decoration-color: #008080\">                         </span>│<span style=\"color: #800080; text-decoration-color: #800080\">          </span><span style=\"color: #808000; text-decoration-color: #808000\">...</span><span style=\"color: #800080; text-decoration-color: #800080\">                                             </span>│<span style=\"color: #008000; text-decoration-color: #008000\">                        </span>│ ┃\n",
              "┃ │<span style=\"color: #008080; text-decoration-color: #008080\">                         </span>│<span style=\"color: #800080; text-decoration-color: #800080\"> </span><span style=\"color: #008080; text-decoration-color: #008080; font-weight: bold\">995</span><span style=\"color: #800080; text-decoration-color: #800080\">    </span><span style=\"color: #008080; text-decoration-color: #008080; font-weight: bold\">0.125441</span><span style=\"color: #800080; text-decoration-color: #800080\">                                          </span>│<span style=\"color: #008000; text-decoration-color: #008000\">                        </span>│ ┃\n",
              "┃ │<span style=\"color: #008080; text-decoration-color: #008080\">                         </span>│<span style=\"color: #800080; text-decoration-color: #800080\"> </span><span style=\"color: #008080; text-decoration-color: #008080; font-weight: bold\">996</span><span style=\"color: #800080; text-decoration-color: #800080\">    </span><span style=\"color: #008080; text-decoration-color: #008080; font-weight: bold\">0.061433</span><span style=\"color: #800080; text-decoration-color: #800080\">                                          </span>│<span style=\"color: #008000; text-decoration-color: #008000\">                        </span>│ ┃\n",
              "┃ │<span style=\"color: #008080; text-decoration-color: #008080\">                         </span>│<span style=\"color: #800080; text-decoration-color: #800080\"> </span><span style=\"color: #008080; text-decoration-color: #008080; font-weight: bold\">997</span><span style=\"color: #800080; text-decoration-color: #800080\">   </span><span style=\"color: #008080; text-decoration-color: #008080; font-weight: bold\">-0.010876</span><span style=\"color: #800080; text-decoration-color: #800080\">                                          </span>│<span style=\"color: #008000; text-decoration-color: #008000\">                        </span>│ ┃\n",
              "┃ │<span style=\"color: #008080; text-decoration-color: #008080\">                         </span>│<span style=\"color: #800080; text-decoration-color: #800080\"> </span><span style=\"color: #008080; text-decoration-color: #008080; font-weight: bold\">998</span><span style=\"color: #800080; text-decoration-color: #800080\">    </span><span style=\"color: #008080; text-decoration-color: #008080; font-weight: bold\">0.121979</span><span style=\"color: #800080; text-decoration-color: #800080\">                                          </span>│<span style=\"color: #008000; text-decoration-color: #008000\">                        </span>│ ┃\n",
              "┃ │<span style=\"color: #008080; text-decoration-color: #008080\">                         </span>│<span style=\"color: #800080; text-decoration-color: #800080\"> </span><span style=\"color: #008080; text-decoration-color: #008080; font-weight: bold\">999</span><span style=\"color: #800080; text-decoration-color: #800080\">    </span><span style=\"color: #008080; text-decoration-color: #008080; font-weight: bold\">0.227393</span><span style=\"color: #800080; text-decoration-color: #800080\">                                          </span>│<span style=\"color: #008000; text-decoration-color: #008000\">                        </span>│ ┃\n",
              "┃ │<span style=\"color: #008080; text-decoration-color: #008080\">                         </span>│<span style=\"color: #800080; text-decoration-color: #800080\"> Length: </span><span style=\"color: #008080; text-decoration-color: #008080; font-weight: bold\">1000</span><span style=\"color: #800080; text-decoration-color: #800080\">, dtype: float64                             </span>│<span style=\"color: #008000; text-decoration-color: #008000\">                        </span>│ ┃\n",
              "┃ ├─────────────────────────┼──────────────────────────────────────────────────────────┼────────────────────────┤ ┃\n",
              "┃ │<span style=\"color: #008080; text-decoration-color: #008080\">    Ljung Box Statistics </span>│<span style=\"color: #800080; text-decoration-color: #800080\">      lb_stat  lb_pvalue                                  </span>│<span style=\"color: #008000; text-decoration-color: #008000\"> </span><span style=\"color: #008000; text-decoration-color: #008000; font-weight: bold\">{}</span><span style=\"color: #008000; text-decoration-color: #008000\">                     </span>│ ┃\n",
              "┃ │<span style=\"color: #008080; text-decoration-color: #008080\">  (ljung_box_statistics) </span>│<span style=\"color: #800080; text-decoration-color: #800080\"> </span><span style=\"color: #008080; text-decoration-color: #008080; font-weight: bold\">1</span><span style=\"color: #800080; text-decoration-color: #800080\">   </span><span style=\"color: #008080; text-decoration-color: #008080; font-weight: bold\">0.767600</span><span style=\"color: #800080; text-decoration-color: #800080\">   </span><span style=\"color: #008080; text-decoration-color: #008080; font-weight: bold\">0.380961</span><span style=\"color: #800080; text-decoration-color: #800080\">                                  </span>│<span style=\"color: #008000; text-decoration-color: #008000\">                        </span>│ ┃\n",
              "┃ │<span style=\"color: #008080; text-decoration-color: #008080\">                         </span>│<span style=\"color: #800080; text-decoration-color: #800080\"> </span><span style=\"color: #008080; text-decoration-color: #008080; font-weight: bold\">2</span><span style=\"color: #800080; text-decoration-color: #800080\">   </span><span style=\"color: #008080; text-decoration-color: #008080; font-weight: bold\">0.810967</span><span style=\"color: #800080; text-decoration-color: #800080\">   </span><span style=\"color: #008080; text-decoration-color: #008080; font-weight: bold\">0.666654</span><span style=\"color: #800080; text-decoration-color: #800080\">                                  </span>│<span style=\"color: #008000; text-decoration-color: #008000\">                        </span>│ ┃\n",
              "┃ │<span style=\"color: #008080; text-decoration-color: #008080\">                         </span>│<span style=\"color: #800080; text-decoration-color: #800080\"> </span><span style=\"color: #008080; text-decoration-color: #008080; font-weight: bold\">3</span><span style=\"color: #800080; text-decoration-color: #800080\">   </span><span style=\"color: #008080; text-decoration-color: #008080; font-weight: bold\">1.491654</span><span style=\"color: #800080; text-decoration-color: #800080\">   </span><span style=\"color: #008080; text-decoration-color: #008080; font-weight: bold\">0.684198</span><span style=\"color: #800080; text-decoration-color: #800080\">                                  </span>│<span style=\"color: #008000; text-decoration-color: #008000\">                        </span>│ ┃\n",
              "┃ │<span style=\"color: #008080; text-decoration-color: #008080\">                         </span>│<span style=\"color: #800080; text-decoration-color: #800080\"> </span><span style=\"color: #008080; text-decoration-color: #008080; font-weight: bold\">4</span><span style=\"color: #800080; text-decoration-color: #800080\">   </span><span style=\"color: #008080; text-decoration-color: #008080; font-weight: bold\">4.632598</span><span style=\"color: #800080; text-decoration-color: #800080\">   </span><span style=\"color: #008080; text-decoration-color: #008080; font-weight: bold\">0.327113</span><span style=\"color: #800080; text-decoration-color: #800080\">                                  </span>│<span style=\"color: #008000; text-decoration-color: #008000\">                        </span>│ ┃\n",
              "┃ │<span style=\"color: #008080; text-decoration-color: #008080\">                         </span>│<span style=\"color: #800080; text-decoration-color: #800080\"> </span><span style=\"color: #008080; text-decoration-color: #008080; font-weight: bold\">5</span><span style=\"color: #800080; text-decoration-color: #800080\">   </span><span style=\"color: #008080; text-decoration-color: #008080; font-weight: bold\">4.784005</span><span style=\"color: #800080; text-decoration-color: #800080\">   </span><span style=\"color: #008080; text-decoration-color: #008080; font-weight: bold\">0.442805</span><span style=\"color: #800080; text-decoration-color: #800080\">                                  </span>│<span style=\"color: #008000; text-decoration-color: #008000\">                        </span>│ ┃\n",
              "┃ │<span style=\"color: #008080; text-decoration-color: #008080\">                         </span>│<span style=\"color: #800080; text-decoration-color: #800080\"> </span><span style=\"color: #008080; text-decoration-color: #008080; font-weight: bold\">6</span><span style=\"color: #800080; text-decoration-color: #800080\">   </span><span style=\"color: #008080; text-decoration-color: #008080; font-weight: bold\">4.791961</span><span style=\"color: #800080; text-decoration-color: #800080\">   </span><span style=\"color: #008080; text-decoration-color: #008080; font-weight: bold\">0.570759</span><span style=\"color: #800080; text-decoration-color: #800080\">                                  </span>│<span style=\"color: #008000; text-decoration-color: #008000\">                        </span>│ ┃\n",
              "┃ │<span style=\"color: #008080; text-decoration-color: #008080\">                         </span>│<span style=\"color: #800080; text-decoration-color: #800080\"> </span><span style=\"color: #008080; text-decoration-color: #008080; font-weight: bold\">7</span><span style=\"color: #800080; text-decoration-color: #800080\">   </span><span style=\"color: #008080; text-decoration-color: #008080; font-weight: bold\">4.807558</span><span style=\"color: #800080; text-decoration-color: #800080\">   </span><span style=\"color: #008080; text-decoration-color: #008080; font-weight: bold\">0.683434</span><span style=\"color: #800080; text-decoration-color: #800080\">                                  </span>│<span style=\"color: #008000; text-decoration-color: #008000\">                        </span>│ ┃\n",
              "┃ │<span style=\"color: #008080; text-decoration-color: #008080\">                         </span>│<span style=\"color: #800080; text-decoration-color: #800080\"> </span><span style=\"color: #008080; text-decoration-color: #008080; font-weight: bold\">8</span><span style=\"color: #800080; text-decoration-color: #800080\">   </span><span style=\"color: #008080; text-decoration-color: #008080; font-weight: bold\">5.770373</span><span style=\"color: #800080; text-decoration-color: #800080\">   </span><span style=\"color: #008080; text-decoration-color: #008080; font-weight: bold\">0.672936</span><span style=\"color: #800080; text-decoration-color: #800080\">                                  </span>│<span style=\"color: #008000; text-decoration-color: #008000\">                        </span>│ ┃\n",
              "┃ │<span style=\"color: #008080; text-decoration-color: #008080\">                         </span>│<span style=\"color: #800080; text-decoration-color: #800080\"> </span><span style=\"color: #008080; text-decoration-color: #008080; font-weight: bold\">9</span><span style=\"color: #800080; text-decoration-color: #800080\">   </span><span style=\"color: #008080; text-decoration-color: #008080; font-weight: bold\">6.582845</span><span style=\"color: #800080; text-decoration-color: #800080\">   </span><span style=\"color: #008080; text-decoration-color: #008080; font-weight: bold\">0.680461</span><span style=\"color: #800080; text-decoration-color: #800080\">                                  </span>│<span style=\"color: #008000; text-decoration-color: #008000\">                        </span>│ ┃\n",
              "┃ │<span style=\"color: #008080; text-decoration-color: #008080\">                         </span>│<span style=\"color: #800080; text-decoration-color: #800080\"> </span><span style=\"color: #008080; text-decoration-color: #008080; font-weight: bold\">10</span><span style=\"color: #800080; text-decoration-color: #800080\">  </span><span style=\"color: #008080; text-decoration-color: #008080; font-weight: bold\">6.995367</span><span style=\"color: #800080; text-decoration-color: #800080\">   </span><span style=\"color: #008080; text-decoration-color: #008080; font-weight: bold\">0.725882</span><span style=\"color: #800080; text-decoration-color: #800080\">                                  </span>│<span style=\"color: #008000; text-decoration-color: #008000\">                        </span>│ ┃\n",
              "┃ ├─────────────────────────┼──────────────────────────────────────────────────────────┼────────────────────────┤ ┃\n",
              "┃ │<span style=\"color: #008080; text-decoration-color: #008080\">   Mean of the Residuals </span>│<span style=\"color: #800080; text-decoration-color: #800080\"> </span><span style=\"color: #008080; text-decoration-color: #008080; font-weight: bold\">-0.007</span><span style=\"color: #800080; text-decoration-color: #800080\">                                                   </span>│<span style=\"color: #008000; text-decoration-color: #008000\"> </span><span style=\"color: #008000; text-decoration-color: #008000; font-weight: bold\">{}</span><span style=\"color: #008000; text-decoration-color: #008000\">                     </span>│ ┃\n",
              "┃ │<span style=\"color: #008080; text-decoration-color: #008080\">        (residuals_mean) </span>│<span style=\"color: #800080; text-decoration-color: #800080\">                                                          </span>│<span style=\"color: #008000; text-decoration-color: #008000\">                        </span>│ ┃\n",
              "┃ ├─────────────────────────┼──────────────────────────────────────────────────────────┼────────────────────────┤ ┃\n",
              "┃ │<span style=\"color: #008080; text-decoration-color: #008080\">   Standard Deviation of </span>│<span style=\"color: #800080; text-decoration-color: #800080\"> </span><span style=\"color: #008080; text-decoration-color: #008080; font-weight: bold\">0.14</span><span style=\"color: #800080; text-decoration-color: #800080\">                                                     </span>│<span style=\"color: #008000; text-decoration-color: #008000\"> </span><span style=\"color: #008000; text-decoration-color: #008000; font-weight: bold\">{}</span><span style=\"color: #008000; text-decoration-color: #008000\">                     </span>│ ┃\n",
              "┃ │<span style=\"color: #008080; text-decoration-color: #008080\">           the Residuals </span>│<span style=\"color: #800080; text-decoration-color: #800080\">                                                          </span>│<span style=\"color: #008000; text-decoration-color: #008000\">                        </span>│ ┃\n",
              "┃ │<span style=\"color: #008080; text-decoration-color: #008080\">         (residuals_std) </span>│<span style=\"color: #800080; text-decoration-color: #800080\">                                                          </span>│<span style=\"color: #008000; text-decoration-color: #008000\">                        </span>│ ┃\n",
              "┃ ╰─────────────────────────┴──────────────────────────────────────────────────────────┴────────────────────────╯ ┃\n",
              "┃ <span style=\"font-style: italic\">                                         Forecast Errors - Regression                                          </span> ┃\n",
              "┃ ╭─────────────────────────┬──────────────────────────────────────────────────────────┬────────────────────────╮ ┃\n",
              "┃ │<span style=\"color: #008080; text-decoration-color: #008080\">     Mean Absolute Error </span>│<span style=\"color: #800080; text-decoration-color: #800080\"> </span><span style=\"color: #008080; text-decoration-color: #008080; font-weight: bold\">0.111</span><span style=\"color: #800080; text-decoration-color: #800080\">                                                    </span>│<span style=\"color: #008000; text-decoration-color: #008000\"> </span><span style=\"color: #008000; text-decoration-color: #008000; font-weight: bold\">{}</span><span style=\"color: #008000; text-decoration-color: #008000\">                     </span>│ ┃\n",
              "┃ │<span style=\"color: #008080; text-decoration-color: #008080\">                   (mae) </span>│<span style=\"color: #800080; text-decoration-color: #800080\">                                                          </span>│<span style=\"color: #008000; text-decoration-color: #008000\">                        </span>│ ┃\n",
              "┃ ├─────────────────────────┼──────────────────────────────────────────────────────────┼────────────────────────┤ ┃\n",
              "┃ │<span style=\"color: #008080; text-decoration-color: #008080\">           Mean Absolute </span>│<span style=\"color: #800080; text-decoration-color: #800080\"> </span><span style=\"color: #008080; text-decoration-color: #008080; font-weight: bold\">5.445</span><span style=\"color: #800080; text-decoration-color: #800080\">                                                    </span>│<span style=\"color: #008000; text-decoration-color: #008000\"> </span><span style=\"color: #008000; text-decoration-color: #008000; font-weight: bold\">{}</span><span style=\"color: #008000; text-decoration-color: #008000\">                     </span>│ ┃\n",
              "┃ │<span style=\"color: #008080; text-decoration-color: #008080\"> Percentage Error (mape) </span>│<span style=\"color: #800080; text-decoration-color: #800080\">                                                          </span>│<span style=\"color: #008000; text-decoration-color: #008000\">                        </span>│ ┃\n",
              "┃ ├─────────────────────────┼──────────────────────────────────────────────────────────┼────────────────────────┤ ┃\n",
              "┃ │<span style=\"color: #008080; text-decoration-color: #008080\"> Symmetric Mean Absolute </span>│<span style=\"color: #800080; text-decoration-color: #800080\"> </span><span style=\"color: #008080; text-decoration-color: #008080; font-weight: bold\">0.726</span><span style=\"color: #800080; text-decoration-color: #800080\">                                                    </span>│<span style=\"color: #008000; text-decoration-color: #008000\"> </span><span style=\"color: #008000; text-decoration-color: #008000; font-weight: bold\">{}</span><span style=\"color: #008000; text-decoration-color: #008000\">                     </span>│ ┃\n",
              "┃ │<span style=\"color: #008080; text-decoration-color: #008080\">        Percentage Error </span>│<span style=\"color: #800080; text-decoration-color: #800080\">                                                          </span>│<span style=\"color: #008000; text-decoration-color: #008000\">                        </span>│ ┃\n",
              "┃ │<span style=\"color: #008080; text-decoration-color: #008080\">                 (smape) </span>│<span style=\"color: #800080; text-decoration-color: #800080\">                                                          </span>│<span style=\"color: #008000; text-decoration-color: #008000\">                        </span>│ ┃\n",
              "┃ ├─────────────────────────┼──────────────────────────────────────────────────────────┼────────────────────────┤ ┃\n",
              "┃ │<span style=\"color: #008080; text-decoration-color: #008080\">      Mean Squared Error </span>│<span style=\"color: #800080; text-decoration-color: #800080\"> </span><span style=\"color: #008080; text-decoration-color: #008080; font-weight: bold\">0.02</span><span style=\"color: #800080; text-decoration-color: #800080\">                                                     </span>│<span style=\"color: #008000; text-decoration-color: #008000\"> </span><span style=\"color: #008000; text-decoration-color: #008000; font-weight: bold\">{</span><span style=\"color: #008000; text-decoration-color: #008000\">'squared'</span><span style=\"color: #008000; text-decoration-color: #008000\">: </span><span style=\"color: #00ff00; text-decoration-color: #00ff00; font-style: italic\">True</span><span style=\"color: #008000; text-decoration-color: #008000; font-weight: bold\">}</span><span style=\"color: #008000; text-decoration-color: #008000\">      </span>│ ┃\n",
              "┃ │<span style=\"color: #008080; text-decoration-color: #008080\">                   (mse) </span>│<span style=\"color: #800080; text-decoration-color: #800080\">                                                          </span>│<span style=\"color: #008000; text-decoration-color: #008000\">                        </span>│ ┃\n",
              "┃ ├─────────────────────────┼──────────────────────────────────────────────────────────┼────────────────────────┤ ┃\n",
              "┃ │<span style=\"color: #008080; text-decoration-color: #008080\"> Root Mean Squared Error </span>│<span style=\"color: #800080; text-decoration-color: #800080\"> </span><span style=\"color: #008080; text-decoration-color: #008080; font-weight: bold\">0.141</span><span style=\"color: #800080; text-decoration-color: #800080\">                                                    </span>│<span style=\"color: #008000; text-decoration-color: #008000\"> </span><span style=\"color: #008000; text-decoration-color: #008000; font-weight: bold\">{</span><span style=\"color: #008000; text-decoration-color: #008000\">'squared'</span><span style=\"color: #008000; text-decoration-color: #008000\">: </span><span style=\"color: #ff0000; text-decoration-color: #ff0000; font-style: italic\">False</span><span style=\"color: #008000; text-decoration-color: #008000; font-weight: bold\">}</span><span style=\"color: #008000; text-decoration-color: #008000\">     </span>│ ┃\n",
              "┃ │<span style=\"color: #008080; text-decoration-color: #008080\">                  (rmse) </span>│<span style=\"color: #800080; text-decoration-color: #800080\">                                                          </span>│<span style=\"color: #008000; text-decoration-color: #008000\">                        </span>│ ┃\n",
              "┃ ├─────────────────────────┼──────────────────────────────────────────────────────────┼────────────────────────┤ ┃\n",
              "┃ │<span style=\"color: #008080; text-decoration-color: #008080\">   Root Mean Squared Log </span>│<span style=\"color: #800080; text-decoration-color: #800080\"> </span><span style=\"color: #008000; text-decoration-color: #008000\">'Mean Squared Logarithmic Error cannot be used when </span><span style=\"color: #800080; text-decoration-color: #800080\">     </span>│<span style=\"color: #008000; text-decoration-color: #008000\"> </span><span style=\"color: #008000; text-decoration-color: #008000; font-weight: bold\">{</span><span style=\"color: #008000; text-decoration-color: #008000\">'squared'</span><span style=\"color: #008000; text-decoration-color: #008000\">: </span><span style=\"color: #ff0000; text-decoration-color: #ff0000; font-style: italic\">False</span><span style=\"color: #008000; text-decoration-color: #008000; font-weight: bold\">}</span><span style=\"color: #008000; text-decoration-color: #008000\">     </span>│ ┃\n",
              "┃ │<span style=\"color: #008080; text-decoration-color: #008080\">           Error (rmsle) </span>│<span style=\"color: #800080; text-decoration-color: #800080\"> </span><span style=\"color: #008000; text-decoration-color: #008000\">targets contain negative values.'</span><span style=\"color: #800080; text-decoration-color: #800080\">                        </span>│<span style=\"color: #008000; text-decoration-color: #008000\">                        </span>│ ┃\n",
              "┃ ├─────────────────────────┼──────────────────────────────────────────────────────────┼────────────────────────┤ ┃\n",
              "┃ │<span style=\"color: #008080; text-decoration-color: #008080\">       R-squared (r_two) </span>│<span style=\"color: #800080; text-decoration-color: #800080\"> </span><span style=\"color: #008080; text-decoration-color: #008080; font-weight: bold\">-0.993</span><span style=\"color: #800080; text-decoration-color: #800080\">                                                   </span>│<span style=\"color: #008000; text-decoration-color: #008000\"> </span><span style=\"color: #008000; text-decoration-color: #008000; font-weight: bold\">{}</span><span style=\"color: #008000; text-decoration-color: #008000\">                     </span>│ ┃\n",
              "┃ ╰─────────────────────────┴──────────────────────────────────────────────────────────┴────────────────────────╯ ┃\n",
              "┃                                                                                                                 ┃\n",
              "┗━━━━━━━━━━━━━━━━━━━━━━━━━━━━━━━━━━━━━━━━━━━━━━━━━━━━━━━━━━━━━━━━━━━━━━━━━━━━━━━━━━━━━━━━━━━━━━━━━━━━━━━━━━━━━━━━━┛\n",
              "</pre>\n"
            ],
            "text/plain": [
              "┏━━━━━━━ Result of Model_20230505-1503244121b729 on Dataset_20230505-1503241886c577 tested on outofsample ━━━━━━━━┓\n",
              "┃                                                                                                                 ┃\n",
              "┃ \u001b[3m                                       Targets and Predictions Analysis                                        \u001b[0m ┃\n",
              "┃ ╭────────────────────┬──────────────────────────────────────────────────────────┬──────────────┬──────────────╮ ┃\n",
              "┃ │\u001b[1m \u001b[0m\u001b[1m       Series Type\u001b[0m\u001b[1m \u001b[0m│\u001b[1m \u001b[0m\u001b[1mHistogram                                               \u001b[0m\u001b[1m \u001b[0m│\u001b[1m \u001b[0m\u001b[1m       Types\u001b[0m\u001b[1m \u001b[0m│\u001b[1m \u001b[0m\u001b[1m    Indicies\u001b[0m\u001b[1m \u001b[0m│ ┃\n",
              "┃ ├────────────────────┼──────────────────────────────────────────────────────────┼──────────────┼──────────────┤ ┃\n",
              "┃ │\u001b[36m \u001b[0m\u001b[36m           Targets\u001b[0m\u001b[36m \u001b[0m│\u001b[36m \u001b[0m\u001b[36;40m    \u001b[0m\u001b[33;40m┌──────────────────────────────────────────────────┐\u001b[0m\u001b[36m \u001b[0m│\u001b[36m \u001b[0m\u001b[36m     NaNs: 0\u001b[0m\u001b[36m \u001b[0m│\u001b[36m \u001b[0m\u001b[36m    Start: 0\u001b[0m\u001b[36m \u001b[0m│ ┃\n",
              "┃ │\u001b[36m                    \u001b[0m│\u001b[36m \u001b[0m\u001b[33;40m86.0┤\u001b[0m\u001b[36;40m                       \u001b[0m\u001b[94;40m██\u001b[0m\u001b[36;40m                         \u001b[0m\u001b[33;40m│\u001b[0m\u001b[36m \u001b[0m│\u001b[36m \u001b[0m\u001b[36m      dtype:\u001b[0m\u001b[36m \u001b[0m│\u001b[36m \u001b[0m\u001b[36m    End: 999\u001b[0m\u001b[36m \u001b[0m│ ┃\n",
              "┃ │\u001b[36m                    \u001b[0m│\u001b[36m \u001b[0m\u001b[33;40m71.7┤\u001b[0m\u001b[36;40m                     \u001b[0m\u001b[94;40m██████\u001b[0m\u001b[36;40m                       \u001b[0m\u001b[33;40m│\u001b[0m\u001b[36m \u001b[0m│\u001b[36m \u001b[0m\u001b[36m     float64\u001b[0m\u001b[36m \u001b[0m│\u001b[36m              \u001b[0m│ ┃\n",
              "┃ │\u001b[36m                    \u001b[0m│\u001b[36m \u001b[0m\u001b[33;40m57.3┤\u001b[0m\u001b[36;40m                \u001b[0m\u001b[94;40m██\u001b[0m\u001b[36;40m  \u001b[0m\u001b[94;40m████████\u001b[0m\u001b[36;40m                      \u001b[0m\u001b[33;40m│\u001b[0m\u001b[36m \u001b[0m│\u001b[36m              \u001b[0m│\u001b[36m              \u001b[0m│ ┃\n",
              "┃ │\u001b[36m                    \u001b[0m│\u001b[36m \u001b[0m\u001b[33;40m43.0┤\u001b[0m\u001b[36;40m               \u001b[0m\u001b[94;40m█████████████████\u001b[0m\u001b[36;40m                  \u001b[0m\u001b[33;40m│\u001b[0m\u001b[36m \u001b[0m│\u001b[36m              \u001b[0m│\u001b[36m              \u001b[0m│ ┃\n",
              "┃ │\u001b[36m                    \u001b[0m│\u001b[36m \u001b[0m\u001b[33;40m28.7┤\u001b[0m\u001b[36;40m              \u001b[0m\u001b[94;40m█████████████████████\u001b[0m\u001b[36;40m               \u001b[0m\u001b[33;40m│\u001b[0m\u001b[36m \u001b[0m│\u001b[36m              \u001b[0m│\u001b[36m              \u001b[0m│ ┃\n",
              "┃ │\u001b[36m                    \u001b[0m│\u001b[36m \u001b[0m\u001b[33;40m14.3┤\u001b[0m\u001b[36;40m       \u001b[0m\u001b[94;40m██\u001b[0m\u001b[36;40m \u001b[0m\u001b[94;40m██████████████████████████████\u001b[0m\u001b[36;40m          \u001b[0m\u001b[33;40m│\u001b[0m\u001b[36m \u001b[0m│\u001b[36m              \u001b[0m│\u001b[36m              \u001b[0m│ ┃\n",
              "┃ │\u001b[36m                    \u001b[0m│\u001b[36m \u001b[0m\u001b[33;40m 0.0┤\u001b[0m\u001b[94;40m██████████████████████████████████████████  ██████\u001b[0m\u001b[33;40m│\u001b[0m\u001b[36m \u001b[0m│\u001b[36m              \u001b[0m│\u001b[36m              \u001b[0m│ ┃\n",
              "┃ │\u001b[36m                    \u001b[0m│\u001b[36m \u001b[0m\u001b[36;40m    \u001b[0m\u001b[33;40m└┬───────────┬────────────┬───────────┬───────────┬┘\u001b[0m\u001b[36m \u001b[0m│\u001b[36m              \u001b[0m│\u001b[36m              \u001b[0m│ ┃\n",
              "┃ │\u001b[36m                    \u001b[0m│\u001b[36m \u001b[0m\u001b[36;40m   \u001b[0m\u001b[33;40m-0.32\u001b[0m\u001b[36;40m       \u001b[0m\u001b[33;40m-0.15\u001b[0m\u001b[36;40m        \u001b[0m\u001b[33;40m0.01\u001b[0m\u001b[36;40m        \u001b[0m\u001b[33;40m0.18\u001b[0m\u001b[36;40m       \u001b[0m\u001b[33;40m0.35\u001b[0m\u001b[36;40m \u001b[0m\u001b[36m \u001b[0m│\u001b[36m              \u001b[0m│\u001b[36m              \u001b[0m│ ┃\n",
              "┃ ├────────────────────┼──────────────────────────────────────────────────────────┼──────────────┼──────────────┤ ┃\n",
              "┃ │\u001b[36m \u001b[0m\u001b[36m       Predictions\u001b[0m\u001b[36m \u001b[0m│\u001b[36m \u001b[0m\u001b[36;40m    \u001b[0m\u001b[33;40m┌──────────────────────────────────────────────────┐\u001b[0m\u001b[36m \u001b[0m│\u001b[36m \u001b[0m\u001b[36m     NaNs: 0\u001b[0m\u001b[36m \u001b[0m│\u001b[36m \u001b[0m\u001b[36m    Start: 0\u001b[0m\u001b[36m \u001b[0m│ ┃\n",
              "┃ │\u001b[36m                    \u001b[0m│\u001b[36m \u001b[0m\u001b[33;40m75.0┤\u001b[0m\u001b[36;40m                     \u001b[0m\u001b[94;40m████\u001b[0m\u001b[36;40m                         \u001b[0m\u001b[33;40m│\u001b[0m\u001b[36m \u001b[0m│\u001b[36m \u001b[0m\u001b[36m      dtype:\u001b[0m\u001b[36m \u001b[0m│\u001b[36m \u001b[0m\u001b[36m    End: 999\u001b[0m\u001b[36m \u001b[0m│ ┃\n",
              "┃ │\u001b[36m                    \u001b[0m│\u001b[36m \u001b[0m\u001b[33;40m62.5┤\u001b[0m\u001b[36;40m                     \u001b[0m\u001b[94;40m███████\u001b[0m\u001b[36;40m                      \u001b[0m\u001b[33;40m│\u001b[0m\u001b[36m \u001b[0m│\u001b[36m \u001b[0m\u001b[36m     float64\u001b[0m\u001b[36m \u001b[0m│\u001b[36m              \u001b[0m│ ┃\n",
              "┃ │\u001b[36m                    \u001b[0m│\u001b[36m \u001b[0m\u001b[33;40m50.0┤\u001b[0m\u001b[36;40m                \u001b[0m\u001b[94;40m██████████████\u001b[0m\u001b[36;40m \u001b[0m\u001b[94;40m██\u001b[0m\u001b[36;40m                 \u001b[0m\u001b[33;40m│\u001b[0m\u001b[36m \u001b[0m│\u001b[36m              \u001b[0m│\u001b[36m              \u001b[0m│ ┃\n",
              "┃ │\u001b[36m                    \u001b[0m│\u001b[36m \u001b[0m\u001b[33;40m37.5┤\u001b[0m\u001b[36;40m                \u001b[0m\u001b[94;40m█████████████████\u001b[0m\u001b[36;40m                 \u001b[0m\u001b[33;40m│\u001b[0m\u001b[36m \u001b[0m│\u001b[36m              \u001b[0m│\u001b[36m              \u001b[0m│ ┃\n",
              "┃ │\u001b[36m                    \u001b[0m│\u001b[36m \u001b[0m\u001b[33;40m25.0┤\u001b[0m\u001b[36;40m           \u001b[0m\u001b[94;40m█████████████████████████\u001b[0m\u001b[36;40m              \u001b[0m\u001b[33;40m│\u001b[0m\u001b[36m \u001b[0m│\u001b[36m              \u001b[0m│\u001b[36m              \u001b[0m│ ┃\n",
              "┃ │\u001b[36m                    \u001b[0m│\u001b[36m \u001b[0m\u001b[33;40m12.5┤\u001b[0m\u001b[36;40m      \u001b[0m\u001b[94;40m██████████████████████████████████\u001b[0m\u001b[36;40m          \u001b[0m\u001b[33;40m│\u001b[0m\u001b[36m \u001b[0m│\u001b[36m              \u001b[0m│\u001b[36m              \u001b[0m│ ┃\n",
              "┃ │\u001b[36m                    \u001b[0m│\u001b[36m \u001b[0m\u001b[33;40m 0.0┤\u001b[0m\u001b[94;40m███████████████████████████████████████████████ ██\u001b[0m\u001b[33;40m│\u001b[0m\u001b[36m \u001b[0m│\u001b[36m              \u001b[0m│\u001b[36m              \u001b[0m│ ┃\n",
              "┃ │\u001b[36m                    \u001b[0m│\u001b[36m \u001b[0m\u001b[36;40m    \u001b[0m\u001b[33;40m└┬───────────┬────────────┬───────────┬───────────┬┘\u001b[0m\u001b[36m \u001b[0m│\u001b[36m              \u001b[0m│\u001b[36m              \u001b[0m│ ┃\n",
              "┃ │\u001b[36m                    \u001b[0m│\u001b[36m \u001b[0m\u001b[36;40m   \u001b[0m\u001b[33;40m-0.31\u001b[0m\u001b[36;40m       \u001b[0m\u001b[33;40m-0.15\u001b[0m\u001b[36;40m        \u001b[0m\u001b[33;40m0.02\u001b[0m\u001b[36;40m        \u001b[0m\u001b[33;40m0.18\u001b[0m\u001b[36;40m       \u001b[0m\u001b[33;40m0.34\u001b[0m\u001b[36;40m \u001b[0m\u001b[36m \u001b[0m│\u001b[36m              \u001b[0m│\u001b[36m              \u001b[0m│ ┃\n",
              "┃ ╰────────────────────┴──────────────────────────────────────────────────────────┴──────────────┴──────────────╯ ┃\n",
              "┃ \u001b[3m                                             Residual Diagnostics                                              \u001b[0m ┃\n",
              "┃ ╭─────────────────────────┬──────────────────────────────────────────────────────────┬────────────────────────╮ ┃\n",
              "┃ │\u001b[1m \u001b[0m\u001b[1m            Metric Name\u001b[0m\u001b[1m \u001b[0m│\u001b[1m \u001b[0m\u001b[1mResult                                                  \u001b[0m\u001b[1m \u001b[0m│\u001b[1m \u001b[0m\u001b[1mParameters            \u001b[0m\u001b[1m \u001b[0m│ ┃\n",
              "┃ ├─────────────────────────┼──────────────────────────────────────────────────────────┼────────────────────────┤ ┃\n",
              "┃ │\u001b[36m \u001b[0m\u001b[36m  Residuals (residuals)\u001b[0m\u001b[36m \u001b[0m│\u001b[35m \u001b[0m\u001b[1;36m0\u001b[0m\u001b[35m     \u001b[0m\u001b[1;36m-0.010774\u001b[0m\u001b[35m                                         \u001b[0m\u001b[35m \u001b[0m│\u001b[32m \u001b[0m\u001b[1;32m{\u001b[0m\u001b[1;32m}\u001b[0m\u001b[32m                    \u001b[0m\u001b[32m \u001b[0m│ ┃\n",
              "┃ │\u001b[36m                         \u001b[0m│\u001b[35m \u001b[0m\u001b[1;36m1\u001b[0m\u001b[35m     \u001b[0m\u001b[1;36m-0.007024\u001b[0m\u001b[35m                                         \u001b[0m\u001b[35m \u001b[0m│\u001b[32m                        \u001b[0m│ ┃\n",
              "┃ │\u001b[36m                         \u001b[0m│\u001b[35m \u001b[0m\u001b[1;36m2\u001b[0m\u001b[35m     \u001b[0m\u001b[1;36m-0.093738\u001b[0m\u001b[35m                                         \u001b[0m\u001b[35m \u001b[0m│\u001b[32m                        \u001b[0m│ ┃\n",
              "┃ │\u001b[36m                         \u001b[0m│\u001b[35m \u001b[0m\u001b[1;36m3\u001b[0m\u001b[35m     \u001b[0m\u001b[1;36m-0.405635\u001b[0m\u001b[35m                                         \u001b[0m\u001b[35m \u001b[0m│\u001b[32m                        \u001b[0m│ ┃\n",
              "┃ │\u001b[36m                         \u001b[0m│\u001b[35m \u001b[0m\u001b[1;36m4\u001b[0m\u001b[35m     \u001b[0m\u001b[1;36m-0.225398\u001b[0m\u001b[35m                                         \u001b[0m\u001b[35m \u001b[0m│\u001b[32m                        \u001b[0m│ ┃\n",
              "┃ │\u001b[36m                         \u001b[0m│\u001b[35m \u001b[0m\u001b[35m         \u001b[0m\u001b[33m...\u001b[0m\u001b[35m                                            \u001b[0m\u001b[35m \u001b[0m│\u001b[32m                        \u001b[0m│ ┃\n",
              "┃ │\u001b[36m                         \u001b[0m│\u001b[35m \u001b[0m\u001b[1;36m995\u001b[0m\u001b[35m    \u001b[0m\u001b[1;36m0.125441\u001b[0m\u001b[35m                                         \u001b[0m\u001b[35m \u001b[0m│\u001b[32m                        \u001b[0m│ ┃\n",
              "┃ │\u001b[36m                         \u001b[0m│\u001b[35m \u001b[0m\u001b[1;36m996\u001b[0m\u001b[35m    \u001b[0m\u001b[1;36m0.061433\u001b[0m\u001b[35m                                         \u001b[0m\u001b[35m \u001b[0m│\u001b[32m                        \u001b[0m│ ┃\n",
              "┃ │\u001b[36m                         \u001b[0m│\u001b[35m \u001b[0m\u001b[1;36m997\u001b[0m\u001b[35m   \u001b[0m\u001b[1;36m-0.010876\u001b[0m\u001b[35m                                         \u001b[0m\u001b[35m \u001b[0m│\u001b[32m                        \u001b[0m│ ┃\n",
              "┃ │\u001b[36m                         \u001b[0m│\u001b[35m \u001b[0m\u001b[1;36m998\u001b[0m\u001b[35m    \u001b[0m\u001b[1;36m0.121979\u001b[0m\u001b[35m                                         \u001b[0m\u001b[35m \u001b[0m│\u001b[32m                        \u001b[0m│ ┃\n",
              "┃ │\u001b[36m                         \u001b[0m│\u001b[35m \u001b[0m\u001b[1;36m999\u001b[0m\u001b[35m    \u001b[0m\u001b[1;36m0.227393\u001b[0m\u001b[35m                                         \u001b[0m\u001b[35m \u001b[0m│\u001b[32m                        \u001b[0m│ ┃\n",
              "┃ │\u001b[36m                         \u001b[0m│\u001b[35m \u001b[0m\u001b[35mLength: \u001b[0m\u001b[1;36m1000\u001b[0m\u001b[35m, dtype: float64                            \u001b[0m\u001b[35m \u001b[0m│\u001b[32m                        \u001b[0m│ ┃\n",
              "┃ ├─────────────────────────┼──────────────────────────────────────────────────────────┼────────────────────────┤ ┃\n",
              "┃ │\u001b[36m \u001b[0m\u001b[36m   Ljung Box Statistics\u001b[0m\u001b[36m \u001b[0m│\u001b[35m \u001b[0m\u001b[35m     lb_stat  lb_pvalue                                 \u001b[0m\u001b[35m \u001b[0m│\u001b[32m \u001b[0m\u001b[1;32m{\u001b[0m\u001b[1;32m}\u001b[0m\u001b[32m                    \u001b[0m\u001b[32m \u001b[0m│ ┃\n",
              "┃ │\u001b[36m \u001b[0m\u001b[36m (ljung_box_statistics)\u001b[0m\u001b[36m \u001b[0m│\u001b[35m \u001b[0m\u001b[1;36m1\u001b[0m\u001b[35m   \u001b[0m\u001b[1;36m0.767600\u001b[0m\u001b[35m   \u001b[0m\u001b[1;36m0.380961\u001b[0m\u001b[35m                                 \u001b[0m\u001b[35m \u001b[0m│\u001b[32m                        \u001b[0m│ ┃\n",
              "┃ │\u001b[36m                         \u001b[0m│\u001b[35m \u001b[0m\u001b[1;36m2\u001b[0m\u001b[35m   \u001b[0m\u001b[1;36m0.810967\u001b[0m\u001b[35m   \u001b[0m\u001b[1;36m0.666654\u001b[0m\u001b[35m                                 \u001b[0m\u001b[35m \u001b[0m│\u001b[32m                        \u001b[0m│ ┃\n",
              "┃ │\u001b[36m                         \u001b[0m│\u001b[35m \u001b[0m\u001b[1;36m3\u001b[0m\u001b[35m   \u001b[0m\u001b[1;36m1.491654\u001b[0m\u001b[35m   \u001b[0m\u001b[1;36m0.684198\u001b[0m\u001b[35m                                 \u001b[0m\u001b[35m \u001b[0m│\u001b[32m                        \u001b[0m│ ┃\n",
              "┃ │\u001b[36m                         \u001b[0m│\u001b[35m \u001b[0m\u001b[1;36m4\u001b[0m\u001b[35m   \u001b[0m\u001b[1;36m4.632598\u001b[0m\u001b[35m   \u001b[0m\u001b[1;36m0.327113\u001b[0m\u001b[35m                                 \u001b[0m\u001b[35m \u001b[0m│\u001b[32m                        \u001b[0m│ ┃\n",
              "┃ │\u001b[36m                         \u001b[0m│\u001b[35m \u001b[0m\u001b[1;36m5\u001b[0m\u001b[35m   \u001b[0m\u001b[1;36m4.784005\u001b[0m\u001b[35m   \u001b[0m\u001b[1;36m0.442805\u001b[0m\u001b[35m                                 \u001b[0m\u001b[35m \u001b[0m│\u001b[32m                        \u001b[0m│ ┃\n",
              "┃ │\u001b[36m                         \u001b[0m│\u001b[35m \u001b[0m\u001b[1;36m6\u001b[0m\u001b[35m   \u001b[0m\u001b[1;36m4.791961\u001b[0m\u001b[35m   \u001b[0m\u001b[1;36m0.570759\u001b[0m\u001b[35m                                 \u001b[0m\u001b[35m \u001b[0m│\u001b[32m                        \u001b[0m│ ┃\n",
              "┃ │\u001b[36m                         \u001b[0m│\u001b[35m \u001b[0m\u001b[1;36m7\u001b[0m\u001b[35m   \u001b[0m\u001b[1;36m4.807558\u001b[0m\u001b[35m   \u001b[0m\u001b[1;36m0.683434\u001b[0m\u001b[35m                                 \u001b[0m\u001b[35m \u001b[0m│\u001b[32m                        \u001b[0m│ ┃\n",
              "┃ │\u001b[36m                         \u001b[0m│\u001b[35m \u001b[0m\u001b[1;36m8\u001b[0m\u001b[35m   \u001b[0m\u001b[1;36m5.770373\u001b[0m\u001b[35m   \u001b[0m\u001b[1;36m0.672936\u001b[0m\u001b[35m                                 \u001b[0m\u001b[35m \u001b[0m│\u001b[32m                        \u001b[0m│ ┃\n",
              "┃ │\u001b[36m                         \u001b[0m│\u001b[35m \u001b[0m\u001b[1;36m9\u001b[0m\u001b[35m   \u001b[0m\u001b[1;36m6.582845\u001b[0m\u001b[35m   \u001b[0m\u001b[1;36m0.680461\u001b[0m\u001b[35m                                 \u001b[0m\u001b[35m \u001b[0m│\u001b[32m                        \u001b[0m│ ┃\n",
              "┃ │\u001b[36m                         \u001b[0m│\u001b[35m \u001b[0m\u001b[1;36m10\u001b[0m\u001b[35m  \u001b[0m\u001b[1;36m6.995367\u001b[0m\u001b[35m   \u001b[0m\u001b[1;36m0.725882\u001b[0m\u001b[35m                                 \u001b[0m\u001b[35m \u001b[0m│\u001b[32m                        \u001b[0m│ ┃\n",
              "┃ ├─────────────────────────┼──────────────────────────────────────────────────────────┼────────────────────────┤ ┃\n",
              "┃ │\u001b[36m \u001b[0m\u001b[36m  Mean of the Residuals\u001b[0m\u001b[36m \u001b[0m│\u001b[35m \u001b[0m\u001b[1;36m-0.007\u001b[0m\u001b[35m                                                  \u001b[0m\u001b[35m \u001b[0m│\u001b[32m \u001b[0m\u001b[1;32m{\u001b[0m\u001b[1;32m}\u001b[0m\u001b[32m                    \u001b[0m\u001b[32m \u001b[0m│ ┃\n",
              "┃ │\u001b[36m \u001b[0m\u001b[36m       (residuals_mean)\u001b[0m\u001b[36m \u001b[0m│\u001b[35m                                                          \u001b[0m│\u001b[32m                        \u001b[0m│ ┃\n",
              "┃ ├─────────────────────────┼──────────────────────────────────────────────────────────┼────────────────────────┤ ┃\n",
              "┃ │\u001b[36m \u001b[0m\u001b[36m  Standard Deviation of\u001b[0m\u001b[36m \u001b[0m│\u001b[35m \u001b[0m\u001b[1;36m0.14\u001b[0m\u001b[35m                                                    \u001b[0m\u001b[35m \u001b[0m│\u001b[32m \u001b[0m\u001b[1;32m{\u001b[0m\u001b[1;32m}\u001b[0m\u001b[32m                    \u001b[0m\u001b[32m \u001b[0m│ ┃\n",
              "┃ │\u001b[36m \u001b[0m\u001b[36m          the Residuals\u001b[0m\u001b[36m \u001b[0m│\u001b[35m                                                          \u001b[0m│\u001b[32m                        \u001b[0m│ ┃\n",
              "┃ │\u001b[36m \u001b[0m\u001b[36m        (residuals_std)\u001b[0m\u001b[36m \u001b[0m│\u001b[35m                                                          \u001b[0m│\u001b[32m                        \u001b[0m│ ┃\n",
              "┃ ╰─────────────────────────┴──────────────────────────────────────────────────────────┴────────────────────────╯ ┃\n",
              "┃ \u001b[3m                                         Forecast Errors - Regression                                          \u001b[0m ┃\n",
              "┃ ╭─────────────────────────┬──────────────────────────────────────────────────────────┬────────────────────────╮ ┃\n",
              "┃ │\u001b[36m \u001b[0m\u001b[36m    Mean Absolute Error\u001b[0m\u001b[36m \u001b[0m│\u001b[35m \u001b[0m\u001b[1;36m0.111\u001b[0m\u001b[35m                                                   \u001b[0m\u001b[35m \u001b[0m│\u001b[32m \u001b[0m\u001b[1;32m{\u001b[0m\u001b[1;32m}\u001b[0m\u001b[32m                    \u001b[0m\u001b[32m \u001b[0m│ ┃\n",
              "┃ │\u001b[36m \u001b[0m\u001b[36m                  (mae)\u001b[0m\u001b[36m \u001b[0m│\u001b[35m                                                          \u001b[0m│\u001b[32m                        \u001b[0m│ ┃\n",
              "┃ ├─────────────────────────┼──────────────────────────────────────────────────────────┼────────────────────────┤ ┃\n",
              "┃ │\u001b[36m \u001b[0m\u001b[36m          Mean Absolute\u001b[0m\u001b[36m \u001b[0m│\u001b[35m \u001b[0m\u001b[1;36m5.445\u001b[0m\u001b[35m                                                   \u001b[0m\u001b[35m \u001b[0m│\u001b[32m \u001b[0m\u001b[1;32m{\u001b[0m\u001b[1;32m}\u001b[0m\u001b[32m                    \u001b[0m\u001b[32m \u001b[0m│ ┃\n",
              "┃ │\u001b[36m \u001b[0m\u001b[36mPercentage Error (mape)\u001b[0m\u001b[36m \u001b[0m│\u001b[35m                                                          \u001b[0m│\u001b[32m                        \u001b[0m│ ┃\n",
              "┃ ├─────────────────────────┼──────────────────────────────────────────────────────────┼────────────────────────┤ ┃\n",
              "┃ │\u001b[36m \u001b[0m\u001b[36mSymmetric Mean Absolute\u001b[0m\u001b[36m \u001b[0m│\u001b[35m \u001b[0m\u001b[1;36m0.726\u001b[0m\u001b[35m                                                   \u001b[0m\u001b[35m \u001b[0m│\u001b[32m \u001b[0m\u001b[1;32m{\u001b[0m\u001b[1;32m}\u001b[0m\u001b[32m                    \u001b[0m\u001b[32m \u001b[0m│ ┃\n",
              "┃ │\u001b[36m \u001b[0m\u001b[36m       Percentage Error\u001b[0m\u001b[36m \u001b[0m│\u001b[35m                                                          \u001b[0m│\u001b[32m                        \u001b[0m│ ┃\n",
              "┃ │\u001b[36m \u001b[0m\u001b[36m                (smape)\u001b[0m\u001b[36m \u001b[0m│\u001b[35m                                                          \u001b[0m│\u001b[32m                        \u001b[0m│ ┃\n",
              "┃ ├─────────────────────────┼──────────────────────────────────────────────────────────┼────────────────────────┤ ┃\n",
              "┃ │\u001b[36m \u001b[0m\u001b[36m     Mean Squared Error\u001b[0m\u001b[36m \u001b[0m│\u001b[35m \u001b[0m\u001b[1;36m0.02\u001b[0m\u001b[35m                                                    \u001b[0m\u001b[35m \u001b[0m│\u001b[32m \u001b[0m\u001b[1;32m{\u001b[0m\u001b[32m'squared'\u001b[0m\u001b[32m: \u001b[0m\u001b[3;92mTrue\u001b[0m\u001b[1;32m}\u001b[0m\u001b[32m     \u001b[0m\u001b[32m \u001b[0m│ ┃\n",
              "┃ │\u001b[36m \u001b[0m\u001b[36m                  (mse)\u001b[0m\u001b[36m \u001b[0m│\u001b[35m                                                          \u001b[0m│\u001b[32m                        \u001b[0m│ ┃\n",
              "┃ ├─────────────────────────┼──────────────────────────────────────────────────────────┼────────────────────────┤ ┃\n",
              "┃ │\u001b[36m \u001b[0m\u001b[36mRoot Mean Squared Error\u001b[0m\u001b[36m \u001b[0m│\u001b[35m \u001b[0m\u001b[1;36m0.141\u001b[0m\u001b[35m                                                   \u001b[0m\u001b[35m \u001b[0m│\u001b[32m \u001b[0m\u001b[1;32m{\u001b[0m\u001b[32m'squared'\u001b[0m\u001b[32m: \u001b[0m\u001b[3;91mFalse\u001b[0m\u001b[1;32m}\u001b[0m\u001b[32m    \u001b[0m\u001b[32m \u001b[0m│ ┃\n",
              "┃ │\u001b[36m \u001b[0m\u001b[36m                 (rmse)\u001b[0m\u001b[36m \u001b[0m│\u001b[35m                                                          \u001b[0m│\u001b[32m                        \u001b[0m│ ┃\n",
              "┃ ├─────────────────────────┼──────────────────────────────────────────────────────────┼────────────────────────┤ ┃\n",
              "┃ │\u001b[36m \u001b[0m\u001b[36m  Root Mean Squared Log\u001b[0m\u001b[36m \u001b[0m│\u001b[35m \u001b[0m\u001b[32m'Mean Squared Logarithmic Error cannot be used when \u001b[0m\u001b[35m    \u001b[0m\u001b[35m \u001b[0m│\u001b[32m \u001b[0m\u001b[1;32m{\u001b[0m\u001b[32m'squared'\u001b[0m\u001b[32m: \u001b[0m\u001b[3;91mFalse\u001b[0m\u001b[1;32m}\u001b[0m\u001b[32m    \u001b[0m\u001b[32m \u001b[0m│ ┃\n",
              "┃ │\u001b[36m \u001b[0m\u001b[36m          Error (rmsle)\u001b[0m\u001b[36m \u001b[0m│\u001b[35m \u001b[0m\u001b[32mtargets contain negative values.'\u001b[0m\u001b[35m                       \u001b[0m\u001b[35m \u001b[0m│\u001b[32m                        \u001b[0m│ ┃\n",
              "┃ ├─────────────────────────┼──────────────────────────────────────────────────────────┼────────────────────────┤ ┃\n",
              "┃ │\u001b[36m \u001b[0m\u001b[36m      R-squared (r_two)\u001b[0m\u001b[36m \u001b[0m│\u001b[35m \u001b[0m\u001b[1;36m-0.993\u001b[0m\u001b[35m                                                  \u001b[0m\u001b[35m \u001b[0m│\u001b[32m \u001b[0m\u001b[1;32m{\u001b[0m\u001b[1;32m}\u001b[0m\u001b[32m                    \u001b[0m\u001b[32m \u001b[0m│ ┃\n",
              "┃ ╰─────────────────────────┴──────────────────────────────────────────────────────────┴────────────────────────╯ ┃\n",
              "┃                                                                                                                 ┃\n",
              "┗━━━━━━━━━━━━━━━━━━━━━━━━━━━━━━━━━━━━━━━━━━━━━━━━━━━━━━━━━━━━━━━━━━━━━━━━━━━━━━━━━━━━━━━━━━━━━━━━━━━━━━━━━━━━━━━━━┛\n"
            ]
          },
          "metadata": {},
          "output_type": "display_data"
        }
      ],
      "source": [
        "''' Printing a more detailed result by passing in `extended` (this is the default) '''\n",
        "scorecard.print('extended')"
      ]
    },
    {
      "attachments": {},
      "cell_type": "markdown",
      "metadata": {},
      "source": [
        "In jupyter notebook you can return the object and get a minimal report and the console representation printed (for exploring while debugging)"
      ]
    },
    {
      "cell_type": "code",
      "execution_count": 6,
      "metadata": {},
      "outputs": [
        {
          "data": {
            "text/html": [
              "<div>\n",
              "<style scoped>\n",
              "    .dataframe tbody tr th:only-of-type {\n",
              "        vertical-align: middle;\n",
              "    }\n",
              "\n",
              "    .dataframe tbody tr th {\n",
              "        vertical-align: top;\n",
              "    }\n",
              "\n",
              "    .dataframe thead th {\n",
              "        text-align: right;\n",
              "    }\n",
              "</style>\n",
              "<table border=\"1\" class=\"dataframe\">\n",
              "  <thead>\n",
              "    <tr style=\"text-align: right;\">\n",
              "      <th></th>\n",
              "      <th>Model_20230505-1503244121b729</th>\n",
              "    </tr>\n",
              "  </thead>\n",
              "  <tbody>\n",
              "    <tr>\n",
              "      <th>Mean Absolute Error</th>\n",
              "      <td>0.111487</td>\n",
              "    </tr>\n",
              "    <tr>\n",
              "      <th>Mean Absolute Percentage Error</th>\n",
              "      <td>5.445389</td>\n",
              "    </tr>\n",
              "    <tr>\n",
              "      <th>Symmetric Mean Absolute Percentage Error</th>\n",
              "      <td>0.726189</td>\n",
              "    </tr>\n",
              "    <tr>\n",
              "      <th>Mean Squared Error</th>\n",
              "      <td>0.019755</td>\n",
              "    </tr>\n",
              "    <tr>\n",
              "      <th>Root Mean Squared Error</th>\n",
              "      <td>0.140553</td>\n",
              "    </tr>\n",
              "    <tr>\n",
              "      <th>R-squared</th>\n",
              "      <td>-0.992590</td>\n",
              "    </tr>\n",
              "    <tr>\n",
              "      <th>Mean of the Residuals</th>\n",
              "      <td>-0.006759</td>\n",
              "    </tr>\n",
              "    <tr>\n",
              "      <th>Standard Deviation of the Residuals</th>\n",
              "      <td>0.140460</td>\n",
              "    </tr>\n",
              "  </tbody>\n",
              "</table>\n",
              "</div>"
            ],
            "text/plain": [
              "                                          Model_20230505-1503244121b729\n",
              "                     Mean Absolute Error                       0.111487\n",
              "          Mean Absolute Percentage Error                       5.445389\n",
              "Symmetric Mean Absolute Percentage Error                       0.726189\n",
              "                      Mean Squared Error                       0.019755\n",
              "                 Root Mean Squared Error                       0.140553\n",
              "                               R-squared                      -0.992590\n",
              "                   Mean of the Residuals                      -0.006759\n",
              "     Standard Deviation of the Residuals                       0.140460"
            ]
          },
          "metadata": {},
          "output_type": "display_data"
        },
        {
          "data": {
            "text/plain": [
              "<krisi.evaluate.scorecard.ScoreCard object at 0x28bc52080>"
            ]
          },
          "execution_count": 6,
          "metadata": {},
          "output_type": "execute_result"
        }
      ],
      "source": [
        "scorecard"
      ]
    },
    {
      "attachments": {},
      "cell_type": "markdown",
      "metadata": {},
      "source": [
        "# Evaluating on a rolling basis\n",
        "\n",
        "The most important feature of `krisi` is that you can evaluate metrics over time."
      ]
    },
    {
      "cell_type": "code",
      "execution_count": 7,
      "metadata": {},
      "outputs": [
        {
          "name": "stderr",
          "output_type": "stream",
          "text": [
            "/Users/daniel/mambaforge/envs/krisitest/lib/python3.10/site-packages/sklearn/metrics/_regression.py:918: UndefinedMetricWarning: R^2 score is not well-defined with less than two samples.\n",
            "  warnings.warn(msg, UndefinedMetricWarning)\n"
          ]
        }
      ],
      "source": [
        "scorecard_rolling = score(y, predictions, calculation='rolling') # calculation can be 'rolling', 'single' or 'both'"
      ]
    },
    {
      "attachments": {},
      "cell_type": "markdown",
      "metadata": {},
      "source": [
        "We can then generate an `interactive` (html dash) and `pdf` report, but first let's save the scorecard!\n",
        "\n",
        "## Save and load ScoreCards\n",
        "\n",
        "When saving a scorecard we can decide if we also want to save the console output, by specifying `save_modes`. Options are: \n",
        "   * `SaveModes.minimal` (Minimal output as previously in the cell)\n",
        "   * `SaveModes.obj` (Saves the entire object to a pickle file)\n",
        "   * `SaveModes.text` (Saves the output of the console into a `txt` file)\n",
        "   * `SaveModes.svg` (Creates an `svg` image of the console output)\n",
        "   * `SaveModes.html` (Creates an `html` version of the console output)\n",
        "\n",
        "Let's just save the scorecard object that we can load in later, by passing in either `[SaveMode.obj]` or simply `[\"obj\"]`.\n",
        "\n",
        "Two things to note:\n",
        "* The scorecard gets saved by default to `output/<project_name>/<scorecards>/<current_time>`. However, we only need to worry about the `project_name` when loading, our helper function scans the directory of the specified project.\n",
        "* `ScoreCard.save()` throws back itself, so that you can immediately chain a `print()`"
      ]
    },
    {
      "cell_type": "code",
      "execution_count": 8,
      "metadata": {},
      "outputs": [
        {
          "data": {
            "text/html": [
              "<pre style=\"white-space:pre;overflow-x:auto;line-height:normal;font-family:Menlo,'DejaVu Sans Mono',consolas,'Courier New',monospace\"></pre>\n"
            ],
            "text/plain": []
          },
          "metadata": {},
          "output_type": "display_data"
        },
        {
          "data": {
            "text/html": [
              "<div>\n",
              "<style scoped>\n",
              "    .dataframe tbody tr th:only-of-type {\n",
              "        vertical-align: middle;\n",
              "    }\n",
              "\n",
              "    .dataframe tbody tr th {\n",
              "        vertical-align: top;\n",
              "    }\n",
              "\n",
              "    .dataframe thead th {\n",
              "        text-align: right;\n",
              "    }\n",
              "</style>\n",
              "<table border=\"1\" class=\"dataframe\">\n",
              "  <thead>\n",
              "    <tr style=\"text-align: right;\">\n",
              "      <th></th>\n",
              "      <th>Model_20230505-1503244121b729</th>\n",
              "    </tr>\n",
              "  </thead>\n",
              "  <tbody>\n",
              "    <tr>\n",
              "      <th>Mean Absolute Error</th>\n",
              "      <td>0.111487</td>\n",
              "    </tr>\n",
              "    <tr>\n",
              "      <th>Mean Absolute Percentage Error</th>\n",
              "      <td>5.445389</td>\n",
              "    </tr>\n",
              "    <tr>\n",
              "      <th>Symmetric Mean Absolute Percentage Error</th>\n",
              "      <td>0.726189</td>\n",
              "    </tr>\n",
              "    <tr>\n",
              "      <th>Mean Squared Error</th>\n",
              "      <td>0.019755</td>\n",
              "    </tr>\n",
              "    <tr>\n",
              "      <th>Root Mean Squared Error</th>\n",
              "      <td>0.140553</td>\n",
              "    </tr>\n",
              "    <tr>\n",
              "      <th>R-squared</th>\n",
              "      <td>-0.992590</td>\n",
              "    </tr>\n",
              "    <tr>\n",
              "      <th>Mean of the Residuals</th>\n",
              "      <td>-0.006759</td>\n",
              "    </tr>\n",
              "    <tr>\n",
              "      <th>Standard Deviation of the Residuals</th>\n",
              "      <td>0.140460</td>\n",
              "    </tr>\n",
              "  </tbody>\n",
              "</table>\n",
              "</div>"
            ],
            "text/plain": [
              "                                          Model_20230505-1503244121b729\n",
              "                     Mean Absolute Error                       0.111487\n",
              "          Mean Absolute Percentage Error                       5.445389\n",
              "Symmetric Mean Absolute Percentage Error                       0.726189\n",
              "                      Mean Squared Error                       0.019755\n",
              "                 Root Mean Squared Error                       0.140553\n",
              "                               R-squared                      -0.992590\n",
              "                   Mean of the Residuals                      -0.006759\n",
              "     Standard Deviation of the Residuals                       0.140460"
            ]
          },
          "metadata": {},
          "output_type": "display_data"
        }
      ],
      "source": [
        "scorecard.metadata.project_name = \"Our example project\"\n",
        "scorecard.save(save_modes=[\"obj\"]).print('minimal')"
      ]
    },
    {
      "attachments": {},
      "cell_type": "markdown",
      "metadata": {},
      "source": [
        "Once we have saved the object we can load it in. `load_scorecards` loads in all `scorecards` from a project"
      ]
    },
    {
      "attachments": {},
      "cell_type": "markdown",
      "metadata": {},
      "source": [
        "# Compare multiple scorecards"
      ]
    },
    {
      "cell_type": "code",
      "execution_count": 9,
      "metadata": {},
      "outputs": [
        {
          "data": {
            "text/html": [
              "<div>\n",
              "<style scoped>\n",
              "    .dataframe tbody tr th:only-of-type {\n",
              "        vertical-align: middle;\n",
              "    }\n",
              "\n",
              "    .dataframe tbody tr th {\n",
              "        vertical-align: top;\n",
              "    }\n",
              "\n",
              "    .dataframe thead th {\n",
              "        text-align: right;\n",
              "    }\n",
              "</style>\n",
              "<table border=\"1\" class=\"dataframe\">\n",
              "  <thead>\n",
              "    <tr style=\"text-align: right;\">\n",
              "      <th></th>\n",
              "      <th>rmse</th>\n",
              "      <th>mae</th>\n",
              "      <th>mse</th>\n",
              "    </tr>\n",
              "  </thead>\n",
              "  <tbody>\n",
              "    <tr>\n",
              "      <th>Model_20230505-150324886ee668</th>\n",
              "      <td>0.143096</td>\n",
              "      <td>0.113570</td>\n",
              "      <td>0.020476</td>\n",
              "    </tr>\n",
              "    <tr>\n",
              "      <th>Model_20230505-1503240fb797d2</th>\n",
              "      <td>0.142574</td>\n",
              "      <td>0.115174</td>\n",
              "      <td>0.020327</td>\n",
              "    </tr>\n",
              "    <tr>\n",
              "      <th>Model_20230505-1503241c8ed43f</th>\n",
              "      <td>0.141161</td>\n",
              "      <td>0.112113</td>\n",
              "      <td>0.019926</td>\n",
              "    </tr>\n",
              "    <tr>\n",
              "      <th>Model_20230505-1503246ee2af44</th>\n",
              "      <td>0.140420</td>\n",
              "      <td>0.111611</td>\n",
              "      <td>0.019718</td>\n",
              "    </tr>\n",
              "    <tr>\n",
              "      <th>Model_20230505-150324acdebdb2</th>\n",
              "      <td>0.138661</td>\n",
              "      <td>0.112270</td>\n",
              "      <td>0.019227</td>\n",
              "    </tr>\n",
              "  </tbody>\n",
              "</table>\n",
              "</div>"
            ],
            "text/plain": [
              "                                   rmse       mae       mse\n",
              "Model_20230505-150324886ee668  0.143096  0.113570  0.020476\n",
              "Model_20230505-1503240fb797d2  0.142574  0.115174  0.020327\n",
              "Model_20230505-1503241c8ed43f  0.141161  0.112113  0.019926\n",
              "Model_20230505-1503246ee2af44  0.140420  0.111611  0.019718\n",
              "Model_20230505-150324acdebdb2  0.138661  0.112270  0.019227"
            ]
          },
          "execution_count": 9,
          "metadata": {},
          "output_type": "execute_result"
        }
      ],
      "source": [
        "from krisi import compare\n",
        "\n",
        "compare([score(np.random.normal(0, 0.1, 1000), np.random.normal(0, 0.1, 1000)) for _ in range(5)], sort_by='rmse', metric_keys=['mae', 'mse'])"
      ]
    },
    {
      "cell_type": "code",
      "execution_count": 10,
      "metadata": {},
      "outputs": [],
      "source": [
        "from krisi import load_scorecards\n",
        "\n",
        "last_scorecard = load_scorecards(\"Our example project\")[-1]"
      ]
    },
    {
      "attachments": {},
      "cell_type": "markdown",
      "metadata": {},
      "source": [
        "You can also save scorecards and load them in. `krisi` will save and load from the directory under the same `project_name` so we should specify the name."
      ]
    },
    {
      "cell_type": "code",
      "execution_count": 11,
      "metadata": {},
      "outputs": [
        {
          "data": {
            "text/html": [
              "<pre style=\"white-space:pre;overflow-x:auto;line-height:normal;font-family:Menlo,'DejaVu Sans Mono',consolas,'Courier New',monospace\"></pre>\n"
            ],
            "text/plain": []
          },
          "metadata": {},
          "output_type": "display_data"
        },
        {
          "data": {
            "text/html": [
              "<pre style=\"white-space:pre;overflow-x:auto;line-height:normal;font-family:Menlo,'DejaVu Sans Mono',consolas,'Courier New',monospace\"></pre>\n"
            ],
            "text/plain": []
          },
          "metadata": {},
          "output_type": "display_data"
        },
        {
          "data": {
            "text/html": [
              "<pre style=\"white-space:pre;overflow-x:auto;line-height:normal;font-family:Menlo,'DejaVu Sans Mono',consolas,'Courier New',monospace\"></pre>\n"
            ],
            "text/plain": []
          },
          "metadata": {},
          "output_type": "display_data"
        },
        {
          "data": {
            "text/html": [
              "<pre style=\"white-space:pre;overflow-x:auto;line-height:normal;font-family:Menlo,'DejaVu Sans Mono',consolas,'Courier New',monospace\"></pre>\n"
            ],
            "text/plain": []
          },
          "metadata": {},
          "output_type": "display_data"
        },
        {
          "data": {
            "text/html": [
              "<pre style=\"white-space:pre;overflow-x:auto;line-height:normal;font-family:Menlo,'DejaVu Sans Mono',consolas,'Courier New',monospace\"></pre>\n"
            ],
            "text/plain": []
          },
          "metadata": {},
          "output_type": "display_data"
        },
        {
          "data": {
            "text/html": [
              "<div>\n",
              "<style scoped>\n",
              "    .dataframe tbody tr th:only-of-type {\n",
              "        vertical-align: middle;\n",
              "    }\n",
              "\n",
              "    .dataframe tbody tr th {\n",
              "        vertical-align: top;\n",
              "    }\n",
              "\n",
              "    .dataframe thead th {\n",
              "        text-align: right;\n",
              "    }\n",
              "</style>\n",
              "<table border=\"1\" class=\"dataframe\">\n",
              "  <thead>\n",
              "    <tr style=\"text-align: right;\">\n",
              "      <th></th>\n",
              "      <th>rmse</th>\n",
              "      <th>mae</th>\n",
              "      <th>mse</th>\n",
              "    </tr>\n",
              "  </thead>\n",
              "  <tbody>\n",
              "    <tr>\n",
              "      <th>Model_20230505-145955d86bf421</th>\n",
              "      <td>0.148716</td>\n",
              "      <td>0.118478</td>\n",
              "      <td>0.022116</td>\n",
              "    </tr>\n",
              "    <tr>\n",
              "      <th>Model_20230505-150245aa0b1b04</th>\n",
              "      <td>0.146446</td>\n",
              "      <td>0.118828</td>\n",
              "      <td>0.021446</td>\n",
              "    </tr>\n",
              "    <tr>\n",
              "      <th>Model_20230505-1458479f75134f</th>\n",
              "      <td>0.144326</td>\n",
              "      <td>0.114001</td>\n",
              "      <td>0.020830</td>\n",
              "    </tr>\n",
              "    <tr>\n",
              "      <th>Model_20230505-145955e30bab0d</th>\n",
              "      <td>0.143713</td>\n",
              "      <td>0.116851</td>\n",
              "      <td>0.020653</td>\n",
              "    </tr>\n",
              "    <tr>\n",
              "      <th>Model_20230505-1503244e7fb623</th>\n",
              "      <td>0.141529</td>\n",
              "      <td>0.113470</td>\n",
              "      <td>0.020030</td>\n",
              "    </tr>\n",
              "    <tr>\n",
              "      <th>Model_20230505-145847542c1b65</th>\n",
              "      <td>0.141243</td>\n",
              "      <td>0.113693</td>\n",
              "      <td>0.019950</td>\n",
              "    </tr>\n",
              "    <tr>\n",
              "      <th>Model_20230505-150245deca02bf</th>\n",
              "      <td>0.141134</td>\n",
              "      <td>0.112914</td>\n",
              "      <td>0.019919</td>\n",
              "    </tr>\n",
              "    <tr>\n",
              "      <th>Model_20230505-150324c4554f98</th>\n",
              "      <td>0.140576</td>\n",
              "      <td>0.112303</td>\n",
              "      <td>0.019762</td>\n",
              "    </tr>\n",
              "    <tr>\n",
              "      <th>Model_20230505-1503245acb7212</th>\n",
              "      <td>0.140163</td>\n",
              "      <td>0.112072</td>\n",
              "      <td>0.019646</td>\n",
              "    </tr>\n",
              "    <tr>\n",
              "      <th>Model_20230505-145955c5d02249</th>\n",
              "      <td>0.139423</td>\n",
              "      <td>0.110601</td>\n",
              "      <td>0.019439</td>\n",
              "    </tr>\n",
              "    <tr>\n",
              "      <th>Model_20230505-1459559d4e3dcb</th>\n",
              "      <td>0.139015</td>\n",
              "      <td>0.110320</td>\n",
              "      <td>0.019325</td>\n",
              "    </tr>\n",
              "    <tr>\n",
              "      <th>Model_20230505-145847098850db</th>\n",
              "      <td>0.138594</td>\n",
              "      <td>0.109842</td>\n",
              "      <td>0.019208</td>\n",
              "    </tr>\n",
              "    <tr>\n",
              "      <th>Model_20230505-1458475640c2f3</th>\n",
              "      <td>0.138561</td>\n",
              "      <td>0.111259</td>\n",
              "      <td>0.019199</td>\n",
              "    </tr>\n",
              "    <tr>\n",
              "      <th>Model_20230505-1503240ebb17be</th>\n",
              "      <td>0.138344</td>\n",
              "      <td>0.109841</td>\n",
              "      <td>0.019139</td>\n",
              "    </tr>\n",
              "    <tr>\n",
              "      <th>Model_20230505-145847a1bb18ca</th>\n",
              "      <td>0.137883</td>\n",
              "      <td>0.110558</td>\n",
              "      <td>0.019012</td>\n",
              "    </tr>\n",
              "    <tr>\n",
              "      <th>Model_20230505-145955f9e7e818</th>\n",
              "      <td>0.137733</td>\n",
              "      <td>0.111885</td>\n",
              "      <td>0.018970</td>\n",
              "    </tr>\n",
              "    <tr>\n",
              "      <th>Model_20230505-150245829bb3b9</th>\n",
              "      <td>0.137021</td>\n",
              "      <td>0.108482</td>\n",
              "      <td>0.018775</td>\n",
              "    </tr>\n",
              "    <tr>\n",
              "      <th>Model_20230505-15024573e0a221</th>\n",
              "      <td>0.136263</td>\n",
              "      <td>0.109319</td>\n",
              "      <td>0.018568</td>\n",
              "    </tr>\n",
              "    <tr>\n",
              "      <th>Model_20230505-15032401caf404</th>\n",
              "      <td>0.136175</td>\n",
              "      <td>0.107170</td>\n",
              "      <td>0.018544</td>\n",
              "    </tr>\n",
              "    <tr>\n",
              "      <th>Model_20230505-150245246c595a</th>\n",
              "      <td>0.133084</td>\n",
              "      <td>0.105914</td>\n",
              "      <td>0.017711</td>\n",
              "    </tr>\n",
              "  </tbody>\n",
              "</table>\n",
              "</div>"
            ],
            "text/plain": [
              "                                   rmse       mae       mse\n",
              "Model_20230505-145955d86bf421  0.148716  0.118478  0.022116\n",
              "Model_20230505-150245aa0b1b04  0.146446  0.118828  0.021446\n",
              "Model_20230505-1458479f75134f  0.144326  0.114001  0.020830\n",
              "Model_20230505-145955e30bab0d  0.143713  0.116851  0.020653\n",
              "Model_20230505-1503244e7fb623  0.141529  0.113470  0.020030\n",
              "Model_20230505-145847542c1b65  0.141243  0.113693  0.019950\n",
              "Model_20230505-150245deca02bf  0.141134  0.112914  0.019919\n",
              "Model_20230505-150324c4554f98  0.140576  0.112303  0.019762\n",
              "Model_20230505-1503245acb7212  0.140163  0.112072  0.019646\n",
              "Model_20230505-145955c5d02249  0.139423  0.110601  0.019439\n",
              "Model_20230505-1459559d4e3dcb  0.139015  0.110320  0.019325\n",
              "Model_20230505-145847098850db  0.138594  0.109842  0.019208\n",
              "Model_20230505-1458475640c2f3  0.138561  0.111259  0.019199\n",
              "Model_20230505-1503240ebb17be  0.138344  0.109841  0.019139\n",
              "Model_20230505-145847a1bb18ca  0.137883  0.110558  0.019012\n",
              "Model_20230505-145955f9e7e818  0.137733  0.111885  0.018970\n",
              "Model_20230505-150245829bb3b9  0.137021  0.108482  0.018775\n",
              "Model_20230505-15024573e0a221  0.136263  0.109319  0.018568\n",
              "Model_20230505-15032401caf404  0.136175  0.107170  0.018544\n",
              "Model_20230505-150245246c595a  0.133084  0.105914  0.017711"
            ]
          },
          "execution_count": 11,
          "metadata": {},
          "output_type": "execute_result"
        }
      ],
      "source": [
        "project_name = \"Comparing Multiple Scorecards\"\n",
        "\n",
        "for i in range(5):\n",
        "    score(np.random.normal(0, 0.1, 1000), \n",
        "          np.random.normal(0, 0.1, 1000), \n",
        "          project_name=project_name).save()\n",
        "\n",
        "compare(load_scorecards(project_name), sort_by='rmse', metric_keys=['mae', 'mse'])"
      ]
    },
    {
      "attachments": {},
      "cell_type": "markdown",
      "metadata": {},
      "source": [
        "# Creating Reports\n",
        "\n",
        "For reporting you need to install `krisi[plotting]`: `pip install krisi[plotting]`\n",
        "\n",
        "There are five modes for reports:\n",
        "   * `DisplayMode.pdf` or `pdf`: Creates a pdf report from the evaluated `ScoreCard`)\n",
        "   * `DisplayMode.interactive` or `interactive`: Creates an interactive web version of the `ScoreCard` with `Dash`)\n",
        "   * `DisplayMode.direct` or `direct`: Displays the plots individually directly in the notebook or webpage if launch outside of a notebook\n",
        "   * `DisplayMode.direct_save` or `direct_save`:  Saves the plots individually\n",
        "   * `DisplayMode.direct_one_subplot` or `direct_one_subplot`: Same as `direct`, except all plots are contained in one plot as subplots.\n",
        "\n",
        "`scorecard.generate_report()` can receive a list of `DisplayModes` so you can mix and match the view (eg.: generate a pdf and also launch an interactive exploration)\n",
        "\n",
        "For saved files look in `output/<project_name>` for saved plots look in `output/<project_name>/diagrams`"
      ]
    },
    {
      "cell_type": "code",
      "execution_count": 12,
      "metadata": {},
      "outputs": [
        {
          "name": "stderr",
          "output_type": "stream",
          "text": [
            "/Users/daniel/mambaforge/envs/krisitest/lib/python3.10/site-packages/sklearn/metrics/_regression.py:918: UndefinedMetricWarning: R^2 score is not well-defined with less than two samples.\n",
            "  warnings.warn(msg, UndefinedMetricWarning)\n"
          ]
        },
        {
          "ename": "ValueError",
          "evalue": "This metric already contains a result.",
          "output_type": "error",
          "traceback": [
            "\u001b[0;31m---------------------------------------------------------------------------\u001b[0m",
            "\u001b[0;31mValueError\u001b[0m                                Traceback (most recent call last)",
            "Cell \u001b[0;32mIn[12], line 1\u001b[0m\n\u001b[0;32m----> 1\u001b[0m scorecard_rolling \u001b[39m=\u001b[39m score(np\u001b[39m.\u001b[39;49mrandom\u001b[39m.\u001b[39;49mnormal(\u001b[39m0\u001b[39;49m, \u001b[39m0.1\u001b[39;49m, \u001b[39m1000\u001b[39;49m), np\u001b[39m.\u001b[39;49mrandom\u001b[39m.\u001b[39;49mnormal(\u001b[39m0\u001b[39;49m, \u001b[39m0.1\u001b[39;49m, \u001b[39m1000\u001b[39;49m), calculation\u001b[39m=\u001b[39;49m\u001b[39m'\u001b[39;49m\u001b[39mboth\u001b[39;49m\u001b[39m'\u001b[39;49m)\n",
            "File \u001b[0;32m~/Documents/Code/krisi/src/krisi/evaluate/score.py:97\u001b[0m, in \u001b[0;36mscore\u001b[0;34m(y, predictions, model_name, dataset_name, project_name, default_metrics, custom_metrics, classification, sample_type, calculation, rolling_args, **kwargs)\u001b[0m\n\u001b[1;32m     95\u001b[0m \u001b[39melif\u001b[39;00m calculation \u001b[39m==\u001b[39m Calculation\u001b[39m.\u001b[39mboth \u001b[39mor\u001b[39;00m calculation \u001b[39m==\u001b[39m Calculation\u001b[39m.\u001b[39mboth\u001b[39m.\u001b[39mvalue:\n\u001b[1;32m     96\u001b[0m     sc\u001b[39m.\u001b[39mevaluate()\n\u001b[0;32m---> 97\u001b[0m     sc\u001b[39m.\u001b[39;49mevaluate_over_time()\n\u001b[1;32m     98\u001b[0m \u001b[39melse\u001b[39;00m:\n\u001b[1;32m     99\u001b[0m     \u001b[39mraise\u001b[39;00m \u001b[39mValueError\u001b[39;00m(\u001b[39mf\u001b[39m\u001b[39m\"\u001b[39m\u001b[39mCalculation type \u001b[39m\u001b[39m{\u001b[39;00mcalculation\u001b[39m}\u001b[39;00m\u001b[39m not recognized.\u001b[39m\u001b[39m\"\u001b[39m)\n",
            "File \u001b[0;32m~/Documents/Code/krisi/src/krisi/evaluate/scorecard.py:439\u001b[0m, in \u001b[0;36mScoreCard.evaluate_over_time\u001b[0;34m(self, defaults)\u001b[0m\n\u001b[1;32m    437\u001b[0m                 \u001b[39mself\u001b[39m[metric\u001b[39m.\u001b[39mkey] \u001b[39m=\u001b[39m metric\n\u001b[1;32m    438\u001b[0m         \u001b[39melse\u001b[39;00m:\n\u001b[0;32m--> 439\u001b[0m             metric\u001b[39m.\u001b[39;49mevaluate_over_time(\n\u001b[1;32m    440\u001b[0m                 \u001b[39mself\u001b[39;49m\u001b[39m.\u001b[39;49my, \u001b[39mself\u001b[39;49m\u001b[39m.\u001b[39;49mpredictions, rolling_args\u001b[39m=\u001b[39;49m\u001b[39mself\u001b[39;49m\u001b[39m.\u001b[39;49mrolling_args\n\u001b[1;32m    441\u001b[0m             )\n\u001b[1;32m    442\u001b[0m \u001b[39mreturn\u001b[39;00m \u001b[39mself\u001b[39m\n",
            "File \u001b[0;32m~/Documents/Code/krisi/src/krisi/evaluate/metric.py:131\u001b[0m, in \u001b[0;36mMetric.evaluate_over_time\u001b[0;34m(self, y, predictions, rolling_args)\u001b[0m\n\u001b[1;32m    128\u001b[0m \u001b[39mdef\u001b[39;00m \u001b[39mevaluate_over_time\u001b[39m(\n\u001b[1;32m    129\u001b[0m     \u001b[39mself\u001b[39m, y: TargetsDS, predictions: PredictionsDS, rolling_args: \u001b[39mdict\u001b[39m\n\u001b[1;32m    130\u001b[0m ) \u001b[39m-\u001b[39m\u001b[39m>\u001b[39m \u001b[39mNone\u001b[39;00m:\n\u001b[0;32m--> 131\u001b[0m     \u001b[39mself\u001b[39;49m\u001b[39m.\u001b[39;49m_rolling_evaluation(y, predictions, rolling_args\u001b[39m=\u001b[39;49mrolling_args)\n",
            "File \u001b[0;32m~/Documents/Code/krisi/src/krisi/evaluate/metric.py:108\u001b[0m, in \u001b[0;36mMetric._rolling_evaluation\u001b[0;34m(self, rolling_args, *args)\u001b[0m\n\u001b[1;32m    106\u001b[0m \u001b[39mdef\u001b[39;00m \u001b[39m_rolling_evaluation\u001b[39m(\u001b[39mself\u001b[39m, \u001b[39m*\u001b[39margs, rolling_args: \u001b[39mdict\u001b[39m) \u001b[39m-\u001b[39m\u001b[39m>\u001b[39m \u001b[39m\"\u001b[39m\u001b[39mMetric\u001b[39m\u001b[39m\"\u001b[39m:\n\u001b[1;32m    107\u001b[0m     \u001b[39mif\u001b[39;00m \u001b[39mself\u001b[39m\u001b[39m.\u001b[39mdisable_rolling:\n\u001b[0;32m--> 108\u001b[0m         \u001b[39mself\u001b[39;49m\u001b[39m.\u001b[39;49m_evaluation(\u001b[39m*\u001b[39;49margs)\n\u001b[1;32m    109\u001b[0m     \u001b[39melse\u001b[39;00m:\n\u001b[1;32m    110\u001b[0m         _df \u001b[39m=\u001b[39m pd\u001b[39m.\u001b[39mconcat(args, axis\u001b[39m=\u001b[39m\u001b[39m\"\u001b[39m\u001b[39mcolumns\u001b[39m\u001b[39m\"\u001b[39m)\n",
            "File \u001b[0;32m~/Documents/Code/krisi/src/krisi/evaluate/metric.py:96\u001b[0m, in \u001b[0;36mMetric._evaluation\u001b[0;34m(self, *args)\u001b[0m\n\u001b[1;32m     94\u001b[0m \u001b[39mexcept\u001b[39;00m \u001b[39mException\u001b[39;00m \u001b[39mas\u001b[39;00m e:\n\u001b[1;32m     95\u001b[0m     result \u001b[39m=\u001b[39m e\n\u001b[0;32m---> 96\u001b[0m \u001b[39mself\u001b[39;49m\u001b[39m.\u001b[39;49m__safe_set(result, key\u001b[39m=\u001b[39;49m\u001b[39m\"\u001b[39;49m\u001b[39mresult\u001b[39;49m\u001b[39m\"\u001b[39;49m)\n\u001b[1;32m     97\u001b[0m \u001b[39mreturn\u001b[39;00m \u001b[39mself\u001b[39m\n",
            "File \u001b[0;32m~/Documents/Code/krisi/src/krisi/evaluate/metric.py:160\u001b[0m, in \u001b[0;36mMetric.__safe_set\u001b[0;34m(self, result, key)\u001b[0m\n\u001b[1;32m    156\u001b[0m \u001b[39mdef\u001b[39;00m \u001b[39m__safe_set\u001b[39m(\n\u001b[1;32m    157\u001b[0m     \u001b[39mself\u001b[39m, result: Union[\u001b[39mException\u001b[39;00m, MetricResult, List[MetricResult]], key: \u001b[39mstr\u001b[39m\n\u001b[1;32m    158\u001b[0m ):\n\u001b[1;32m    159\u001b[0m     \u001b[39mif\u001b[39;00m \u001b[39mself\u001b[39m\u001b[39m.\u001b[39m\u001b[39m__dict__\u001b[39m[key] \u001b[39mis\u001b[39;00m \u001b[39mnot\u001b[39;00m \u001b[39mNone\u001b[39;00m:\n\u001b[0;32m--> 160\u001b[0m         \u001b[39mraise\u001b[39;00m \u001b[39mValueError\u001b[39;00m(\u001b[39m\"\u001b[39m\u001b[39mThis metric already contains a result.\u001b[39m\u001b[39m\"\u001b[39m)\n\u001b[1;32m    161\u001b[0m     \u001b[39melse\u001b[39;00m:\n\u001b[1;32m    162\u001b[0m         \u001b[39mself\u001b[39m\u001b[39m.\u001b[39m\u001b[39m__dict__\u001b[39m[key] \u001b[39m=\u001b[39m result\n",
            "\u001b[0;31mValueError\u001b[0m: This metric already contains a result."
          ]
        }
      ],
      "source": [
        "scorecard_rolling = score(np.random.normal(0, 0.1, 1000), np.random.normal(0, 0.1, 1000), calculation='both')"
      ]
    },
    {
      "cell_type": "code",
      "execution_count": null,
      "metadata": {},
      "outputs": [
        {
          "data": {
            "application/vnd.plotly.v1+json": {
              "config": {
                "plotlyServerURL": "https://plot.ly"
              },
              "data": [
                {
                  "domain": {
                    "column": 0,
                    "row": 0,
                    "x": [
                      0,
                      1
                    ],
                    "y": [
                      0.625,
                      1
                    ]
                  },
                  "gauge": {
                    "axis": {
                      "visible": false
                    }
                  },
                  "type": "indicator",
                  "value": 0.019440990234281707
                },
                {
                  "domain": {
                    "column": 0,
                    "row": 0,
                    "x": [
                      0,
                      1
                    ],
                    "y": [
                      0,
                      0.375
                    ]
                  },
                  "gauge": {
                    "axis": {
                      "visible": false
                    }
                  },
                  "type": "indicator",
                  "value": 0.13943095149313767
                }
              ],
              "layout": {
                "annotations": [
                  {
                    "font": {
                      "size": 16
                    },
                    "showarrow": false,
                    "text": "Mean Squared Error - display_single_value",
                    "x": 0.5,
                    "xanchor": "center",
                    "xref": "paper",
                    "y": 1,
                    "yanchor": "bottom",
                    "yref": "paper"
                  },
                  {
                    "font": {
                      "size": 16
                    },
                    "showarrow": false,
                    "text": "Root Mean Squared Error - display_single_value",
                    "x": 0.5,
                    "xanchor": "center",
                    "xref": "paper",
                    "y": 0.375,
                    "yanchor": "bottom",
                    "yref": "paper"
                  }
                ],
                "height": 1000,
                "template": {
                  "data": {
                    "bar": [
                      {
                        "error_x": {
                          "color": "#2a3f5f"
                        },
                        "error_y": {
                          "color": "#2a3f5f"
                        },
                        "marker": {
                          "line": {
                            "color": "#E5ECF6",
                            "width": 0.5
                          },
                          "pattern": {
                            "fillmode": "overlay",
                            "size": 10,
                            "solidity": 0.2
                          }
                        },
                        "type": "bar"
                      }
                    ],
                    "barpolar": [
                      {
                        "marker": {
                          "line": {
                            "color": "#E5ECF6",
                            "width": 0.5
                          },
                          "pattern": {
                            "fillmode": "overlay",
                            "size": 10,
                            "solidity": 0.2
                          }
                        },
                        "type": "barpolar"
                      }
                    ],
                    "carpet": [
                      {
                        "aaxis": {
                          "endlinecolor": "#2a3f5f",
                          "gridcolor": "white",
                          "linecolor": "white",
                          "minorgridcolor": "white",
                          "startlinecolor": "#2a3f5f"
                        },
                        "baxis": {
                          "endlinecolor": "#2a3f5f",
                          "gridcolor": "white",
                          "linecolor": "white",
                          "minorgridcolor": "white",
                          "startlinecolor": "#2a3f5f"
                        },
                        "type": "carpet"
                      }
                    ],
                    "choropleth": [
                      {
                        "colorbar": {
                          "outlinewidth": 0,
                          "ticks": ""
                        },
                        "type": "choropleth"
                      }
                    ],
                    "contour": [
                      {
                        "colorbar": {
                          "outlinewidth": 0,
                          "ticks": ""
                        },
                        "colorscale": [
                          [
                            0,
                            "#0d0887"
                          ],
                          [
                            0.1111111111111111,
                            "#46039f"
                          ],
                          [
                            0.2222222222222222,
                            "#7201a8"
                          ],
                          [
                            0.3333333333333333,
                            "#9c179e"
                          ],
                          [
                            0.4444444444444444,
                            "#bd3786"
                          ],
                          [
                            0.5555555555555556,
                            "#d8576b"
                          ],
                          [
                            0.6666666666666666,
                            "#ed7953"
                          ],
                          [
                            0.7777777777777778,
                            "#fb9f3a"
                          ],
                          [
                            0.8888888888888888,
                            "#fdca26"
                          ],
                          [
                            1,
                            "#f0f921"
                          ]
                        ],
                        "type": "contour"
                      }
                    ],
                    "contourcarpet": [
                      {
                        "colorbar": {
                          "outlinewidth": 0,
                          "ticks": ""
                        },
                        "type": "contourcarpet"
                      }
                    ],
                    "heatmap": [
                      {
                        "colorbar": {
                          "outlinewidth": 0,
                          "ticks": ""
                        },
                        "colorscale": [
                          [
                            0,
                            "#0d0887"
                          ],
                          [
                            0.1111111111111111,
                            "#46039f"
                          ],
                          [
                            0.2222222222222222,
                            "#7201a8"
                          ],
                          [
                            0.3333333333333333,
                            "#9c179e"
                          ],
                          [
                            0.4444444444444444,
                            "#bd3786"
                          ],
                          [
                            0.5555555555555556,
                            "#d8576b"
                          ],
                          [
                            0.6666666666666666,
                            "#ed7953"
                          ],
                          [
                            0.7777777777777778,
                            "#fb9f3a"
                          ],
                          [
                            0.8888888888888888,
                            "#fdca26"
                          ],
                          [
                            1,
                            "#f0f921"
                          ]
                        ],
                        "type": "heatmap"
                      }
                    ],
                    "heatmapgl": [
                      {
                        "colorbar": {
                          "outlinewidth": 0,
                          "ticks": ""
                        },
                        "colorscale": [
                          [
                            0,
                            "#0d0887"
                          ],
                          [
                            0.1111111111111111,
                            "#46039f"
                          ],
                          [
                            0.2222222222222222,
                            "#7201a8"
                          ],
                          [
                            0.3333333333333333,
                            "#9c179e"
                          ],
                          [
                            0.4444444444444444,
                            "#bd3786"
                          ],
                          [
                            0.5555555555555556,
                            "#d8576b"
                          ],
                          [
                            0.6666666666666666,
                            "#ed7953"
                          ],
                          [
                            0.7777777777777778,
                            "#fb9f3a"
                          ],
                          [
                            0.8888888888888888,
                            "#fdca26"
                          ],
                          [
                            1,
                            "#f0f921"
                          ]
                        ],
                        "type": "heatmapgl"
                      }
                    ],
                    "histogram": [
                      {
                        "marker": {
                          "pattern": {
                            "fillmode": "overlay",
                            "size": 10,
                            "solidity": 0.2
                          }
                        },
                        "type": "histogram"
                      }
                    ],
                    "histogram2d": [
                      {
                        "colorbar": {
                          "outlinewidth": 0,
                          "ticks": ""
                        },
                        "colorscale": [
                          [
                            0,
                            "#0d0887"
                          ],
                          [
                            0.1111111111111111,
                            "#46039f"
                          ],
                          [
                            0.2222222222222222,
                            "#7201a8"
                          ],
                          [
                            0.3333333333333333,
                            "#9c179e"
                          ],
                          [
                            0.4444444444444444,
                            "#bd3786"
                          ],
                          [
                            0.5555555555555556,
                            "#d8576b"
                          ],
                          [
                            0.6666666666666666,
                            "#ed7953"
                          ],
                          [
                            0.7777777777777778,
                            "#fb9f3a"
                          ],
                          [
                            0.8888888888888888,
                            "#fdca26"
                          ],
                          [
                            1,
                            "#f0f921"
                          ]
                        ],
                        "type": "histogram2d"
                      }
                    ],
                    "histogram2dcontour": [
                      {
                        "colorbar": {
                          "outlinewidth": 0,
                          "ticks": ""
                        },
                        "colorscale": [
                          [
                            0,
                            "#0d0887"
                          ],
                          [
                            0.1111111111111111,
                            "#46039f"
                          ],
                          [
                            0.2222222222222222,
                            "#7201a8"
                          ],
                          [
                            0.3333333333333333,
                            "#9c179e"
                          ],
                          [
                            0.4444444444444444,
                            "#bd3786"
                          ],
                          [
                            0.5555555555555556,
                            "#d8576b"
                          ],
                          [
                            0.6666666666666666,
                            "#ed7953"
                          ],
                          [
                            0.7777777777777778,
                            "#fb9f3a"
                          ],
                          [
                            0.8888888888888888,
                            "#fdca26"
                          ],
                          [
                            1,
                            "#f0f921"
                          ]
                        ],
                        "type": "histogram2dcontour"
                      }
                    ],
                    "mesh3d": [
                      {
                        "colorbar": {
                          "outlinewidth": 0,
                          "ticks": ""
                        },
                        "type": "mesh3d"
                      }
                    ],
                    "parcoords": [
                      {
                        "line": {
                          "colorbar": {
                            "outlinewidth": 0,
                            "ticks": ""
                          }
                        },
                        "type": "parcoords"
                      }
                    ],
                    "pie": [
                      {
                        "automargin": true,
                        "type": "pie"
                      }
                    ],
                    "scatter": [
                      {
                        "fillpattern": {
                          "fillmode": "overlay",
                          "size": 10,
                          "solidity": 0.2
                        },
                        "type": "scatter"
                      }
                    ],
                    "scatter3d": [
                      {
                        "line": {
                          "colorbar": {
                            "outlinewidth": 0,
                            "ticks": ""
                          }
                        },
                        "marker": {
                          "colorbar": {
                            "outlinewidth": 0,
                            "ticks": ""
                          }
                        },
                        "type": "scatter3d"
                      }
                    ],
                    "scattercarpet": [
                      {
                        "marker": {
                          "colorbar": {
                            "outlinewidth": 0,
                            "ticks": ""
                          }
                        },
                        "type": "scattercarpet"
                      }
                    ],
                    "scattergeo": [
                      {
                        "marker": {
                          "colorbar": {
                            "outlinewidth": 0,
                            "ticks": ""
                          }
                        },
                        "type": "scattergeo"
                      }
                    ],
                    "scattergl": [
                      {
                        "marker": {
                          "colorbar": {
                            "outlinewidth": 0,
                            "ticks": ""
                          }
                        },
                        "type": "scattergl"
                      }
                    ],
                    "scattermapbox": [
                      {
                        "marker": {
                          "colorbar": {
                            "outlinewidth": 0,
                            "ticks": ""
                          }
                        },
                        "type": "scattermapbox"
                      }
                    ],
                    "scatterpolar": [
                      {
                        "marker": {
                          "colorbar": {
                            "outlinewidth": 0,
                            "ticks": ""
                          }
                        },
                        "type": "scatterpolar"
                      }
                    ],
                    "scatterpolargl": [
                      {
                        "marker": {
                          "colorbar": {
                            "outlinewidth": 0,
                            "ticks": ""
                          }
                        },
                        "type": "scatterpolargl"
                      }
                    ],
                    "scatterternary": [
                      {
                        "marker": {
                          "colorbar": {
                            "outlinewidth": 0,
                            "ticks": ""
                          }
                        },
                        "type": "scatterternary"
                      }
                    ],
                    "surface": [
                      {
                        "colorbar": {
                          "outlinewidth": 0,
                          "ticks": ""
                        },
                        "colorscale": [
                          [
                            0,
                            "#0d0887"
                          ],
                          [
                            0.1111111111111111,
                            "#46039f"
                          ],
                          [
                            0.2222222222222222,
                            "#7201a8"
                          ],
                          [
                            0.3333333333333333,
                            "#9c179e"
                          ],
                          [
                            0.4444444444444444,
                            "#bd3786"
                          ],
                          [
                            0.5555555555555556,
                            "#d8576b"
                          ],
                          [
                            0.6666666666666666,
                            "#ed7953"
                          ],
                          [
                            0.7777777777777778,
                            "#fb9f3a"
                          ],
                          [
                            0.8888888888888888,
                            "#fdca26"
                          ],
                          [
                            1,
                            "#f0f921"
                          ]
                        ],
                        "type": "surface"
                      }
                    ],
                    "table": [
                      {
                        "cells": {
                          "fill": {
                            "color": "#EBF0F8"
                          },
                          "line": {
                            "color": "white"
                          }
                        },
                        "header": {
                          "fill": {
                            "color": "#C8D4E3"
                          },
                          "line": {
                            "color": "white"
                          }
                        },
                        "type": "table"
                      }
                    ]
                  },
                  "layout": {
                    "annotationdefaults": {
                      "arrowcolor": "#2a3f5f",
                      "arrowhead": 0,
                      "arrowwidth": 1
                    },
                    "autotypenumbers": "strict",
                    "coloraxis": {
                      "colorbar": {
                        "outlinewidth": 0,
                        "ticks": ""
                      }
                    },
                    "colorscale": {
                      "diverging": [
                        [
                          0,
                          "#8e0152"
                        ],
                        [
                          0.1,
                          "#c51b7d"
                        ],
                        [
                          0.2,
                          "#de77ae"
                        ],
                        [
                          0.3,
                          "#f1b6da"
                        ],
                        [
                          0.4,
                          "#fde0ef"
                        ],
                        [
                          0.5,
                          "#f7f7f7"
                        ],
                        [
                          0.6,
                          "#e6f5d0"
                        ],
                        [
                          0.7,
                          "#b8e186"
                        ],
                        [
                          0.8,
                          "#7fbc41"
                        ],
                        [
                          0.9,
                          "#4d9221"
                        ],
                        [
                          1,
                          "#276419"
                        ]
                      ],
                      "sequential": [
                        [
                          0,
                          "#0d0887"
                        ],
                        [
                          0.1111111111111111,
                          "#46039f"
                        ],
                        [
                          0.2222222222222222,
                          "#7201a8"
                        ],
                        [
                          0.3333333333333333,
                          "#9c179e"
                        ],
                        [
                          0.4444444444444444,
                          "#bd3786"
                        ],
                        [
                          0.5555555555555556,
                          "#d8576b"
                        ],
                        [
                          0.6666666666666666,
                          "#ed7953"
                        ],
                        [
                          0.7777777777777778,
                          "#fb9f3a"
                        ],
                        [
                          0.8888888888888888,
                          "#fdca26"
                        ],
                        [
                          1,
                          "#f0f921"
                        ]
                      ],
                      "sequentialminus": [
                        [
                          0,
                          "#0d0887"
                        ],
                        [
                          0.1111111111111111,
                          "#46039f"
                        ],
                        [
                          0.2222222222222222,
                          "#7201a8"
                        ],
                        [
                          0.3333333333333333,
                          "#9c179e"
                        ],
                        [
                          0.4444444444444444,
                          "#bd3786"
                        ],
                        [
                          0.5555555555555556,
                          "#d8576b"
                        ],
                        [
                          0.6666666666666666,
                          "#ed7953"
                        ],
                        [
                          0.7777777777777778,
                          "#fb9f3a"
                        ],
                        [
                          0.8888888888888888,
                          "#fdca26"
                        ],
                        [
                          1,
                          "#f0f921"
                        ]
                      ]
                    },
                    "colorway": [
                      "#636efa",
                      "#EF553B",
                      "#00cc96",
                      "#ab63fa",
                      "#FFA15A",
                      "#19d3f3",
                      "#FF6692",
                      "#B6E880",
                      "#FF97FF",
                      "#FECB52"
                    ],
                    "font": {
                      "color": "#2a3f5f"
                    },
                    "geo": {
                      "bgcolor": "white",
                      "lakecolor": "white",
                      "landcolor": "#E5ECF6",
                      "showlakes": true,
                      "showland": true,
                      "subunitcolor": "white"
                    },
                    "hoverlabel": {
                      "align": "left"
                    },
                    "hovermode": "closest",
                    "mapbox": {
                      "style": "light"
                    },
                    "paper_bgcolor": "white",
                    "plot_bgcolor": "#E5ECF6",
                    "polar": {
                      "angularaxis": {
                        "gridcolor": "white",
                        "linecolor": "white",
                        "ticks": ""
                      },
                      "bgcolor": "#E5ECF6",
                      "radialaxis": {
                        "gridcolor": "white",
                        "linecolor": "white",
                        "ticks": ""
                      }
                    },
                    "scene": {
                      "xaxis": {
                        "backgroundcolor": "#E5ECF6",
                        "gridcolor": "white",
                        "gridwidth": 2,
                        "linecolor": "white",
                        "showbackground": true,
                        "ticks": "",
                        "zerolinecolor": "white"
                      },
                      "yaxis": {
                        "backgroundcolor": "#E5ECF6",
                        "gridcolor": "white",
                        "gridwidth": 2,
                        "linecolor": "white",
                        "showbackground": true,
                        "ticks": "",
                        "zerolinecolor": "white"
                      },
                      "zaxis": {
                        "backgroundcolor": "#E5ECF6",
                        "gridcolor": "white",
                        "gridwidth": 2,
                        "linecolor": "white",
                        "showbackground": true,
                        "ticks": "",
                        "zerolinecolor": "white"
                      }
                    },
                    "shapedefaults": {
                      "line": {
                        "color": "#2a3f5f"
                      }
                    },
                    "ternary": {
                      "aaxis": {
                        "gridcolor": "white",
                        "linecolor": "white",
                        "ticks": ""
                      },
                      "baxis": {
                        "gridcolor": "white",
                        "linecolor": "white",
                        "ticks": ""
                      },
                      "bgcolor": "#E5ECF6",
                      "caxis": {
                        "gridcolor": "white",
                        "linecolor": "white",
                        "ticks": ""
                      }
                    },
                    "title": {
                      "x": 0.05
                    },
                    "xaxis": {
                      "automargin": true,
                      "gridcolor": "white",
                      "linecolor": "white",
                      "ticks": "",
                      "title": {
                        "standoff": 15
                      },
                      "zerolinecolor": "white",
                      "zerolinewidth": 2
                    },
                    "yaxis": {
                      "automargin": true,
                      "gridcolor": "white",
                      "linecolor": "white",
                      "ticks": "",
                      "title": {
                        "standoff": 15
                      },
                      "zerolinecolor": "white",
                      "zerolinewidth": 2
                    }
                  }
                },
                "title": {
                  "text": "Report on Our example project"
                }
              }
            }
          },
          "metadata": {},
          "output_type": "display_data"
        }
      ],
      "source": [
        " # We can slice the scorecard to only include the metrics we want to display\n",
        "scorecard_rolling[['rmse', 'mse']].generate_report('direct_one_subplot')"
      ]
    },
    {
      "cell_type": "code",
      "execution_count": null,
      "metadata": {},
      "outputs": [],
      "source": [
        "scorecard_rolling.generate_report(['direct_save', 'pdf'])"
      ]
    },
    {
      "cell_type": "code",
      "execution_count": null,
      "metadata": {},
      "outputs": [],
      "source": [
        "# scorecard_rolling.generate_report('interactive')"
      ]
    }
  ],
  "metadata": {
    "kernelspec": {
      "display_name": "krisitest",
      "language": "python",
      "name": "python3"
    },
    "language_info": {
      "codemirror_mode": {
        "name": "ipython",
        "version": 3
      },
      "file_extension": ".py",
      "mimetype": "text/x-python",
      "name": "python",
      "nbconvert_exporter": "python",
      "pygments_lexer": "ipython3",
      "version": "3.10.8"
    },
    "orig_nbformat": 4,
    "vscode": {
      "interpreter": {
        "hash": "681962a5ad02373fe6ace3c9a12cb4fcf99f6a43b070388c677260f5a10dc84e"
      }
    }
  },
  "nbformat": 4,
  "nbformat_minor": 2
}
