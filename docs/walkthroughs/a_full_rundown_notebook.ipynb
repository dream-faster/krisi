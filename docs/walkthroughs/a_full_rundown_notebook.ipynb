{
  "cells": [
    {
      "attachments": {},
      "cell_type": "markdown",
      "metadata": {},
      "source": [
        "# `Krisi` Quick Intro Notebook\n",
        "---\n",
        "Welcome to Krisi! This notebook helps you get onboard with the core functionality of `Krisi`.\n",
        "\n",
        "By the end you will be able to:\n",
        "* evaluate your Time-Series predictions, \n",
        "* save the results and \n",
        "* generate a report.\n",
        "* comparing multiple scorecards.\n",
        "\n",
        "---\n",
        "\n",
        "## Evaluating the results of a single ScoreCard\n",
        "### First, let's import the needed libraries:"
      ]
    },
    {
      "cell_type": "code",
      "execution_count": 1,
      "metadata": {},
      "outputs": [],
      "source": [
        "import numpy as np\n",
        "from krisi import score"
      ]
    },
    {
      "attachments": {},
      "cell_type": "markdown",
      "metadata": {},
      "source": [
        "### Generate normally distributed synthetic data for demonstration purposes"
      ]
    },
    {
      "cell_type": "code",
      "execution_count": 2,
      "metadata": {},
      "outputs": [],
      "source": [
        "y=np.random.normal(0, 0.1, 1000) # Targets\n",
        "predictions=np.random.normal(0, 0.1, 1000) # Artifical predictions"
      ]
    },
    {
      "attachments": {},
      "cell_type": "markdown",
      "metadata": {},
      "source": [
        "### Use the `score` helper function to evaluate your results\n",
        "\n",
        "`score` simply wraps `ScoreCard` initalization and `ScoreCard.evaluate()` ."
      ]
    },
    {
      "cell_type": "code",
      "execution_count": 3,
      "metadata": {},
      "outputs": [],
      "source": [
        "scorecard = score(y, predictions)"
      ]
    },
    {
      "attachments": {},
      "cell_type": "markdown",
      "metadata": {},
      "source": [
        "The ScoreCard object is the main engine of `krisi`. It stores the `targets` and `predictions`, the metrics that we have specified (default metrics and custom metrics) and useful *optional* metadata, such as `model_name`, `dataset_description`, etc.\n",
        "\n",
        "Once we have the ScoreCard evaluated, we can generate various reports with it."
      ]
    },
    {
      "cell_type": "code",
      "execution_count": 4,
      "metadata": {},
      "outputs": [
        {
          "data": {
            "text/html": [
              "<div>\n",
              "<style scoped>\n",
              "    .dataframe tbody tr th:only-of-type {\n",
              "        vertical-align: middle;\n",
              "    }\n",
              "\n",
              "    .dataframe tbody tr th {\n",
              "        vertical-align: top;\n",
              "    }\n",
              "\n",
              "    .dataframe thead th {\n",
              "        text-align: right;\n",
              "    }\n",
              "</style>\n",
              "<table border=\"1\" class=\"dataframe\">\n",
              "  <thead>\n",
              "    <tr style=\"text-align: right;\">\n",
              "      <th></th>\n",
              "      <th>Model_20230505-140606e39e6f5f</th>\n",
              "    </tr>\n",
              "  </thead>\n",
              "  <tbody>\n",
              "    <tr>\n",
              "      <th>Mean Absolute Error</th>\n",
              "      <td>0.110018</td>\n",
              "    </tr>\n",
              "    <tr>\n",
              "      <th>Mean Absolute Percentage Error</th>\n",
              "      <td>3.976101</td>\n",
              "    </tr>\n",
              "    <tr>\n",
              "      <th>Symmetric Mean Absolute Percentage Error</th>\n",
              "      <td>0.705801</td>\n",
              "    </tr>\n",
              "    <tr>\n",
              "      <th>Mean Squared Error</th>\n",
              "      <td>0.019441</td>\n",
              "    </tr>\n",
              "    <tr>\n",
              "      <th>Root Mean Squared Error</th>\n",
              "      <td>0.139431</td>\n",
              "    </tr>\n",
              "    <tr>\n",
              "      <th>R-squared</th>\n",
              "      <td>-1.011684</td>\n",
              "    </tr>\n",
              "    <tr>\n",
              "      <th>Mean of the Residuals</th>\n",
              "      <td>0.002267</td>\n",
              "    </tr>\n",
              "    <tr>\n",
              "      <th>Standard Deviation of the Residuals</th>\n",
              "      <td>0.139482</td>\n",
              "    </tr>\n",
              "  </tbody>\n",
              "</table>\n",
              "</div>"
            ],
            "text/plain": [
              "                                          Model_20230505-140606e39e6f5f\n",
              "                     Mean Absolute Error                       0.110018\n",
              "          Mean Absolute Percentage Error                       3.976101\n",
              "Symmetric Mean Absolute Percentage Error                       0.705801\n",
              "                      Mean Squared Error                       0.019441\n",
              "                 Root Mean Squared Error                       0.139431\n",
              "                               R-squared                      -1.011684\n",
              "                   Mean of the Residuals                       0.002267\n",
              "     Standard Deviation of the Residuals                       0.139482"
            ]
          },
          "metadata": {},
          "output_type": "display_data"
        }
      ],
      "source": [
        "''' Printing a minimal result by passing in `minimal` '''\n",
        "scorecard.print('minimal')"
      ]
    },
    {
      "cell_type": "code",
      "execution_count": 5,
      "metadata": {},
      "outputs": [
        {
          "data": {
            "text/html": [
              "<pre style=\"white-space:pre;overflow-x:auto;line-height:normal;font-family:Menlo,'DejaVu Sans Mono',consolas,'Courier New',monospace\">┏━━━━━━━ Result of Model_20230505-140606e39e6f5f on Dataset_20230505-140606b89db029 tested on outofsample ━━━━━━━━┓\n",
              "┃                                                                                                                 ┃\n",
              "┃ <span style=\"font-style: italic\">                                       Targets and Predictions Analysis                                        </span> ┃\n",
              "┃ ╭────────────────────┬──────────────────────────────────────────────────────────┬──────────────┬──────────────╮ ┃\n",
              "┃ │<span style=\"font-weight: bold\">        Series Type </span>│<span style=\"font-weight: bold\"> Histogram                                                </span>│<span style=\"font-weight: bold\">        Types </span>│<span style=\"font-weight: bold\">     Indicies </span>│ ┃\n",
              "┃ ├────────────────────┼──────────────────────────────────────────────────────────┼──────────────┼──────────────┤ ┃\n",
              "┃ │<span style=\"color: #008080; text-decoration-color: #008080\">            Targets </span>│<span style=\"color: #008080; text-decoration-color: #008080\"> </span><span style=\"color: #008080; text-decoration-color: #008080; background-color: #000000\">    </span><span style=\"color: #808000; text-decoration-color: #808000; background-color: #000000\">┌──────────────────────────────────────────────────┐</span><span style=\"color: #008080; text-decoration-color: #008080\"> </span>│<span style=\"color: #008080; text-decoration-color: #008080\">      NaNs: 0 </span>│<span style=\"color: #008080; text-decoration-color: #008080\">     Start: 0 </span>│ ┃\n",
              "┃ │<span style=\"color: #008080; text-decoration-color: #008080\">                    </span>│<span style=\"color: #008080; text-decoration-color: #008080\"> </span><span style=\"color: #808000; text-decoration-color: #808000; background-color: #000000\">70.0┤</span><span style=\"color: #008080; text-decoration-color: #008080; background-color: #000000\">                           </span><span style=\"color: #0000ff; text-decoration-color: #0000ff; background-color: #000000\">██</span><span style=\"color: #008080; text-decoration-color: #008080; background-color: #000000\">                     </span><span style=\"color: #808000; text-decoration-color: #808000; background-color: #000000\">│</span><span style=\"color: #008080; text-decoration-color: #008080\"> </span>│<span style=\"color: #008080; text-decoration-color: #008080\">       dtype: </span>│<span style=\"color: #008080; text-decoration-color: #008080\">     End: 999 </span>│ ┃\n",
              "┃ │<span style=\"color: #008080; text-decoration-color: #008080\">                    </span>│<span style=\"color: #008080; text-decoration-color: #008080\"> </span><span style=\"color: #808000; text-decoration-color: #808000; background-color: #000000\">58.3┤</span><span style=\"color: #008080; text-decoration-color: #008080; background-color: #000000\">                      </span><span style=\"color: #0000ff; text-decoration-color: #0000ff; background-color: #000000\">███████████</span><span style=\"color: #008080; text-decoration-color: #008080; background-color: #000000\">                 </span><span style=\"color: #808000; text-decoration-color: #808000; background-color: #000000\">│</span><span style=\"color: #008080; text-decoration-color: #008080\"> </span>│<span style=\"color: #008080; text-decoration-color: #008080\">      float64 </span>│<span style=\"color: #008080; text-decoration-color: #008080\">              </span>│ ┃\n",
              "┃ │<span style=\"color: #008080; text-decoration-color: #008080\">                    </span>│<span style=\"color: #008080; text-decoration-color: #008080\"> </span><span style=\"color: #808000; text-decoration-color: #808000; background-color: #000000\">46.7┤</span><span style=\"color: #008080; text-decoration-color: #008080; background-color: #000000\">                  </span><span style=\"color: #0000ff; text-decoration-color: #0000ff; background-color: #000000\">██</span><span style=\"color: #008080; text-decoration-color: #008080; background-color: #000000\"> </span><span style=\"color: #0000ff; text-decoration-color: #0000ff; background-color: #000000\">██████████████</span><span style=\"color: #008080; text-decoration-color: #008080; background-color: #000000\">               </span><span style=\"color: #808000; text-decoration-color: #808000; background-color: #000000\">│</span><span style=\"color: #008080; text-decoration-color: #008080\"> </span>│<span style=\"color: #008080; text-decoration-color: #008080\">              </span>│<span style=\"color: #008080; text-decoration-color: #008080\">              </span>│ ┃\n",
              "┃ │<span style=\"color: #008080; text-decoration-color: #008080\">                    </span>│<span style=\"color: #008080; text-decoration-color: #008080\"> </span><span style=\"color: #808000; text-decoration-color: #808000; background-color: #000000\">35.0┤</span><span style=\"color: #008080; text-decoration-color: #008080; background-color: #000000\">                  </span><span style=\"color: #0000ff; text-decoration-color: #0000ff; background-color: #000000\">████████████████████</span><span style=\"color: #008080; text-decoration-color: #008080; background-color: #000000\">            </span><span style=\"color: #808000; text-decoration-color: #808000; background-color: #000000\">│</span><span style=\"color: #008080; text-decoration-color: #008080\"> </span>│<span style=\"color: #008080; text-decoration-color: #008080\">              </span>│<span style=\"color: #008080; text-decoration-color: #008080\">              </span>│ ┃\n",
              "┃ │<span style=\"color: #008080; text-decoration-color: #008080\">                    </span>│<span style=\"color: #008080; text-decoration-color: #008080\"> </span><span style=\"color: #808000; text-decoration-color: #808000; background-color: #000000\">23.3┤</span><span style=\"color: #008080; text-decoration-color: #008080; background-color: #000000\">               </span><span style=\"color: #0000ff; text-decoration-color: #0000ff; background-color: #000000\">██████████████████████████</span><span style=\"color: #008080; text-decoration-color: #008080; background-color: #000000\">         </span><span style=\"color: #808000; text-decoration-color: #808000; background-color: #000000\">│</span><span style=\"color: #008080; text-decoration-color: #008080\"> </span>│<span style=\"color: #008080; text-decoration-color: #008080\">              </span>│<span style=\"color: #008080; text-decoration-color: #008080\">              </span>│ ┃\n",
              "┃ │<span style=\"color: #008080; text-decoration-color: #008080\">                    </span>│<span style=\"color: #008080; text-decoration-color: #008080\"> </span><span style=\"color: #808000; text-decoration-color: #808000; background-color: #000000\">11.7┤</span><span style=\"color: #008080; text-decoration-color: #008080; background-color: #000000\">           </span><span style=\"color: #0000ff; text-decoration-color: #0000ff; background-color: #000000\">███████████████████████████████████</span><span style=\"color: #008080; text-decoration-color: #008080; background-color: #000000\">    </span><span style=\"color: #808000; text-decoration-color: #808000; background-color: #000000\">│</span><span style=\"color: #008080; text-decoration-color: #008080\"> </span>│<span style=\"color: #008080; text-decoration-color: #008080\">              </span>│<span style=\"color: #008080; text-decoration-color: #008080\">              </span>│ ┃\n",
              "┃ │<span style=\"color: #008080; text-decoration-color: #008080\">                    </span>│<span style=\"color: #008080; text-decoration-color: #008080\"> </span><span style=\"color: #808000; text-decoration-color: #808000; background-color: #000000\"> 0.0┤</span><span style=\"color: #0000ff; text-decoration-color: #0000ff; background-color: #000000\">█    █████████████████████████████████████████████</span><span style=\"color: #808000; text-decoration-color: #808000; background-color: #000000\">│</span><span style=\"color: #008080; text-decoration-color: #008080\"> </span>│<span style=\"color: #008080; text-decoration-color: #008080\">              </span>│<span style=\"color: #008080; text-decoration-color: #008080\">              </span>│ ┃\n",
              "┃ │<span style=\"color: #008080; text-decoration-color: #008080\">                    </span>│<span style=\"color: #008080; text-decoration-color: #008080\"> </span><span style=\"color: #008080; text-decoration-color: #008080; background-color: #000000\">    </span><span style=\"color: #808000; text-decoration-color: #808000; background-color: #000000\">└┬───────────┬────────────┬───────────┬───────────┬┘</span><span style=\"color: #008080; text-decoration-color: #008080\"> </span>│<span style=\"color: #008080; text-decoration-color: #008080\">              </span>│<span style=\"color: #008080; text-decoration-color: #008080\">              </span>│ ┃\n",
              "┃ │<span style=\"color: #008080; text-decoration-color: #008080\">                    </span>│<span style=\"color: #008080; text-decoration-color: #008080\"> </span><span style=\"color: #008080; text-decoration-color: #008080; background-color: #000000\">   </span><span style=\"color: #808000; text-decoration-color: #808000; background-color: #000000\">-0.35</span><span style=\"color: #008080; text-decoration-color: #008080; background-color: #000000\">       </span><span style=\"color: #808000; text-decoration-color: #808000; background-color: #000000\">-0.19</span><span style=\"color: #008080; text-decoration-color: #008080; background-color: #000000\">        </span><span style=\"color: #808000; text-decoration-color: #808000; background-color: #000000\">-0.03</span><span style=\"color: #008080; text-decoration-color: #008080; background-color: #000000\">       </span><span style=\"color: #808000; text-decoration-color: #808000; background-color: #000000\">0.13</span><span style=\"color: #008080; text-decoration-color: #008080; background-color: #000000\">       </span><span style=\"color: #808000; text-decoration-color: #808000; background-color: #000000\">0.29</span><span style=\"color: #008080; text-decoration-color: #008080; background-color: #000000\"> </span><span style=\"color: #008080; text-decoration-color: #008080\"> </span>│<span style=\"color: #008080; text-decoration-color: #008080\">              </span>│<span style=\"color: #008080; text-decoration-color: #008080\">              </span>│ ┃\n",
              "┃ ├────────────────────┼──────────────────────────────────────────────────────────┼──────────────┼──────────────┤ ┃\n",
              "┃ │<span style=\"color: #008080; text-decoration-color: #008080\">        Predictions </span>│<span style=\"color: #008080; text-decoration-color: #008080\"> </span><span style=\"color: #008080; text-decoration-color: #008080; background-color: #000000\">    </span><span style=\"color: #808000; text-decoration-color: #808000; background-color: #000000\">┌──────────────────────────────────────────────────┐</span><span style=\"color: #008080; text-decoration-color: #008080\"> </span>│<span style=\"color: #008080; text-decoration-color: #008080\">      NaNs: 0 </span>│<span style=\"color: #008080; text-decoration-color: #008080\">     Start: 0 </span>│ ┃\n",
              "┃ │<span style=\"color: #008080; text-decoration-color: #008080\">                    </span>│<span style=\"color: #008080; text-decoration-color: #008080\"> </span><span style=\"color: #808000; text-decoration-color: #808000; background-color: #000000\">80.0┤</span><span style=\"color: #008080; text-decoration-color: #008080; background-color: #000000\">                          </span><span style=\"color: #0000ff; text-decoration-color: #0000ff; background-color: #000000\">██</span><span style=\"color: #008080; text-decoration-color: #008080; background-color: #000000\">                      </span><span style=\"color: #808000; text-decoration-color: #808000; background-color: #000000\">│</span><span style=\"color: #008080; text-decoration-color: #008080\"> </span>│<span style=\"color: #008080; text-decoration-color: #008080\">       dtype: </span>│<span style=\"color: #008080; text-decoration-color: #008080\">     End: 999 </span>│ ┃\n",
              "┃ │<span style=\"color: #008080; text-decoration-color: #008080\">                    </span>│<span style=\"color: #008080; text-decoration-color: #008080\"> </span><span style=\"color: #808000; text-decoration-color: #808000; background-color: #000000\">66.7┤</span><span style=\"color: #008080; text-decoration-color: #008080; background-color: #000000\">                          </span><span style=\"color: #0000ff; text-decoration-color: #0000ff; background-color: #000000\">████</span><span style=\"color: #008080; text-decoration-color: #008080; background-color: #000000\">  </span><span style=\"color: #0000ff; text-decoration-color: #0000ff; background-color: #000000\">██</span><span style=\"color: #008080; text-decoration-color: #008080; background-color: #000000\">                </span><span style=\"color: #808000; text-decoration-color: #808000; background-color: #000000\">│</span><span style=\"color: #008080; text-decoration-color: #008080\"> </span>│<span style=\"color: #008080; text-decoration-color: #008080\">      float64 </span>│<span style=\"color: #008080; text-decoration-color: #008080\">              </span>│ ┃\n",
              "┃ │<span style=\"color: #008080; text-decoration-color: #008080\">                    </span>│<span style=\"color: #008080; text-decoration-color: #008080\"> </span><span style=\"color: #808000; text-decoration-color: #808000; background-color: #000000\">53.3┤</span><span style=\"color: #008080; text-decoration-color: #008080; background-color: #000000\">                     </span><span style=\"color: #0000ff; text-decoration-color: #0000ff; background-color: #000000\">███████████████</span><span style=\"color: #008080; text-decoration-color: #008080; background-color: #000000\">              </span><span style=\"color: #808000; text-decoration-color: #808000; background-color: #000000\">│</span><span style=\"color: #008080; text-decoration-color: #008080\"> </span>│<span style=\"color: #008080; text-decoration-color: #008080\">              </span>│<span style=\"color: #008080; text-decoration-color: #008080\">              </span>│ ┃\n",
              "┃ │<span style=\"color: #008080; text-decoration-color: #008080\">                    </span>│<span style=\"color: #008080; text-decoration-color: #008080\"> </span><span style=\"color: #808000; text-decoration-color: #808000; background-color: #000000\">40.0┤</span><span style=\"color: #008080; text-decoration-color: #008080; background-color: #000000\">                     </span><span style=\"color: #0000ff; text-decoration-color: #0000ff; background-color: #000000\">█████████████████</span><span style=\"color: #008080; text-decoration-color: #008080; background-color: #000000\">            </span><span style=\"color: #808000; text-decoration-color: #808000; background-color: #000000\">│</span><span style=\"color: #008080; text-decoration-color: #008080\"> </span>│<span style=\"color: #008080; text-decoration-color: #008080\">              </span>│<span style=\"color: #008080; text-decoration-color: #008080\">              </span>│ ┃\n",
              "┃ │<span style=\"color: #008080; text-decoration-color: #008080\">                    </span>│<span style=\"color: #008080; text-decoration-color: #008080\"> </span><span style=\"color: #808000; text-decoration-color: #808000; background-color: #000000\">26.7┤</span><span style=\"color: #008080; text-decoration-color: #008080; background-color: #000000\">                 </span><span style=\"color: #0000ff; text-decoration-color: #0000ff; background-color: #000000\">███████████████████████</span><span style=\"color: #008080; text-decoration-color: #008080; background-color: #000000\">          </span><span style=\"color: #808000; text-decoration-color: #808000; background-color: #000000\">│</span><span style=\"color: #008080; text-decoration-color: #008080\"> </span>│<span style=\"color: #008080; text-decoration-color: #008080\">              </span>│<span style=\"color: #008080; text-decoration-color: #008080\">              </span>│ ┃\n",
              "┃ │<span style=\"color: #008080; text-decoration-color: #008080\">                    </span>│<span style=\"color: #008080; text-decoration-color: #008080\"> </span><span style=\"color: #808000; text-decoration-color: #808000; background-color: #000000\">13.3┤</span><span style=\"color: #008080; text-decoration-color: #008080; background-color: #000000\">            </span><span style=\"color: #0000ff; text-decoration-color: #0000ff; background-color: #000000\">██</span><span style=\"color: #008080; text-decoration-color: #008080; background-color: #000000\"> </span><span style=\"color: #0000ff; text-decoration-color: #0000ff; background-color: #000000\">██████████████████████████████</span><span style=\"color: #008080; text-decoration-color: #008080; background-color: #000000\">     </span><span style=\"color: #808000; text-decoration-color: #808000; background-color: #000000\">│</span><span style=\"color: #008080; text-decoration-color: #008080\"> </span>│<span style=\"color: #008080; text-decoration-color: #008080\">              </span>│<span style=\"color: #008080; text-decoration-color: #008080\">              </span>│ ┃\n",
              "┃ │<span style=\"color: #008080; text-decoration-color: #008080\">                    </span>│<span style=\"color: #008080; text-decoration-color: #008080\"> </span><span style=\"color: #808000; text-decoration-color: #808000; background-color: #000000\"> 0.0┤</span><span style=\"color: #0000ff; text-decoration-color: #0000ff; background-color: #000000\">█    █   █████████████████████████████████████████</span><span style=\"color: #808000; text-decoration-color: #808000; background-color: #000000\">│</span><span style=\"color: #008080; text-decoration-color: #008080\"> </span>│<span style=\"color: #008080; text-decoration-color: #008080\">              </span>│<span style=\"color: #008080; text-decoration-color: #008080\">              </span>│ ┃\n",
              "┃ │<span style=\"color: #008080; text-decoration-color: #008080\">                    </span>│<span style=\"color: #008080; text-decoration-color: #008080\"> </span><span style=\"color: #008080; text-decoration-color: #008080; background-color: #000000\">    </span><span style=\"color: #808000; text-decoration-color: #808000; background-color: #000000\">└┬───────────┬────────────┬───────────┬───────────┬┘</span><span style=\"color: #008080; text-decoration-color: #008080\"> </span>│<span style=\"color: #008080; text-decoration-color: #008080\">              </span>│<span style=\"color: #008080; text-decoration-color: #008080\">              </span>│ ┃\n",
              "┃ │<span style=\"color: #008080; text-decoration-color: #008080\">                    </span>│<span style=\"color: #008080; text-decoration-color: #008080\"> </span><span style=\"color: #008080; text-decoration-color: #008080; background-color: #000000\">   </span><span style=\"color: #808000; text-decoration-color: #808000; background-color: #000000\">-0.40</span><span style=\"color: #008080; text-decoration-color: #008080; background-color: #000000\">       </span><span style=\"color: #808000; text-decoration-color: #808000; background-color: #000000\">-0.23</span><span style=\"color: #008080; text-decoration-color: #008080; background-color: #000000\">        </span><span style=\"color: #808000; text-decoration-color: #808000; background-color: #000000\">-0.06</span><span style=\"color: #008080; text-decoration-color: #008080; background-color: #000000\">       </span><span style=\"color: #808000; text-decoration-color: #808000; background-color: #000000\">0.12</span><span style=\"color: #008080; text-decoration-color: #008080; background-color: #000000\">       </span><span style=\"color: #808000; text-decoration-color: #808000; background-color: #000000\">0.29</span><span style=\"color: #008080; text-decoration-color: #008080; background-color: #000000\"> </span><span style=\"color: #008080; text-decoration-color: #008080\"> </span>│<span style=\"color: #008080; text-decoration-color: #008080\">              </span>│<span style=\"color: #008080; text-decoration-color: #008080\">              </span>│ ┃\n",
              "┃ ╰────────────────────┴──────────────────────────────────────────────────────────┴──────────────┴──────────────╯ ┃\n",
              "┃ <span style=\"font-style: italic\">                                             Residual Diagnostics                                              </span> ┃\n",
              "┃ ╭─────────────────────────┬──────────────────────────────────────────────────────────┬────────────────────────╮ ┃\n",
              "┃ │<span style=\"font-weight: bold\">             Metric Name </span>│<span style=\"font-weight: bold\"> Result                                                   </span>│<span style=\"font-weight: bold\"> Parameters             </span>│ ┃\n",
              "┃ ├─────────────────────────┼──────────────────────────────────────────────────────────┼────────────────────────┤ ┃\n",
              "┃ │<span style=\"color: #008080; text-decoration-color: #008080\">   Residuals (residuals) </span>│<span style=\"color: #800080; text-decoration-color: #800080\"> </span><span style=\"color: #008080; text-decoration-color: #008080; font-weight: bold\">0</span><span style=\"color: #800080; text-decoration-color: #800080\">     </span><span style=\"color: #008080; text-decoration-color: #008080; font-weight: bold\">-0.175044</span><span style=\"color: #800080; text-decoration-color: #800080\">                                          </span>│<span style=\"color: #008000; text-decoration-color: #008000\"> </span><span style=\"color: #008000; text-decoration-color: #008000; font-weight: bold\">{}</span><span style=\"color: #008000; text-decoration-color: #008000\">                     </span>│ ┃\n",
              "┃ │<span style=\"color: #008080; text-decoration-color: #008080\">                         </span>│<span style=\"color: #800080; text-decoration-color: #800080\"> </span><span style=\"color: #008080; text-decoration-color: #008080; font-weight: bold\">1</span><span style=\"color: #800080; text-decoration-color: #800080\">     </span><span style=\"color: #008080; text-decoration-color: #008080; font-weight: bold\">-0.362140</span><span style=\"color: #800080; text-decoration-color: #800080\">                                          </span>│<span style=\"color: #008000; text-decoration-color: #008000\">                        </span>│ ┃\n",
              "┃ │<span style=\"color: #008080; text-decoration-color: #008080\">                         </span>│<span style=\"color: #800080; text-decoration-color: #800080\"> </span><span style=\"color: #008080; text-decoration-color: #008080; font-weight: bold\">2</span><span style=\"color: #800080; text-decoration-color: #800080\">     </span><span style=\"color: #008080; text-decoration-color: #008080; font-weight: bold\">-0.167163</span><span style=\"color: #800080; text-decoration-color: #800080\">                                          </span>│<span style=\"color: #008000; text-decoration-color: #008000\">                        </span>│ ┃\n",
              "┃ │<span style=\"color: #008080; text-decoration-color: #008080\">                         </span>│<span style=\"color: #800080; text-decoration-color: #800080\"> </span><span style=\"color: #008080; text-decoration-color: #008080; font-weight: bold\">3</span><span style=\"color: #800080; text-decoration-color: #800080\">     </span><span style=\"color: #008080; text-decoration-color: #008080; font-weight: bold\">-0.074994</span><span style=\"color: #800080; text-decoration-color: #800080\">                                          </span>│<span style=\"color: #008000; text-decoration-color: #008000\">                        </span>│ ┃\n",
              "┃ │<span style=\"color: #008080; text-decoration-color: #008080\">                         </span>│<span style=\"color: #800080; text-decoration-color: #800080\"> </span><span style=\"color: #008080; text-decoration-color: #008080; font-weight: bold\">4</span><span style=\"color: #800080; text-decoration-color: #800080\">     </span><span style=\"color: #008080; text-decoration-color: #008080; font-weight: bold\">-0.132199</span><span style=\"color: #800080; text-decoration-color: #800080\">                                          </span>│<span style=\"color: #008000; text-decoration-color: #008000\">                        </span>│ ┃\n",
              "┃ │<span style=\"color: #008080; text-decoration-color: #008080\">                         </span>│<span style=\"color: #800080; text-decoration-color: #800080\">          </span><span style=\"color: #808000; text-decoration-color: #808000\">...</span><span style=\"color: #800080; text-decoration-color: #800080\">                                             </span>│<span style=\"color: #008000; text-decoration-color: #008000\">                        </span>│ ┃\n",
              "┃ │<span style=\"color: #008080; text-decoration-color: #008080\">                         </span>│<span style=\"color: #800080; text-decoration-color: #800080\"> </span><span style=\"color: #008080; text-decoration-color: #008080; font-weight: bold\">995</span><span style=\"color: #800080; text-decoration-color: #800080\">   </span><span style=\"color: #008080; text-decoration-color: #008080; font-weight: bold\">-0.192342</span><span style=\"color: #800080; text-decoration-color: #800080\">                                          </span>│<span style=\"color: #008000; text-decoration-color: #008000\">                        </span>│ ┃\n",
              "┃ │<span style=\"color: #008080; text-decoration-color: #008080\">                         </span>│<span style=\"color: #800080; text-decoration-color: #800080\"> </span><span style=\"color: #008080; text-decoration-color: #008080; font-weight: bold\">996</span><span style=\"color: #800080; text-decoration-color: #800080\">    </span><span style=\"color: #008080; text-decoration-color: #008080; font-weight: bold\">0.026063</span><span style=\"color: #800080; text-decoration-color: #800080\">                                          </span>│<span style=\"color: #008000; text-decoration-color: #008000\">                        </span>│ ┃\n",
              "┃ │<span style=\"color: #008080; text-decoration-color: #008080\">                         </span>│<span style=\"color: #800080; text-decoration-color: #800080\"> </span><span style=\"color: #008080; text-decoration-color: #008080; font-weight: bold\">997</span><span style=\"color: #800080; text-decoration-color: #800080\">    </span><span style=\"color: #008080; text-decoration-color: #008080; font-weight: bold\">0.120279</span><span style=\"color: #800080; text-decoration-color: #800080\">                                          </span>│<span style=\"color: #008000; text-decoration-color: #008000\">                        </span>│ ┃\n",
              "┃ │<span style=\"color: #008080; text-decoration-color: #008080\">                         </span>│<span style=\"color: #800080; text-decoration-color: #800080\"> </span><span style=\"color: #008080; text-decoration-color: #008080; font-weight: bold\">998</span><span style=\"color: #800080; text-decoration-color: #800080\">   </span><span style=\"color: #008080; text-decoration-color: #008080; font-weight: bold\">-0.286211</span><span style=\"color: #800080; text-decoration-color: #800080\">                                          </span>│<span style=\"color: #008000; text-decoration-color: #008000\">                        </span>│ ┃\n",
              "┃ │<span style=\"color: #008080; text-decoration-color: #008080\">                         </span>│<span style=\"color: #800080; text-decoration-color: #800080\"> </span><span style=\"color: #008080; text-decoration-color: #008080; font-weight: bold\">999</span><span style=\"color: #800080; text-decoration-color: #800080\">   </span><span style=\"color: #008080; text-decoration-color: #008080; font-weight: bold\">-0.062442</span><span style=\"color: #800080; text-decoration-color: #800080\">                                          </span>│<span style=\"color: #008000; text-decoration-color: #008000\">                        </span>│ ┃\n",
              "┃ │<span style=\"color: #008080; text-decoration-color: #008080\">                         </span>│<span style=\"color: #800080; text-decoration-color: #800080\"> Length: </span><span style=\"color: #008080; text-decoration-color: #008080; font-weight: bold\">1000</span><span style=\"color: #800080; text-decoration-color: #800080\">, dtype: float64                             </span>│<span style=\"color: #008000; text-decoration-color: #008000\">                        </span>│ ┃\n",
              "┃ ├─────────────────────────┼──────────────────────────────────────────────────────────┼────────────────────────┤ ┃\n",
              "┃ │<span style=\"color: #008080; text-decoration-color: #008080\">    Ljung Box Statistics </span>│<span style=\"color: #800080; text-decoration-color: #800080\">       lb_stat  lb_pvalue                                 </span>│<span style=\"color: #008000; text-decoration-color: #008000\"> </span><span style=\"color: #008000; text-decoration-color: #008000; font-weight: bold\">{}</span><span style=\"color: #008000; text-decoration-color: #008000\">                     </span>│ ┃\n",
              "┃ │<span style=\"color: #008080; text-decoration-color: #008080\">  (ljung_box_statistics) </span>│<span style=\"color: #800080; text-decoration-color: #800080\"> </span><span style=\"color: #008080; text-decoration-color: #008080; font-weight: bold\">1</span><span style=\"color: #800080; text-decoration-color: #800080\">    </span><span style=\"color: #008080; text-decoration-color: #008080; font-weight: bold\">2.503303</span><span style=\"color: #800080; text-decoration-color: #800080\">   </span><span style=\"color: #008080; text-decoration-color: #008080; font-weight: bold\">0.113608</span><span style=\"color: #800080; text-decoration-color: #800080\">                                 </span>│<span style=\"color: #008000; text-decoration-color: #008000\">                        </span>│ ┃\n",
              "┃ │<span style=\"color: #008080; text-decoration-color: #008080\">                         </span>│<span style=\"color: #800080; text-decoration-color: #800080\"> </span><span style=\"color: #008080; text-decoration-color: #008080; font-weight: bold\">2</span><span style=\"color: #800080; text-decoration-color: #800080\">   </span><span style=\"color: #008080; text-decoration-color: #008080; font-weight: bold\">10.580516</span><span style=\"color: #800080; text-decoration-color: #800080\">   </span><span style=\"color: #008080; text-decoration-color: #008080; font-weight: bold\">0.005040</span><span style=\"color: #800080; text-decoration-color: #800080\">                                 </span>│<span style=\"color: #008000; text-decoration-color: #008000\">                        </span>│ ┃\n",
              "┃ │<span style=\"color: #008080; text-decoration-color: #008080\">                         </span>│<span style=\"color: #800080; text-decoration-color: #800080\"> </span><span style=\"color: #008080; text-decoration-color: #008080; font-weight: bold\">3</span><span style=\"color: #800080; text-decoration-color: #800080\">   </span><span style=\"color: #008080; text-decoration-color: #008080; font-weight: bold\">10.804751</span><span style=\"color: #800080; text-decoration-color: #800080\">   </span><span style=\"color: #008080; text-decoration-color: #008080; font-weight: bold\">0.012830</span><span style=\"color: #800080; text-decoration-color: #800080\">                                 </span>│<span style=\"color: #008000; text-decoration-color: #008000\">                        </span>│ ┃\n",
              "┃ │<span style=\"color: #008080; text-decoration-color: #008080\">                         </span>│<span style=\"color: #800080; text-decoration-color: #800080\"> </span><span style=\"color: #008080; text-decoration-color: #008080; font-weight: bold\">4</span><span style=\"color: #800080; text-decoration-color: #800080\">   </span><span style=\"color: #008080; text-decoration-color: #008080; font-weight: bold\">10.902936</span><span style=\"color: #800080; text-decoration-color: #800080\">   </span><span style=\"color: #008080; text-decoration-color: #008080; font-weight: bold\">0.027677</span><span style=\"color: #800080; text-decoration-color: #800080\">                                 </span>│<span style=\"color: #008000; text-decoration-color: #008000\">                        </span>│ ┃\n",
              "┃ │<span style=\"color: #008080; text-decoration-color: #008080\">                         </span>│<span style=\"color: #800080; text-decoration-color: #800080\"> </span><span style=\"color: #008080; text-decoration-color: #008080; font-weight: bold\">5</span><span style=\"color: #800080; text-decoration-color: #800080\">   </span><span style=\"color: #008080; text-decoration-color: #008080; font-weight: bold\">10.922538</span><span style=\"color: #800080; text-decoration-color: #800080\">   </span><span style=\"color: #008080; text-decoration-color: #008080; font-weight: bold\">0.052938</span><span style=\"color: #800080; text-decoration-color: #800080\">                                 </span>│<span style=\"color: #008000; text-decoration-color: #008000\">                        </span>│ ┃\n",
              "┃ │<span style=\"color: #008080; text-decoration-color: #008080\">                         </span>│<span style=\"color: #800080; text-decoration-color: #800080\"> </span><span style=\"color: #008080; text-decoration-color: #008080; font-weight: bold\">6</span><span style=\"color: #800080; text-decoration-color: #800080\">   </span><span style=\"color: #008080; text-decoration-color: #008080; font-weight: bold\">11.691806</span><span style=\"color: #800080; text-decoration-color: #800080\">   </span><span style=\"color: #008080; text-decoration-color: #008080; font-weight: bold\">0.069208</span><span style=\"color: #800080; text-decoration-color: #800080\">                                 </span>│<span style=\"color: #008000; text-decoration-color: #008000\">                        </span>│ ┃\n",
              "┃ │<span style=\"color: #008080; text-decoration-color: #008080\">                         </span>│<span style=\"color: #800080; text-decoration-color: #800080\"> </span><span style=\"color: #008080; text-decoration-color: #008080; font-weight: bold\">7</span><span style=\"color: #800080; text-decoration-color: #800080\">   </span><span style=\"color: #008080; text-decoration-color: #008080; font-weight: bold\">12.482598</span><span style=\"color: #800080; text-decoration-color: #800080\">   </span><span style=\"color: #008080; text-decoration-color: #008080; font-weight: bold\">0.085764</span><span style=\"color: #800080; text-decoration-color: #800080\">                                 </span>│<span style=\"color: #008000; text-decoration-color: #008000\">                        </span>│ ┃\n",
              "┃ │<span style=\"color: #008080; text-decoration-color: #008080\">                         </span>│<span style=\"color: #800080; text-decoration-color: #800080\"> </span><span style=\"color: #008080; text-decoration-color: #008080; font-weight: bold\">8</span><span style=\"color: #800080; text-decoration-color: #800080\">   </span><span style=\"color: #008080; text-decoration-color: #008080; font-weight: bold\">12.493186</span><span style=\"color: #800080; text-decoration-color: #800080\">   </span><span style=\"color: #008080; text-decoration-color: #008080; font-weight: bold\">0.130518</span><span style=\"color: #800080; text-decoration-color: #800080\">                                 </span>│<span style=\"color: #008000; text-decoration-color: #008000\">                        </span>│ ┃\n",
              "┃ │<span style=\"color: #008080; text-decoration-color: #008080\">                         </span>│<span style=\"color: #800080; text-decoration-color: #800080\"> </span><span style=\"color: #008080; text-decoration-color: #008080; font-weight: bold\">9</span><span style=\"color: #800080; text-decoration-color: #800080\">   </span><span style=\"color: #008080; text-decoration-color: #008080; font-weight: bold\">12.636844</span><span style=\"color: #800080; text-decoration-color: #800080\">   </span><span style=\"color: #008080; text-decoration-color: #008080; font-weight: bold\">0.179739</span><span style=\"color: #800080; text-decoration-color: #800080\">                                 </span>│<span style=\"color: #008000; text-decoration-color: #008000\">                        </span>│ ┃\n",
              "┃ │<span style=\"color: #008080; text-decoration-color: #008080\">                         </span>│<span style=\"color: #800080; text-decoration-color: #800080\"> </span><span style=\"color: #008080; text-decoration-color: #008080; font-weight: bold\">10</span><span style=\"color: #800080; text-decoration-color: #800080\">  </span><span style=\"color: #008080; text-decoration-color: #008080; font-weight: bold\">12.639565</span><span style=\"color: #800080; text-decoration-color: #800080\">   </span><span style=\"color: #008080; text-decoration-color: #008080; font-weight: bold\">0.244528</span><span style=\"color: #800080; text-decoration-color: #800080\">                                 </span>│<span style=\"color: #008000; text-decoration-color: #008000\">                        </span>│ ┃\n",
              "┃ ├─────────────────────────┼──────────────────────────────────────────────────────────┼────────────────────────┤ ┃\n",
              "┃ │<span style=\"color: #008080; text-decoration-color: #008080\">   Mean of the Residuals </span>│<span style=\"color: #800080; text-decoration-color: #800080\"> </span><span style=\"color: #008080; text-decoration-color: #008080; font-weight: bold\">0.002</span><span style=\"color: #800080; text-decoration-color: #800080\">                                                    </span>│<span style=\"color: #008000; text-decoration-color: #008000\"> </span><span style=\"color: #008000; text-decoration-color: #008000; font-weight: bold\">{}</span><span style=\"color: #008000; text-decoration-color: #008000\">                     </span>│ ┃\n",
              "┃ │<span style=\"color: #008080; text-decoration-color: #008080\">        (residuals_mean) </span>│<span style=\"color: #800080; text-decoration-color: #800080\">                                                          </span>│<span style=\"color: #008000; text-decoration-color: #008000\">                        </span>│ ┃\n",
              "┃ ├─────────────────────────┼──────────────────────────────────────────────────────────┼────────────────────────┤ ┃\n",
              "┃ │<span style=\"color: #008080; text-decoration-color: #008080\">   Standard Deviation of </span>│<span style=\"color: #800080; text-decoration-color: #800080\"> </span><span style=\"color: #008080; text-decoration-color: #008080; font-weight: bold\">0.139</span><span style=\"color: #800080; text-decoration-color: #800080\">                                                    </span>│<span style=\"color: #008000; text-decoration-color: #008000\"> </span><span style=\"color: #008000; text-decoration-color: #008000; font-weight: bold\">{}</span><span style=\"color: #008000; text-decoration-color: #008000\">                     </span>│ ┃\n",
              "┃ │<span style=\"color: #008080; text-decoration-color: #008080\">           the Residuals </span>│<span style=\"color: #800080; text-decoration-color: #800080\">                                                          </span>│<span style=\"color: #008000; text-decoration-color: #008000\">                        </span>│ ┃\n",
              "┃ │<span style=\"color: #008080; text-decoration-color: #008080\">         (residuals_std) </span>│<span style=\"color: #800080; text-decoration-color: #800080\">                                                          </span>│<span style=\"color: #008000; text-decoration-color: #008000\">                        </span>│ ┃\n",
              "┃ ╰─────────────────────────┴──────────────────────────────────────────────────────────┴────────────────────────╯ ┃\n",
              "┃ <span style=\"font-style: italic\">                                         Forecast Errors - Regression                                          </span> ┃\n",
              "┃ ╭─────────────────────────┬──────────────────────────────────────────────────────────┬────────────────────────╮ ┃\n",
              "┃ │<span style=\"color: #008080; text-decoration-color: #008080\">     Mean Absolute Error </span>│<span style=\"color: #800080; text-decoration-color: #800080\"> </span><span style=\"color: #008080; text-decoration-color: #008080; font-weight: bold\">0.11</span><span style=\"color: #800080; text-decoration-color: #800080\">                                                     </span>│<span style=\"color: #008000; text-decoration-color: #008000\"> </span><span style=\"color: #008000; text-decoration-color: #008000; font-weight: bold\">{}</span><span style=\"color: #008000; text-decoration-color: #008000\">                     </span>│ ┃\n",
              "┃ │<span style=\"color: #008080; text-decoration-color: #008080\">                   (mae) </span>│<span style=\"color: #800080; text-decoration-color: #800080\">                                                          </span>│<span style=\"color: #008000; text-decoration-color: #008000\">                        </span>│ ┃\n",
              "┃ ├─────────────────────────┼──────────────────────────────────────────────────────────┼────────────────────────┤ ┃\n",
              "┃ │<span style=\"color: #008080; text-decoration-color: #008080\">           Mean Absolute </span>│<span style=\"color: #800080; text-decoration-color: #800080\"> </span><span style=\"color: #008080; text-decoration-color: #008080; font-weight: bold\">3.976</span><span style=\"color: #800080; text-decoration-color: #800080\">                                                    </span>│<span style=\"color: #008000; text-decoration-color: #008000\"> </span><span style=\"color: #008000; text-decoration-color: #008000; font-weight: bold\">{}</span><span style=\"color: #008000; text-decoration-color: #008000\">                     </span>│ ┃\n",
              "┃ │<span style=\"color: #008080; text-decoration-color: #008080\"> Percentage Error (mape) </span>│<span style=\"color: #800080; text-decoration-color: #800080\">                                                          </span>│<span style=\"color: #008000; text-decoration-color: #008000\">                        </span>│ ┃\n",
              "┃ ├─────────────────────────┼──────────────────────────────────────────────────────────┼────────────────────────┤ ┃\n",
              "┃ │<span style=\"color: #008080; text-decoration-color: #008080\"> Symmetric Mean Absolute </span>│<span style=\"color: #800080; text-decoration-color: #800080\"> </span><span style=\"color: #008080; text-decoration-color: #008080; font-weight: bold\">0.706</span><span style=\"color: #800080; text-decoration-color: #800080\">                                                    </span>│<span style=\"color: #008000; text-decoration-color: #008000\"> </span><span style=\"color: #008000; text-decoration-color: #008000; font-weight: bold\">{}</span><span style=\"color: #008000; text-decoration-color: #008000\">                     </span>│ ┃\n",
              "┃ │<span style=\"color: #008080; text-decoration-color: #008080\">        Percentage Error </span>│<span style=\"color: #800080; text-decoration-color: #800080\">                                                          </span>│<span style=\"color: #008000; text-decoration-color: #008000\">                        </span>│ ┃\n",
              "┃ │<span style=\"color: #008080; text-decoration-color: #008080\">                 (smape) </span>│<span style=\"color: #800080; text-decoration-color: #800080\">                                                          </span>│<span style=\"color: #008000; text-decoration-color: #008000\">                        </span>│ ┃\n",
              "┃ ├─────────────────────────┼──────────────────────────────────────────────────────────┼────────────────────────┤ ┃\n",
              "┃ │<span style=\"color: #008080; text-decoration-color: #008080\">      Mean Squared Error </span>│<span style=\"color: #800080; text-decoration-color: #800080\"> </span><span style=\"color: #008080; text-decoration-color: #008080; font-weight: bold\">0.019</span><span style=\"color: #800080; text-decoration-color: #800080\">                                                    </span>│<span style=\"color: #008000; text-decoration-color: #008000\"> </span><span style=\"color: #008000; text-decoration-color: #008000; font-weight: bold\">{</span><span style=\"color: #008000; text-decoration-color: #008000\">'squared'</span><span style=\"color: #008000; text-decoration-color: #008000\">: </span><span style=\"color: #00ff00; text-decoration-color: #00ff00; font-style: italic\">True</span><span style=\"color: #008000; text-decoration-color: #008000; font-weight: bold\">}</span><span style=\"color: #008000; text-decoration-color: #008000\">      </span>│ ┃\n",
              "┃ │<span style=\"color: #008080; text-decoration-color: #008080\">                   (mse) </span>│<span style=\"color: #800080; text-decoration-color: #800080\">                                                          </span>│<span style=\"color: #008000; text-decoration-color: #008000\">                        </span>│ ┃\n",
              "┃ ├─────────────────────────┼──────────────────────────────────────────────────────────┼────────────────────────┤ ┃\n",
              "┃ │<span style=\"color: #008080; text-decoration-color: #008080\"> Root Mean Squared Error </span>│<span style=\"color: #800080; text-decoration-color: #800080\"> </span><span style=\"color: #008080; text-decoration-color: #008080; font-weight: bold\">0.139</span><span style=\"color: #800080; text-decoration-color: #800080\">                                                    </span>│<span style=\"color: #008000; text-decoration-color: #008000\"> </span><span style=\"color: #008000; text-decoration-color: #008000; font-weight: bold\">{</span><span style=\"color: #008000; text-decoration-color: #008000\">'squared'</span><span style=\"color: #008000; text-decoration-color: #008000\">: </span><span style=\"color: #ff0000; text-decoration-color: #ff0000; font-style: italic\">False</span><span style=\"color: #008000; text-decoration-color: #008000; font-weight: bold\">}</span><span style=\"color: #008000; text-decoration-color: #008000\">     </span>│ ┃\n",
              "┃ │<span style=\"color: #008080; text-decoration-color: #008080\">                  (rmse) </span>│<span style=\"color: #800080; text-decoration-color: #800080\">                                                          </span>│<span style=\"color: #008000; text-decoration-color: #008000\">                        </span>│ ┃\n",
              "┃ ├─────────────────────────┼──────────────────────────────────────────────────────────┼────────────────────────┤ ┃\n",
              "┃ │<span style=\"color: #008080; text-decoration-color: #008080\">   Root Mean Squared Log </span>│<span style=\"color: #800080; text-decoration-color: #800080\"> </span><span style=\"color: #008000; text-decoration-color: #008000\">'Mean Squared Logarithmic Error cannot be used when </span><span style=\"color: #800080; text-decoration-color: #800080\">     </span>│<span style=\"color: #008000; text-decoration-color: #008000\"> </span><span style=\"color: #008000; text-decoration-color: #008000; font-weight: bold\">{</span><span style=\"color: #008000; text-decoration-color: #008000\">'squared'</span><span style=\"color: #008000; text-decoration-color: #008000\">: </span><span style=\"color: #ff0000; text-decoration-color: #ff0000; font-style: italic\">False</span><span style=\"color: #008000; text-decoration-color: #008000; font-weight: bold\">}</span><span style=\"color: #008000; text-decoration-color: #008000\">     </span>│ ┃\n",
              "┃ │<span style=\"color: #008080; text-decoration-color: #008080\">           Error (rmsle) </span>│<span style=\"color: #800080; text-decoration-color: #800080\"> </span><span style=\"color: #008000; text-decoration-color: #008000\">targets contain negative values.'</span><span style=\"color: #800080; text-decoration-color: #800080\">                        </span>│<span style=\"color: #008000; text-decoration-color: #008000\">                        </span>│ ┃\n",
              "┃ ├─────────────────────────┼──────────────────────────────────────────────────────────┼────────────────────────┤ ┃\n",
              "┃ │<span style=\"color: #008080; text-decoration-color: #008080\">       R-squared (r_two) </span>│<span style=\"color: #800080; text-decoration-color: #800080\"> </span><span style=\"color: #008080; text-decoration-color: #008080; font-weight: bold\">-1.012</span><span style=\"color: #800080; text-decoration-color: #800080\">                                                   </span>│<span style=\"color: #008000; text-decoration-color: #008000\"> </span><span style=\"color: #008000; text-decoration-color: #008000; font-weight: bold\">{}</span><span style=\"color: #008000; text-decoration-color: #008000\">                     </span>│ ┃\n",
              "┃ ╰─────────────────────────┴──────────────────────────────────────────────────────────┴────────────────────────╯ ┃\n",
              "┃                                                                                                                 ┃\n",
              "┗━━━━━━━━━━━━━━━━━━━━━━━━━━━━━━━━━━━━━━━━━━━━━━━━━━━━━━━━━━━━━━━━━━━━━━━━━━━━━━━━━━━━━━━━━━━━━━━━━━━━━━━━━━━━━━━━━┛\n",
              "</pre>\n"
            ],
            "text/plain": [
              "┏━━━━━━━ Result of Model_20230505-140606e39e6f5f on Dataset_20230505-140606b89db029 tested on outofsample ━━━━━━━━┓\n",
              "┃                                                                                                                 ┃\n",
              "┃ \u001b[3m                                       Targets and Predictions Analysis                                        \u001b[0m ┃\n",
              "┃ ╭────────────────────┬──────────────────────────────────────────────────────────┬──────────────┬──────────────╮ ┃\n",
              "┃ │\u001b[1m \u001b[0m\u001b[1m       Series Type\u001b[0m\u001b[1m \u001b[0m│\u001b[1m \u001b[0m\u001b[1mHistogram                                               \u001b[0m\u001b[1m \u001b[0m│\u001b[1m \u001b[0m\u001b[1m       Types\u001b[0m\u001b[1m \u001b[0m│\u001b[1m \u001b[0m\u001b[1m    Indicies\u001b[0m\u001b[1m \u001b[0m│ ┃\n",
              "┃ ├────────────────────┼──────────────────────────────────────────────────────────┼──────────────┼──────────────┤ ┃\n",
              "┃ │\u001b[36m \u001b[0m\u001b[36m           Targets\u001b[0m\u001b[36m \u001b[0m│\u001b[36m \u001b[0m\u001b[36;40m    \u001b[0m\u001b[33;40m┌──────────────────────────────────────────────────┐\u001b[0m\u001b[36m \u001b[0m│\u001b[36m \u001b[0m\u001b[36m     NaNs: 0\u001b[0m\u001b[36m \u001b[0m│\u001b[36m \u001b[0m\u001b[36m    Start: 0\u001b[0m\u001b[36m \u001b[0m│ ┃\n",
              "┃ │\u001b[36m                    \u001b[0m│\u001b[36m \u001b[0m\u001b[33;40m70.0┤\u001b[0m\u001b[36;40m                           \u001b[0m\u001b[94;40m██\u001b[0m\u001b[36;40m                     \u001b[0m\u001b[33;40m│\u001b[0m\u001b[36m \u001b[0m│\u001b[36m \u001b[0m\u001b[36m      dtype:\u001b[0m\u001b[36m \u001b[0m│\u001b[36m \u001b[0m\u001b[36m    End: 999\u001b[0m\u001b[36m \u001b[0m│ ┃\n",
              "┃ │\u001b[36m                    \u001b[0m│\u001b[36m \u001b[0m\u001b[33;40m58.3┤\u001b[0m\u001b[36;40m                      \u001b[0m\u001b[94;40m███████████\u001b[0m\u001b[36;40m                 \u001b[0m\u001b[33;40m│\u001b[0m\u001b[36m \u001b[0m│\u001b[36m \u001b[0m\u001b[36m     float64\u001b[0m\u001b[36m \u001b[0m│\u001b[36m              \u001b[0m│ ┃\n",
              "┃ │\u001b[36m                    \u001b[0m│\u001b[36m \u001b[0m\u001b[33;40m46.7┤\u001b[0m\u001b[36;40m                  \u001b[0m\u001b[94;40m██\u001b[0m\u001b[36;40m \u001b[0m\u001b[94;40m██████████████\u001b[0m\u001b[36;40m               \u001b[0m\u001b[33;40m│\u001b[0m\u001b[36m \u001b[0m│\u001b[36m              \u001b[0m│\u001b[36m              \u001b[0m│ ┃\n",
              "┃ │\u001b[36m                    \u001b[0m│\u001b[36m \u001b[0m\u001b[33;40m35.0┤\u001b[0m\u001b[36;40m                  \u001b[0m\u001b[94;40m████████████████████\u001b[0m\u001b[36;40m            \u001b[0m\u001b[33;40m│\u001b[0m\u001b[36m \u001b[0m│\u001b[36m              \u001b[0m│\u001b[36m              \u001b[0m│ ┃\n",
              "┃ │\u001b[36m                    \u001b[0m│\u001b[36m \u001b[0m\u001b[33;40m23.3┤\u001b[0m\u001b[36;40m               \u001b[0m\u001b[94;40m██████████████████████████\u001b[0m\u001b[36;40m         \u001b[0m\u001b[33;40m│\u001b[0m\u001b[36m \u001b[0m│\u001b[36m              \u001b[0m│\u001b[36m              \u001b[0m│ ┃\n",
              "┃ │\u001b[36m                    \u001b[0m│\u001b[36m \u001b[0m\u001b[33;40m11.7┤\u001b[0m\u001b[36;40m           \u001b[0m\u001b[94;40m███████████████████████████████████\u001b[0m\u001b[36;40m    \u001b[0m\u001b[33;40m│\u001b[0m\u001b[36m \u001b[0m│\u001b[36m              \u001b[0m│\u001b[36m              \u001b[0m│ ┃\n",
              "┃ │\u001b[36m                    \u001b[0m│\u001b[36m \u001b[0m\u001b[33;40m 0.0┤\u001b[0m\u001b[94;40m█    █████████████████████████████████████████████\u001b[0m\u001b[33;40m│\u001b[0m\u001b[36m \u001b[0m│\u001b[36m              \u001b[0m│\u001b[36m              \u001b[0m│ ┃\n",
              "┃ │\u001b[36m                    \u001b[0m│\u001b[36m \u001b[0m\u001b[36;40m    \u001b[0m\u001b[33;40m└┬───────────┬────────────┬───────────┬───────────┬┘\u001b[0m\u001b[36m \u001b[0m│\u001b[36m              \u001b[0m│\u001b[36m              \u001b[0m│ ┃\n",
              "┃ │\u001b[36m                    \u001b[0m│\u001b[36m \u001b[0m\u001b[36;40m   \u001b[0m\u001b[33;40m-0.35\u001b[0m\u001b[36;40m       \u001b[0m\u001b[33;40m-0.19\u001b[0m\u001b[36;40m        \u001b[0m\u001b[33;40m-0.03\u001b[0m\u001b[36;40m       \u001b[0m\u001b[33;40m0.13\u001b[0m\u001b[36;40m       \u001b[0m\u001b[33;40m0.29\u001b[0m\u001b[36;40m \u001b[0m\u001b[36m \u001b[0m│\u001b[36m              \u001b[0m│\u001b[36m              \u001b[0m│ ┃\n",
              "┃ ├────────────────────┼──────────────────────────────────────────────────────────┼──────────────┼──────────────┤ ┃\n",
              "┃ │\u001b[36m \u001b[0m\u001b[36m       Predictions\u001b[0m\u001b[36m \u001b[0m│\u001b[36m \u001b[0m\u001b[36;40m    \u001b[0m\u001b[33;40m┌──────────────────────────────────────────────────┐\u001b[0m\u001b[36m \u001b[0m│\u001b[36m \u001b[0m\u001b[36m     NaNs: 0\u001b[0m\u001b[36m \u001b[0m│\u001b[36m \u001b[0m\u001b[36m    Start: 0\u001b[0m\u001b[36m \u001b[0m│ ┃\n",
              "┃ │\u001b[36m                    \u001b[0m│\u001b[36m \u001b[0m\u001b[33;40m80.0┤\u001b[0m\u001b[36;40m                          \u001b[0m\u001b[94;40m██\u001b[0m\u001b[36;40m                      \u001b[0m\u001b[33;40m│\u001b[0m\u001b[36m \u001b[0m│\u001b[36m \u001b[0m\u001b[36m      dtype:\u001b[0m\u001b[36m \u001b[0m│\u001b[36m \u001b[0m\u001b[36m    End: 999\u001b[0m\u001b[36m \u001b[0m│ ┃\n",
              "┃ │\u001b[36m                    \u001b[0m│\u001b[36m \u001b[0m\u001b[33;40m66.7┤\u001b[0m\u001b[36;40m                          \u001b[0m\u001b[94;40m████\u001b[0m\u001b[36;40m  \u001b[0m\u001b[94;40m██\u001b[0m\u001b[36;40m                \u001b[0m\u001b[33;40m│\u001b[0m\u001b[36m \u001b[0m│\u001b[36m \u001b[0m\u001b[36m     float64\u001b[0m\u001b[36m \u001b[0m│\u001b[36m              \u001b[0m│ ┃\n",
              "┃ │\u001b[36m                    \u001b[0m│\u001b[36m \u001b[0m\u001b[33;40m53.3┤\u001b[0m\u001b[36;40m                     \u001b[0m\u001b[94;40m███████████████\u001b[0m\u001b[36;40m              \u001b[0m\u001b[33;40m│\u001b[0m\u001b[36m \u001b[0m│\u001b[36m              \u001b[0m│\u001b[36m              \u001b[0m│ ┃\n",
              "┃ │\u001b[36m                    \u001b[0m│\u001b[36m \u001b[0m\u001b[33;40m40.0┤\u001b[0m\u001b[36;40m                     \u001b[0m\u001b[94;40m█████████████████\u001b[0m\u001b[36;40m            \u001b[0m\u001b[33;40m│\u001b[0m\u001b[36m \u001b[0m│\u001b[36m              \u001b[0m│\u001b[36m              \u001b[0m│ ┃\n",
              "┃ │\u001b[36m                    \u001b[0m│\u001b[36m \u001b[0m\u001b[33;40m26.7┤\u001b[0m\u001b[36;40m                 \u001b[0m\u001b[94;40m███████████████████████\u001b[0m\u001b[36;40m          \u001b[0m\u001b[33;40m│\u001b[0m\u001b[36m \u001b[0m│\u001b[36m              \u001b[0m│\u001b[36m              \u001b[0m│ ┃\n",
              "┃ │\u001b[36m                    \u001b[0m│\u001b[36m \u001b[0m\u001b[33;40m13.3┤\u001b[0m\u001b[36;40m            \u001b[0m\u001b[94;40m██\u001b[0m\u001b[36;40m \u001b[0m\u001b[94;40m██████████████████████████████\u001b[0m\u001b[36;40m     \u001b[0m\u001b[33;40m│\u001b[0m\u001b[36m \u001b[0m│\u001b[36m              \u001b[0m│\u001b[36m              \u001b[0m│ ┃\n",
              "┃ │\u001b[36m                    \u001b[0m│\u001b[36m \u001b[0m\u001b[33;40m 0.0┤\u001b[0m\u001b[94;40m█    █   █████████████████████████████████████████\u001b[0m\u001b[33;40m│\u001b[0m\u001b[36m \u001b[0m│\u001b[36m              \u001b[0m│\u001b[36m              \u001b[0m│ ┃\n",
              "┃ │\u001b[36m                    \u001b[0m│\u001b[36m \u001b[0m\u001b[36;40m    \u001b[0m\u001b[33;40m└┬───────────┬────────────┬───────────┬───────────┬┘\u001b[0m\u001b[36m \u001b[0m│\u001b[36m              \u001b[0m│\u001b[36m              \u001b[0m│ ┃\n",
              "┃ │\u001b[36m                    \u001b[0m│\u001b[36m \u001b[0m\u001b[36;40m   \u001b[0m\u001b[33;40m-0.40\u001b[0m\u001b[36;40m       \u001b[0m\u001b[33;40m-0.23\u001b[0m\u001b[36;40m        \u001b[0m\u001b[33;40m-0.06\u001b[0m\u001b[36;40m       \u001b[0m\u001b[33;40m0.12\u001b[0m\u001b[36;40m       \u001b[0m\u001b[33;40m0.29\u001b[0m\u001b[36;40m \u001b[0m\u001b[36m \u001b[0m│\u001b[36m              \u001b[0m│\u001b[36m              \u001b[0m│ ┃\n",
              "┃ ╰────────────────────┴──────────────────────────────────────────────────────────┴──────────────┴──────────────╯ ┃\n",
              "┃ \u001b[3m                                             Residual Diagnostics                                              \u001b[0m ┃\n",
              "┃ ╭─────────────────────────┬──────────────────────────────────────────────────────────┬────────────────────────╮ ┃\n",
              "┃ │\u001b[1m \u001b[0m\u001b[1m            Metric Name\u001b[0m\u001b[1m \u001b[0m│\u001b[1m \u001b[0m\u001b[1mResult                                                  \u001b[0m\u001b[1m \u001b[0m│\u001b[1m \u001b[0m\u001b[1mParameters            \u001b[0m\u001b[1m \u001b[0m│ ┃\n",
              "┃ ├─────────────────────────┼──────────────────────────────────────────────────────────┼────────────────────────┤ ┃\n",
              "┃ │\u001b[36m \u001b[0m\u001b[36m  Residuals (residuals)\u001b[0m\u001b[36m \u001b[0m│\u001b[35m \u001b[0m\u001b[1;36m0\u001b[0m\u001b[35m     \u001b[0m\u001b[1;36m-0.175044\u001b[0m\u001b[35m                                         \u001b[0m\u001b[35m \u001b[0m│\u001b[32m \u001b[0m\u001b[1;32m{\u001b[0m\u001b[1;32m}\u001b[0m\u001b[32m                    \u001b[0m\u001b[32m \u001b[0m│ ┃\n",
              "┃ │\u001b[36m                         \u001b[0m│\u001b[35m \u001b[0m\u001b[1;36m1\u001b[0m\u001b[35m     \u001b[0m\u001b[1;36m-0.362140\u001b[0m\u001b[35m                                         \u001b[0m\u001b[35m \u001b[0m│\u001b[32m                        \u001b[0m│ ┃\n",
              "┃ │\u001b[36m                         \u001b[0m│\u001b[35m \u001b[0m\u001b[1;36m2\u001b[0m\u001b[35m     \u001b[0m\u001b[1;36m-0.167163\u001b[0m\u001b[35m                                         \u001b[0m\u001b[35m \u001b[0m│\u001b[32m                        \u001b[0m│ ┃\n",
              "┃ │\u001b[36m                         \u001b[0m│\u001b[35m \u001b[0m\u001b[1;36m3\u001b[0m\u001b[35m     \u001b[0m\u001b[1;36m-0.074994\u001b[0m\u001b[35m                                         \u001b[0m\u001b[35m \u001b[0m│\u001b[32m                        \u001b[0m│ ┃\n",
              "┃ │\u001b[36m                         \u001b[0m│\u001b[35m \u001b[0m\u001b[1;36m4\u001b[0m\u001b[35m     \u001b[0m\u001b[1;36m-0.132199\u001b[0m\u001b[35m                                         \u001b[0m\u001b[35m \u001b[0m│\u001b[32m                        \u001b[0m│ ┃\n",
              "┃ │\u001b[36m                         \u001b[0m│\u001b[35m \u001b[0m\u001b[35m         \u001b[0m\u001b[33m...\u001b[0m\u001b[35m                                            \u001b[0m\u001b[35m \u001b[0m│\u001b[32m                        \u001b[0m│ ┃\n",
              "┃ │\u001b[36m                         \u001b[0m│\u001b[35m \u001b[0m\u001b[1;36m995\u001b[0m\u001b[35m   \u001b[0m\u001b[1;36m-0.192342\u001b[0m\u001b[35m                                         \u001b[0m\u001b[35m \u001b[0m│\u001b[32m                        \u001b[0m│ ┃\n",
              "┃ │\u001b[36m                         \u001b[0m│\u001b[35m \u001b[0m\u001b[1;36m996\u001b[0m\u001b[35m    \u001b[0m\u001b[1;36m0.026063\u001b[0m\u001b[35m                                         \u001b[0m\u001b[35m \u001b[0m│\u001b[32m                        \u001b[0m│ ┃\n",
              "┃ │\u001b[36m                         \u001b[0m│\u001b[35m \u001b[0m\u001b[1;36m997\u001b[0m\u001b[35m    \u001b[0m\u001b[1;36m0.120279\u001b[0m\u001b[35m                                         \u001b[0m\u001b[35m \u001b[0m│\u001b[32m                        \u001b[0m│ ┃\n",
              "┃ │\u001b[36m                         \u001b[0m│\u001b[35m \u001b[0m\u001b[1;36m998\u001b[0m\u001b[35m   \u001b[0m\u001b[1;36m-0.286211\u001b[0m\u001b[35m                                         \u001b[0m\u001b[35m \u001b[0m│\u001b[32m                        \u001b[0m│ ┃\n",
              "┃ │\u001b[36m                         \u001b[0m│\u001b[35m \u001b[0m\u001b[1;36m999\u001b[0m\u001b[35m   \u001b[0m\u001b[1;36m-0.062442\u001b[0m\u001b[35m                                         \u001b[0m\u001b[35m \u001b[0m│\u001b[32m                        \u001b[0m│ ┃\n",
              "┃ │\u001b[36m                         \u001b[0m│\u001b[35m \u001b[0m\u001b[35mLength: \u001b[0m\u001b[1;36m1000\u001b[0m\u001b[35m, dtype: float64                            \u001b[0m\u001b[35m \u001b[0m│\u001b[32m                        \u001b[0m│ ┃\n",
              "┃ ├─────────────────────────┼──────────────────────────────────────────────────────────┼────────────────────────┤ ┃\n",
              "┃ │\u001b[36m \u001b[0m\u001b[36m   Ljung Box Statistics\u001b[0m\u001b[36m \u001b[0m│\u001b[35m \u001b[0m\u001b[35m      lb_stat  lb_pvalue                                \u001b[0m\u001b[35m \u001b[0m│\u001b[32m \u001b[0m\u001b[1;32m{\u001b[0m\u001b[1;32m}\u001b[0m\u001b[32m                    \u001b[0m\u001b[32m \u001b[0m│ ┃\n",
              "┃ │\u001b[36m \u001b[0m\u001b[36m (ljung_box_statistics)\u001b[0m\u001b[36m \u001b[0m│\u001b[35m \u001b[0m\u001b[1;36m1\u001b[0m\u001b[35m    \u001b[0m\u001b[1;36m2.503303\u001b[0m\u001b[35m   \u001b[0m\u001b[1;36m0.113608\u001b[0m\u001b[35m                                \u001b[0m\u001b[35m \u001b[0m│\u001b[32m                        \u001b[0m│ ┃\n",
              "┃ │\u001b[36m                         \u001b[0m│\u001b[35m \u001b[0m\u001b[1;36m2\u001b[0m\u001b[35m   \u001b[0m\u001b[1;36m10.580516\u001b[0m\u001b[35m   \u001b[0m\u001b[1;36m0.005040\u001b[0m\u001b[35m                                \u001b[0m\u001b[35m \u001b[0m│\u001b[32m                        \u001b[0m│ ┃\n",
              "┃ │\u001b[36m                         \u001b[0m│\u001b[35m \u001b[0m\u001b[1;36m3\u001b[0m\u001b[35m   \u001b[0m\u001b[1;36m10.804751\u001b[0m\u001b[35m   \u001b[0m\u001b[1;36m0.012830\u001b[0m\u001b[35m                                \u001b[0m\u001b[35m \u001b[0m│\u001b[32m                        \u001b[0m│ ┃\n",
              "┃ │\u001b[36m                         \u001b[0m│\u001b[35m \u001b[0m\u001b[1;36m4\u001b[0m\u001b[35m   \u001b[0m\u001b[1;36m10.902936\u001b[0m\u001b[35m   \u001b[0m\u001b[1;36m0.027677\u001b[0m\u001b[35m                                \u001b[0m\u001b[35m \u001b[0m│\u001b[32m                        \u001b[0m│ ┃\n",
              "┃ │\u001b[36m                         \u001b[0m│\u001b[35m \u001b[0m\u001b[1;36m5\u001b[0m\u001b[35m   \u001b[0m\u001b[1;36m10.922538\u001b[0m\u001b[35m   \u001b[0m\u001b[1;36m0.052938\u001b[0m\u001b[35m                                \u001b[0m\u001b[35m \u001b[0m│\u001b[32m                        \u001b[0m│ ┃\n",
              "┃ │\u001b[36m                         \u001b[0m│\u001b[35m \u001b[0m\u001b[1;36m6\u001b[0m\u001b[35m   \u001b[0m\u001b[1;36m11.691806\u001b[0m\u001b[35m   \u001b[0m\u001b[1;36m0.069208\u001b[0m\u001b[35m                                \u001b[0m\u001b[35m \u001b[0m│\u001b[32m                        \u001b[0m│ ┃\n",
              "┃ │\u001b[36m                         \u001b[0m│\u001b[35m \u001b[0m\u001b[1;36m7\u001b[0m\u001b[35m   \u001b[0m\u001b[1;36m12.482598\u001b[0m\u001b[35m   \u001b[0m\u001b[1;36m0.085764\u001b[0m\u001b[35m                                \u001b[0m\u001b[35m \u001b[0m│\u001b[32m                        \u001b[0m│ ┃\n",
              "┃ │\u001b[36m                         \u001b[0m│\u001b[35m \u001b[0m\u001b[1;36m8\u001b[0m\u001b[35m   \u001b[0m\u001b[1;36m12.493186\u001b[0m\u001b[35m   \u001b[0m\u001b[1;36m0.130518\u001b[0m\u001b[35m                                \u001b[0m\u001b[35m \u001b[0m│\u001b[32m                        \u001b[0m│ ┃\n",
              "┃ │\u001b[36m                         \u001b[0m│\u001b[35m \u001b[0m\u001b[1;36m9\u001b[0m\u001b[35m   \u001b[0m\u001b[1;36m12.636844\u001b[0m\u001b[35m   \u001b[0m\u001b[1;36m0.179739\u001b[0m\u001b[35m                                \u001b[0m\u001b[35m \u001b[0m│\u001b[32m                        \u001b[0m│ ┃\n",
              "┃ │\u001b[36m                         \u001b[0m│\u001b[35m \u001b[0m\u001b[1;36m10\u001b[0m\u001b[35m  \u001b[0m\u001b[1;36m12.639565\u001b[0m\u001b[35m   \u001b[0m\u001b[1;36m0.244528\u001b[0m\u001b[35m                                \u001b[0m\u001b[35m \u001b[0m│\u001b[32m                        \u001b[0m│ ┃\n",
              "┃ ├─────────────────────────┼──────────────────────────────────────────────────────────┼────────────────────────┤ ┃\n",
              "┃ │\u001b[36m \u001b[0m\u001b[36m  Mean of the Residuals\u001b[0m\u001b[36m \u001b[0m│\u001b[35m \u001b[0m\u001b[1;36m0.002\u001b[0m\u001b[35m                                                   \u001b[0m\u001b[35m \u001b[0m│\u001b[32m \u001b[0m\u001b[1;32m{\u001b[0m\u001b[1;32m}\u001b[0m\u001b[32m                    \u001b[0m\u001b[32m \u001b[0m│ ┃\n",
              "┃ │\u001b[36m \u001b[0m\u001b[36m       (residuals_mean)\u001b[0m\u001b[36m \u001b[0m│\u001b[35m                                                          \u001b[0m│\u001b[32m                        \u001b[0m│ ┃\n",
              "┃ ├─────────────────────────┼──────────────────────────────────────────────────────────┼────────────────────────┤ ┃\n",
              "┃ │\u001b[36m \u001b[0m\u001b[36m  Standard Deviation of\u001b[0m\u001b[36m \u001b[0m│\u001b[35m \u001b[0m\u001b[1;36m0.139\u001b[0m\u001b[35m                                                   \u001b[0m\u001b[35m \u001b[0m│\u001b[32m \u001b[0m\u001b[1;32m{\u001b[0m\u001b[1;32m}\u001b[0m\u001b[32m                    \u001b[0m\u001b[32m \u001b[0m│ ┃\n",
              "┃ │\u001b[36m \u001b[0m\u001b[36m          the Residuals\u001b[0m\u001b[36m \u001b[0m│\u001b[35m                                                          \u001b[0m│\u001b[32m                        \u001b[0m│ ┃\n",
              "┃ │\u001b[36m \u001b[0m\u001b[36m        (residuals_std)\u001b[0m\u001b[36m \u001b[0m│\u001b[35m                                                          \u001b[0m│\u001b[32m                        \u001b[0m│ ┃\n",
              "┃ ╰─────────────────────────┴──────────────────────────────────────────────────────────┴────────────────────────╯ ┃\n",
              "┃ \u001b[3m                                         Forecast Errors - Regression                                          \u001b[0m ┃\n",
              "┃ ╭─────────────────────────┬──────────────────────────────────────────────────────────┬────────────────────────╮ ┃\n",
              "┃ │\u001b[36m \u001b[0m\u001b[36m    Mean Absolute Error\u001b[0m\u001b[36m \u001b[0m│\u001b[35m \u001b[0m\u001b[1;36m0.11\u001b[0m\u001b[35m                                                    \u001b[0m\u001b[35m \u001b[0m│\u001b[32m \u001b[0m\u001b[1;32m{\u001b[0m\u001b[1;32m}\u001b[0m\u001b[32m                    \u001b[0m\u001b[32m \u001b[0m│ ┃\n",
              "┃ │\u001b[36m \u001b[0m\u001b[36m                  (mae)\u001b[0m\u001b[36m \u001b[0m│\u001b[35m                                                          \u001b[0m│\u001b[32m                        \u001b[0m│ ┃\n",
              "┃ ├─────────────────────────┼──────────────────────────────────────────────────────────┼────────────────────────┤ ┃\n",
              "┃ │\u001b[36m \u001b[0m\u001b[36m          Mean Absolute\u001b[0m\u001b[36m \u001b[0m│\u001b[35m \u001b[0m\u001b[1;36m3.976\u001b[0m\u001b[35m                                                   \u001b[0m\u001b[35m \u001b[0m│\u001b[32m \u001b[0m\u001b[1;32m{\u001b[0m\u001b[1;32m}\u001b[0m\u001b[32m                    \u001b[0m\u001b[32m \u001b[0m│ ┃\n",
              "┃ │\u001b[36m \u001b[0m\u001b[36mPercentage Error (mape)\u001b[0m\u001b[36m \u001b[0m│\u001b[35m                                                          \u001b[0m│\u001b[32m                        \u001b[0m│ ┃\n",
              "┃ ├─────────────────────────┼──────────────────────────────────────────────────────────┼────────────────────────┤ ┃\n",
              "┃ │\u001b[36m \u001b[0m\u001b[36mSymmetric Mean Absolute\u001b[0m\u001b[36m \u001b[0m│\u001b[35m \u001b[0m\u001b[1;36m0.706\u001b[0m\u001b[35m                                                   \u001b[0m\u001b[35m \u001b[0m│\u001b[32m \u001b[0m\u001b[1;32m{\u001b[0m\u001b[1;32m}\u001b[0m\u001b[32m                    \u001b[0m\u001b[32m \u001b[0m│ ┃\n",
              "┃ │\u001b[36m \u001b[0m\u001b[36m       Percentage Error\u001b[0m\u001b[36m \u001b[0m│\u001b[35m                                                          \u001b[0m│\u001b[32m                        \u001b[0m│ ┃\n",
              "┃ │\u001b[36m \u001b[0m\u001b[36m                (smape)\u001b[0m\u001b[36m \u001b[0m│\u001b[35m                                                          \u001b[0m│\u001b[32m                        \u001b[0m│ ┃\n",
              "┃ ├─────────────────────────┼──────────────────────────────────────────────────────────┼────────────────────────┤ ┃\n",
              "┃ │\u001b[36m \u001b[0m\u001b[36m     Mean Squared Error\u001b[0m\u001b[36m \u001b[0m│\u001b[35m \u001b[0m\u001b[1;36m0.019\u001b[0m\u001b[35m                                                   \u001b[0m\u001b[35m \u001b[0m│\u001b[32m \u001b[0m\u001b[1;32m{\u001b[0m\u001b[32m'squared'\u001b[0m\u001b[32m: \u001b[0m\u001b[3;92mTrue\u001b[0m\u001b[1;32m}\u001b[0m\u001b[32m     \u001b[0m\u001b[32m \u001b[0m│ ┃\n",
              "┃ │\u001b[36m \u001b[0m\u001b[36m                  (mse)\u001b[0m\u001b[36m \u001b[0m│\u001b[35m                                                          \u001b[0m│\u001b[32m                        \u001b[0m│ ┃\n",
              "┃ ├─────────────────────────┼──────────────────────────────────────────────────────────┼────────────────────────┤ ┃\n",
              "┃ │\u001b[36m \u001b[0m\u001b[36mRoot Mean Squared Error\u001b[0m\u001b[36m \u001b[0m│\u001b[35m \u001b[0m\u001b[1;36m0.139\u001b[0m\u001b[35m                                                   \u001b[0m\u001b[35m \u001b[0m│\u001b[32m \u001b[0m\u001b[1;32m{\u001b[0m\u001b[32m'squared'\u001b[0m\u001b[32m: \u001b[0m\u001b[3;91mFalse\u001b[0m\u001b[1;32m}\u001b[0m\u001b[32m    \u001b[0m\u001b[32m \u001b[0m│ ┃\n",
              "┃ │\u001b[36m \u001b[0m\u001b[36m                 (rmse)\u001b[0m\u001b[36m \u001b[0m│\u001b[35m                                                          \u001b[0m│\u001b[32m                        \u001b[0m│ ┃\n",
              "┃ ├─────────────────────────┼──────────────────────────────────────────────────────────┼────────────────────────┤ ┃\n",
              "┃ │\u001b[36m \u001b[0m\u001b[36m  Root Mean Squared Log\u001b[0m\u001b[36m \u001b[0m│\u001b[35m \u001b[0m\u001b[32m'Mean Squared Logarithmic Error cannot be used when \u001b[0m\u001b[35m    \u001b[0m\u001b[35m \u001b[0m│\u001b[32m \u001b[0m\u001b[1;32m{\u001b[0m\u001b[32m'squared'\u001b[0m\u001b[32m: \u001b[0m\u001b[3;91mFalse\u001b[0m\u001b[1;32m}\u001b[0m\u001b[32m    \u001b[0m\u001b[32m \u001b[0m│ ┃\n",
              "┃ │\u001b[36m \u001b[0m\u001b[36m          Error (rmsle)\u001b[0m\u001b[36m \u001b[0m│\u001b[35m \u001b[0m\u001b[32mtargets contain negative values.'\u001b[0m\u001b[35m                       \u001b[0m\u001b[35m \u001b[0m│\u001b[32m                        \u001b[0m│ ┃\n",
              "┃ ├─────────────────────────┼──────────────────────────────────────────────────────────┼────────────────────────┤ ┃\n",
              "┃ │\u001b[36m \u001b[0m\u001b[36m      R-squared (r_two)\u001b[0m\u001b[36m \u001b[0m│\u001b[35m \u001b[0m\u001b[1;36m-1.012\u001b[0m\u001b[35m                                                  \u001b[0m\u001b[35m \u001b[0m│\u001b[32m \u001b[0m\u001b[1;32m{\u001b[0m\u001b[1;32m}\u001b[0m\u001b[32m                    \u001b[0m\u001b[32m \u001b[0m│ ┃\n",
              "┃ ╰─────────────────────────┴──────────────────────────────────────────────────────────┴────────────────────────╯ ┃\n",
              "┃                                                                                                                 ┃\n",
              "┗━━━━━━━━━━━━━━━━━━━━━━━━━━━━━━━━━━━━━━━━━━━━━━━━━━━━━━━━━━━━━━━━━━━━━━━━━━━━━━━━━━━━━━━━━━━━━━━━━━━━━━━━━━━━━━━━━┛\n"
            ]
          },
          "metadata": {},
          "output_type": "display_data"
        }
      ],
      "source": [
        "''' Printing a more detailed result by passing in `extended` (this is the default) '''\n",
        "scorecard.print('extended')"
      ]
    },
    {
      "attachments": {},
      "cell_type": "markdown",
      "metadata": {},
      "source": [
        "In jupyter notebook you can return the object and get a minimal report and the console representation printed (for exploring while debugging)"
      ]
    },
    {
      "cell_type": "code",
      "execution_count": 6,
      "metadata": {},
      "outputs": [
        {
          "data": {
            "text/html": [
              "<div>\n",
              "<style scoped>\n",
              "    .dataframe tbody tr th:only-of-type {\n",
              "        vertical-align: middle;\n",
              "    }\n",
              "\n",
              "    .dataframe tbody tr th {\n",
              "        vertical-align: top;\n",
              "    }\n",
              "\n",
              "    .dataframe thead th {\n",
              "        text-align: right;\n",
              "    }\n",
              "</style>\n",
              "<table border=\"1\" class=\"dataframe\">\n",
              "  <thead>\n",
              "    <tr style=\"text-align: right;\">\n",
              "      <th></th>\n",
              "      <th>Model_20230505-140606e39e6f5f</th>\n",
              "    </tr>\n",
              "  </thead>\n",
              "  <tbody>\n",
              "    <tr>\n",
              "      <th>Mean Absolute Error</th>\n",
              "      <td>0.110018</td>\n",
              "    </tr>\n",
              "    <tr>\n",
              "      <th>Mean Absolute Percentage Error</th>\n",
              "      <td>3.976101</td>\n",
              "    </tr>\n",
              "    <tr>\n",
              "      <th>Symmetric Mean Absolute Percentage Error</th>\n",
              "      <td>0.705801</td>\n",
              "    </tr>\n",
              "    <tr>\n",
              "      <th>Mean Squared Error</th>\n",
              "      <td>0.019441</td>\n",
              "    </tr>\n",
              "    <tr>\n",
              "      <th>Root Mean Squared Error</th>\n",
              "      <td>0.139431</td>\n",
              "    </tr>\n",
              "    <tr>\n",
              "      <th>R-squared</th>\n",
              "      <td>-1.011684</td>\n",
              "    </tr>\n",
              "    <tr>\n",
              "      <th>Mean of the Residuals</th>\n",
              "      <td>0.002267</td>\n",
              "    </tr>\n",
              "    <tr>\n",
              "      <th>Standard Deviation of the Residuals</th>\n",
              "      <td>0.139482</td>\n",
              "    </tr>\n",
              "  </tbody>\n",
              "</table>\n",
              "</div>"
            ],
            "text/plain": [
              "                                          Model_20230505-140606e39e6f5f\n",
              "                     Mean Absolute Error                       0.110018\n",
              "          Mean Absolute Percentage Error                       3.976101\n",
              "Symmetric Mean Absolute Percentage Error                       0.705801\n",
              "                      Mean Squared Error                       0.019441\n",
              "                 Root Mean Squared Error                       0.139431\n",
              "                               R-squared                      -1.011684\n",
              "                   Mean of the Residuals                       0.002267\n",
              "     Standard Deviation of the Residuals                       0.139482"
            ]
          },
          "metadata": {},
          "output_type": "display_data"
        },
        {
          "data": {
            "text/plain": [
              "<krisi.evaluate.scorecard.ScoreCard object at 0x296c16110>"
            ]
          },
          "execution_count": 6,
          "metadata": {},
          "output_type": "execute_result"
        }
      ],
      "source": [
        "scorecard"
      ]
    },
    {
      "attachments": {},
      "cell_type": "markdown",
      "metadata": {},
      "source": [
        "# Evaluating on a rolling basis\n",
        "\n",
        "The most important feature of `krisi` is that you can evaluate metrics over time."
      ]
    },
    {
      "cell_type": "code",
      "execution_count": 7,
      "metadata": {},
      "outputs": [
        {
          "name": "stderr",
          "output_type": "stream",
          "text": [
            "/Users/daniel/mambaforge/envs/krisitest/lib/python3.10/site-packages/sklearn/metrics/_regression.py:918: UndefinedMetricWarning: R^2 score is not well-defined with less than two samples.\n",
            "  warnings.warn(msg, UndefinedMetricWarning)\n"
          ]
        }
      ],
      "source": [
        "scorecard_rolling = score(y, predictions, calculation='rolling') # calculation can be 'rolling', 'single' or 'both'"
      ]
    },
    {
      "attachments": {},
      "cell_type": "markdown",
      "metadata": {},
      "source": [
        "We can then generate an `interactive` (html dash) and `pdf` report, but first let's save the scorecard!\n",
        "\n",
        "## Save and load ScoreCards\n",
        "\n",
        "When saving a scorecard we can decide if we also want to save the console output, by specifying `save_modes`. Options are: \n",
        "   * `SaveModes.minimal` (Minimal output as previously in the cell)\n",
        "   * `SaveModes.obj` (Saves the entire object to a pickle file)\n",
        "   * `SaveModes.text` (Saves the output of the console into a `txt` file)\n",
        "   * `SaveModes.svg` (Creates an `svg` image of the console output)\n",
        "   * `SaveModes.html` (Creates an `html` version of the console output)\n",
        "\n",
        "Let's just save the scorecard object that we can load in later, by passing in either `[SaveMode.obj]` or simply `[\"obj\"]`.\n",
        "\n",
        "Two things to note:\n",
        "* The scorecard gets saved by default to `output/<project_name>/<scorecards>/<current_time>`. However, we only need to worry about the `project_name` when loading, our helper function scans the directory of the specified project.\n",
        "* `ScoreCard.save()` throws back itself, so that you can immediately chain a `print()`"
      ]
    },
    {
      "cell_type": "code",
      "execution_count": 8,
      "metadata": {},
      "outputs": [
        {
          "data": {
            "text/html": [
              "<pre style=\"white-space:pre;overflow-x:auto;line-height:normal;font-family:Menlo,'DejaVu Sans Mono',consolas,'Courier New',monospace\"></pre>\n"
            ],
            "text/plain": []
          },
          "metadata": {},
          "output_type": "display_data"
        },
        {
          "data": {
            "text/html": [
              "<div>\n",
              "<style scoped>\n",
              "    .dataframe tbody tr th:only-of-type {\n",
              "        vertical-align: middle;\n",
              "    }\n",
              "\n",
              "    .dataframe tbody tr th {\n",
              "        vertical-align: top;\n",
              "    }\n",
              "\n",
              "    .dataframe thead th {\n",
              "        text-align: right;\n",
              "    }\n",
              "</style>\n",
              "<table border=\"1\" class=\"dataframe\">\n",
              "  <thead>\n",
              "    <tr style=\"text-align: right;\">\n",
              "      <th></th>\n",
              "      <th>Model_20230505-140606e39e6f5f</th>\n",
              "    </tr>\n",
              "  </thead>\n",
              "  <tbody>\n",
              "    <tr>\n",
              "      <th>Mean Absolute Error</th>\n",
              "      <td>0.110018</td>\n",
              "    </tr>\n",
              "    <tr>\n",
              "      <th>Mean Absolute Percentage Error</th>\n",
              "      <td>3.976101</td>\n",
              "    </tr>\n",
              "    <tr>\n",
              "      <th>Symmetric Mean Absolute Percentage Error</th>\n",
              "      <td>0.705801</td>\n",
              "    </tr>\n",
              "    <tr>\n",
              "      <th>Mean Squared Error</th>\n",
              "      <td>0.019441</td>\n",
              "    </tr>\n",
              "    <tr>\n",
              "      <th>Root Mean Squared Error</th>\n",
              "      <td>0.139431</td>\n",
              "    </tr>\n",
              "    <tr>\n",
              "      <th>R-squared</th>\n",
              "      <td>-1.011684</td>\n",
              "    </tr>\n",
              "    <tr>\n",
              "      <th>Mean of the Residuals</th>\n",
              "      <td>0.002267</td>\n",
              "    </tr>\n",
              "    <tr>\n",
              "      <th>Standard Deviation of the Residuals</th>\n",
              "      <td>0.139482</td>\n",
              "    </tr>\n",
              "  </tbody>\n",
              "</table>\n",
              "</div>"
            ],
            "text/plain": [
              "                                          Model_20230505-140606e39e6f5f\n",
              "                     Mean Absolute Error                       0.110018\n",
              "          Mean Absolute Percentage Error                       3.976101\n",
              "Symmetric Mean Absolute Percentage Error                       0.705801\n",
              "                      Mean Squared Error                       0.019441\n",
              "                 Root Mean Squared Error                       0.139431\n",
              "                               R-squared                      -1.011684\n",
              "                   Mean of the Residuals                       0.002267\n",
              "     Standard Deviation of the Residuals                       0.139482"
            ]
          },
          "metadata": {},
          "output_type": "display_data"
        }
      ],
      "source": [
        "scorecard.metadata.project_name = \"Our example project\"\n",
        "scorecard.save(save_modes=[\"obj\"]).print('minimal')"
      ]
    },
    {
      "attachments": {},
      "cell_type": "markdown",
      "metadata": {},
      "source": [
        "Once we have saved the object we can load it in. `load_scorecards` loads in all `scorecards` from a project"
      ]
    },
    {
      "cell_type": "code",
      "execution_count": 9,
      "metadata": {},
      "outputs": [],
      "source": [
        "from krisi import load_scorecards\n",
        "\n",
        "last_scorecard = load_scorecards(\"Our example project\")[-1]"
      ]
    },
    {
      "attachments": {},
      "cell_type": "markdown",
      "metadata": {},
      "source": [
        "# Creating Reports\n",
        "\n",
        "For reporting you need to install `krisi[plotting]`: `pip install krisi[plotting]`\n",
        "\n",
        "There are five modes for reports:\n",
        "   * `DisplayMode.pdf` or `pdf`: Creates a pdf report from the evaluated `ScoreCard`)\n",
        "   * `DisplayMode.interactive` or `interactive`: Creates an interactive web version of the `ScoreCard` with `Dash`)\n",
        "   * `DisplayMode.direct` or `direct`: Displays the plots individually directly in the notebook or webpage if launch outside of a notebook\n",
        "   * `DisplayMode.direct_save` or `direct_save`:  Saves the plots individually\n",
        "   * `DisplayMode.direct_one_subplot` or `direct_one_subplot`: Same as `direct`, except all plots are contained in one plot as subplots.\n",
        "\n",
        "`scorecard.generate_report()` can receive a list of `DisplayModes` so you can mix and match the view (eg.: generate a pdf and also launch an interactive exploration)"
      ]
    },
    {
      "cell_type": "code",
      "execution_count": 10,
      "metadata": {},
      "outputs": [
        {
          "data": {
            "text/html": [
              "\n",
              "        <iframe\n",
              "            width=\"100%\"\n",
              "            height=\"650\"\n",
              "            src=\"http://127.0.0.1:8050/\"\n",
              "            frameborder=\"0\"\n",
              "            allowfullscreen\n",
              "            \n",
              "        ></iframe>\n",
              "        "
            ],
            "text/plain": [
              "<IPython.lib.display.IFrame at 0x2a28e94e0>"
            ]
          },
          "metadata": {},
          "output_type": "display_data"
        }
      ],
      "source": [
        "last_scorecard.generate_report('interactive')"
      ]
    },
    {
      "cell_type": "code",
      "execution_count": null,
      "metadata": {},
      "outputs": [],
      "source": [
        "last_scorecard.generate_report(['direct_one_subplot', 'pdf'])"
      ]
    },
    {
      "attachments": {},
      "cell_type": "markdown",
      "metadata": {},
      "source": [
        "## Compare multiple scorecards"
      ]
    },
    {
      "cell_type": "code",
      "execution_count": null,
      "metadata": {},
      "outputs": [],
      "source": [
        "from krisi import compare\n",
        "\n",
        "compare([score(np.random.normal(0, 0.1, 1000), np.random.normal(0, 0.1, 1000)) for _ in range(5)], sort_by='rmse', metric_keys=['mae', 'mse'])"
      ]
    },
    {
      "attachments": {},
      "cell_type": "markdown",
      "metadata": {},
      "source": [
        "You can also save scorecards and load them in. `krisi` will save and load from the directory under the same `project_name` so we should specify the name."
      ]
    },
    {
      "cell_type": "code",
      "execution_count": null,
      "metadata": {},
      "outputs": [],
      "source": [
        "project_name = \"Comparing Multiple Scorecards\"\n",
        "\n",
        "for i in range(5):\n",
        "    score(np.random.normal(0, 0.1, 1000), \n",
        "          np.random.normal(0, 0.1, 1000), \n",
        "          project_name=project_name).save()\n",
        "\n",
        "compare(load_scorecards(project_name), sort_by='rmse', metric_keys=['mae', 'mse'])"
      ]
    }
  ],
  "metadata": {
    "kernelspec": {
      "display_name": "krisitest",
      "language": "python",
      "name": "python3"
    },
    "language_info": {
      "codemirror_mode": {
        "name": "ipython",
        "version": 3
      },
      "file_extension": ".py",
      "mimetype": "text/x-python",
      "name": "python",
      "nbconvert_exporter": "python",
      "pygments_lexer": "ipython3",
      "version": "3.10.8"
    },
    "orig_nbformat": 4,
    "vscode": {
      "interpreter": {
        "hash": "681962a5ad02373fe6ace3c9a12cb4fcf99f6a43b070388c677260f5a10dc84e"
      }
    }
  },
  "nbformat": 4,
  "nbformat_minor": 2
}
